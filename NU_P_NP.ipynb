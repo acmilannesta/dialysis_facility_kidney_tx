{
  "nbformat": 4,
  "nbformat_minor": 0,
  "metadata": {
    "colab": {
      "name": "Facility_table3.ipynb",
      "provenance": [],
      "collapsed_sections": [],
      "toc_visible": true
    },
    "kernelspec": {
      "name": "python3",
      "display_name": "Python 3"
    },
    "accelerator": "GPU"
  },
  "cells": [
    {
      "cell_type": "markdown",
      "metadata": {
        "id": "H7ItOyteBty0",
        "colab_type": "text"
      },
      "source": [
        "# JAMA revision round 4"
      ]
    },
    {
      "cell_type": "code",
      "metadata": {
        "id": "nDDlQCI6003-",
        "colab_type": "code",
        "outputId": "6aedc980-1657-4f98-a7f3-1452481b988a",
        "colab": {
          "base_uri": "https://localhost:8080/",
          "height": 369
        }
      },
      "source": [
        "!pip install lifelines"
      ],
      "execution_count": 1,
      "outputs": [
        {
          "output_type": "stream",
          "text": [
            "Collecting lifelines\n",
            "\u001b[?25l  Downloading https://files.pythonhosted.org/packages/2c/24/12f3898a716d09b1793584d38e0a37aad22d8ee7cef3c5e708b98a836882/lifelines-0.22.7-py2.py3-none-any.whl (338kB)\n",
            "\u001b[K     |████████████████████████████████| 348kB 46.0MB/s \n",
            "\u001b[?25hRequirement already satisfied: pandas>=0.23.0 in /usr/local/lib/python3.6/dist-packages (from lifelines) (0.24.2)\n",
            "Requirement already satisfied: matplotlib>=3.0 in /usr/local/lib/python3.6/dist-packages (from lifelines) (3.0.3)\n",
            "Requirement already satisfied: scipy>=1.0 in /usr/local/lib/python3.6/dist-packages (from lifelines) (1.3.1)\n",
            "Collecting autograd-gamma>=0.3 (from lifelines)\n",
            "  Downloading https://files.pythonhosted.org/packages/3e/87/788c4bf90cc5c534cb3b7fdb5b719175e33e2658decce75e35e2ce69766f/autograd_gamma-0.4.1-py2.py3-none-any.whl\n",
            "Requirement already satisfied: numpy>=1.14.0 in /usr/local/lib/python3.6/dist-packages (from lifelines) (1.16.5)\n",
            "Requirement already satisfied: autograd>=1.3 in /usr/local/lib/python3.6/dist-packages (from lifelines) (1.3)\n",
            "Requirement already satisfied: python-dateutil>=2.5.0 in /usr/local/lib/python3.6/dist-packages (from pandas>=0.23.0->lifelines) (2.5.3)\n",
            "Requirement already satisfied: pytz>=2011k in /usr/local/lib/python3.6/dist-packages (from pandas>=0.23.0->lifelines) (2018.9)\n",
            "Requirement already satisfied: pyparsing!=2.0.4,!=2.1.2,!=2.1.6,>=2.0.1 in /usr/local/lib/python3.6/dist-packages (from matplotlib>=3.0->lifelines) (2.4.2)\n",
            "Requirement already satisfied: cycler>=0.10 in /usr/local/lib/python3.6/dist-packages (from matplotlib>=3.0->lifelines) (0.10.0)\n",
            "Requirement already satisfied: kiwisolver>=1.0.1 in /usr/local/lib/python3.6/dist-packages (from matplotlib>=3.0->lifelines) (1.1.0)\n",
            "Requirement already satisfied: future>=0.15.2 in /usr/local/lib/python3.6/dist-packages (from autograd>=1.3->lifelines) (0.16.0)\n",
            "Requirement already satisfied: six>=1.5 in /usr/local/lib/python3.6/dist-packages (from python-dateutil>=2.5.0->pandas>=0.23.0->lifelines) (1.12.0)\n",
            "Requirement already satisfied: setuptools in /usr/local/lib/python3.6/dist-packages (from kiwisolver>=1.0.1->matplotlib>=3.0->lifelines) (41.2.0)\n",
            "Installing collected packages: autograd-gamma, lifelines\n",
            "Successfully installed autograd-gamma-0.4.1 lifelines-0.22.7\n"
          ],
          "name": "stdout"
        }
      ]
    },
    {
      "cell_type": "markdown",
      "metadata": {
        "id": "Y-en___SB6iu",
        "colab_type": "text"
      },
      "source": [
        "## Import packages\n",
        "\n"
      ]
    },
    {
      "cell_type": "code",
      "metadata": {
        "id": "00Rn5KMozIK9",
        "colab_type": "code",
        "outputId": "ae8b2e36-5835-4bc1-fef1-a48593569251",
        "colab": {
          "base_uri": "https://localhost:8080/",
          "height": 90
        }
      },
      "source": [
        "import pandas as pd, numpy as np, re\n",
        "from numpy import exp, mean\n",
        "from fancyimpute import IterativeImputer\n",
        "from sklearn.ensemble import RandomForestClassifier\n",
        "from lifelines import CoxPHFitter, AalenJohansenFitter, KaplanMeierFitter\n",
        "import warnings\n",
        "warnings.filterwarnings('ignore')"
      ],
      "execution_count": 2,
      "outputs": [
        {
          "output_type": "stream",
          "text": [
            "/usr/local/lib/python3.6/dist-packages/sklearn/externals/six.py:31: DeprecationWarning: The module is deprecated in version 0.21 and will be removed in version 0.23 since we've dropped support for Python 2.7. Please rely on the official version of six (https://pypi.org/project/six/).\n",
            "  \"(https://pypi.org/project/six/).\", DeprecationWarning)\n",
            "Using TensorFlow backend.\n"
          ],
          "name": "stderr"
        }
      ]
    },
    {
      "cell_type": "code",
      "metadata": {
        "id": "VqDzEmUndAN5",
        "colab_type": "code",
        "outputId": "4a569b3f-3017-4951-b593-2a76baa14006",
        "colab": {
          "base_uri": "https://localhost:8080/",
          "height": 125
        }
      },
      "source": [
        "from google.colab import drive\n",
        "drive.mount('/content/drive')"
      ],
      "execution_count": 3,
      "outputs": [
        {
          "output_type": "stream",
          "text": [
            "Go to this URL in a browser: https://accounts.google.com/o/oauth2/auth?client_id=947318989803-6bn6qk8qdgf4n4g3pfee6491hc0brc4i.apps.googleusercontent.com&redirect_uri=urn%3Aietf%3Awg%3Aoauth%3A2.0%3Aoob&scope=email%20https%3A%2F%2Fwww.googleapis.com%2Fauth%2Fdocs.test%20https%3A%2F%2Fwww.googleapis.com%2Fauth%2Fdrive%20https%3A%2F%2Fwww.googleapis.com%2Fauth%2Fdrive.photos.readonly%20https%3A%2F%2Fwww.googleapis.com%2Fauth%2Fpeopleapi.readonly&response_type=code\n",
            "\n",
            "Enter your authorization code:\n",
            "··········\n",
            "Mounted at /content/drive\n"
          ],
          "name": "stdout"
        }
      ]
    },
    {
      "cell_type": "markdown",
      "metadata": {
        "id": "TY5wkW5xIwqs",
        "colab_type": "text"
      },
      "source": [
        "## **Read data**"
      ]
    },
    {
      "cell_type": "code",
      "metadata": {
        "id": "FSOOxHrj28Di",
        "colab_type": "code",
        "colab": {}
      },
      "source": [
        "# whole cohort (N=1,726,629, 26 features)\n",
        "d = pd.read_csv('drive/My Drive/facility/Pat_usrds17_bef_dfcdrf_merge.csv')\n",
        "d = d.loc[d['NU_P_NP'].isin(['For-profit', 'Non-profit'])]"
      ],
      "execution_count": 0,
      "outputs": []
    },
    {
      "cell_type": "code",
      "metadata": {
        "id": "E417WEp0adL3",
        "colab_type": "code",
        "colab": {
          "base_uri": "https://localhost:8080/",
          "height": 52
        },
        "outputId": "28de5af3-76bd-400e-e514-5b39d238b553"
      },
      "source": [
        "print(d[var].shape)\n",
        "print(imputed[var].shape)"
      ],
      "execution_count": 64,
      "outputs": [
        {
          "output_type": "stream",
          "text": [
            "(1675259,)\n",
            "(1675259,)\n"
          ],
          "name": "stdout"
        }
      ]
    },
    {
      "cell_type": "markdown",
      "metadata": {
        "id": "HGQmKndzCPhD",
        "colab_type": "text"
      },
      "source": [
        "#**Multiple imputation**"
      ]
    },
    {
      "cell_type": "markdown",
      "metadata": {
        "id": "HXdvjdj8HyFG",
        "colab_type": "text"
      },
      "source": [
        "\n",
        "##**Random forest imputation for categorical**"
      ]
    },
    {
      "cell_type": "code",
      "metadata": {
        "id": "JUn4sG8n1YpT",
        "colab_type": "code",
        "colab": {}
      },
      "source": [
        "pred = ['sex_new', 'age_cat', 'race_new', 'insurance_esrd']\n",
        "imputer = IterativeImputer(n_iter=1, random_state=7, predictor=RandomForestClassifier(n_estimators=10))\n",
        "imputed = pd.DataFrame(imputer.fit_transform(d[pred]), columns=pred)\n",
        "d[var] = imputed[var]"
      ],
      "execution_count": 0,
      "outputs": []
    },
    {
      "cell_type": "code",
      "metadata": {
        "id": "0k__M32bYqTL",
        "colab_type": "code",
        "colab": {
          "base_uri": "https://localhost:8080/",
          "height": 140
        },
        "outputId": "414530a7-c056-42b0-bde2-3100ff71ef1f"
      },
      "source": [
        "d.age_cat.value_counts(dropna=False)"
      ],
      "execution_count": 72,
      "outputs": [
        {
          "output_type": "execute_result",
          "data": {
            "text/plain": [
              "6    646813\n",
              "5    411352\n",
              "4    316933\n",
              "3    174266\n",
              "2     83690\n",
              "1     42205\n",
              "Name: age_cat, dtype: int64"
            ]
          },
          "metadata": {
            "tags": []
          },
          "execution_count": 72
        }
      ]
    },
    {
      "cell_type": "code",
      "metadata": {
        "id": "RPWPXpP4aIn_",
        "colab_type": "code",
        "colab": {
          "base_uri": "https://localhost:8080/",
          "height": 34
        },
        "outputId": "963af12b-5335-493f-b286-95d1fa93beb2"
      },
      "source": [
        "d.shape"
      ],
      "execution_count": 51,
      "outputs": [
        {
          "output_type": "execute_result",
          "data": {
            "text/plain": [
              "(1675259, 26)"
            ]
          },
          "metadata": {
            "tags": []
          },
          "execution_count": 51
        }
      ]
    },
    {
      "cell_type": "markdown",
      "metadata": {
        "id": "0kH16VvFIJkD",
        "colab_type": "text"
      },
      "source": [
        "#**Create cohort for Cox model**\n",
        "\n",
        "**1) dummy code and order levels based on table**\n",
        "\n",
        "**2) drop unneeded variables**"
      ]
    },
    {
      "cell_type": "code",
      "metadata": {
        "id": "RPTmCPR035rC",
        "colab_type": "code",
        "colab": {}
      },
      "source": [
        "# standard cohort\n",
        "PH_data = d[['PROVUSRD', 'NU_P_NP', 'sex_new', 'age_cat', 'race_new', 'esrd_cause', 'bmi_35',\n",
        "                 'ashd_new', 'chf',\t'other_cardiac', 'cva_new',\t'pvasc_new', 'hypertension', 'diabetes', 'copd_new',\n",
        "                 'smoke_new', 'cancer_new', 'insurance_esrd', 'PATTXOP_MEDUNFITn','nephcare_cat','wl', 'wl_time', 'livingd', 'ld_time', 'deceasedt', 'dec_time']]\n",
        "PH_data = PH_data.join(pd.get_dummies(pd.Categorical(PH_data.insurance_esrd, [3, 2, 1, 4, 5], True), prefix='insurance_esrd', drop_first=True))\n",
        "PH_data = PH_data.join(pd.get_dummies(pd.Categorical(PH_data.age_cat, [5, 1, 2, 3, 4, 6], True), prefix='age_cat', drop_first=True)) # delete category \"6\" for ideal cohort!\n",
        "PH_data = PH_data.join(pd.get_dummies(PH_data.race_new, prefix='race_new', drop_first=True))\n",
        "PH_data = PH_data.join(pd.get_dummies(PH_data.esrd_cause, prefix='esrd_cause', drop_first=True))\n",
        "PH_data = PH_data.join(pd.get_dummies(pd.Categorical(PH_data.NU_P_NP, ['Non-profit', 'For-profit'], True), prefix='profit_status', drop_first=True))\n",
        "PH_data = PH_data.drop(['insurance_esrd', 'esrd_cause', 'age_cat', 'race_new', 'NU_P_NP'], axis=1)\n",
        "PH_data = PH_data.dropna()"
      ],
      "execution_count": 0,
      "outputs": []
    },
    {
      "cell_type": "code",
      "metadata": {
        "id": "gLpH-6W8b5zf",
        "colab_type": "code",
        "colab": {
          "base_uri": "https://localhost:8080/",
          "height": 175
        },
        "outputId": "35bf42d8-6a31-41b6-b766-3bc93fe36cb6"
      },
      "source": [
        "PH_data.columns"
      ],
      "execution_count": 80,
      "outputs": [
        {
          "output_type": "execute_result",
          "data": {
            "text/plain": [
              "Index(['PROVUSRD', 'sex_new', 'bmi_35', 'ashd_new', 'chf', 'other_cardiac',\n",
              "       'cva_new', 'pvasc_new', 'hypertension', 'diabetes', 'copd_new',\n",
              "       'smoke_new', 'cancer_new', 'PATTXOP_MEDUNFITn', 'nephcare_cat', 'wl',\n",
              "       'wl_time', 'livingd', 'ld_time', 'deceasedt', 'dec_time',\n",
              "       'insurance_esrd_2', 'insurance_esrd_1', 'insurance_esrd_4',\n",
              "       'insurance_esrd_5', 'age_cat_1', 'age_cat_2', 'age_cat_3', 'age_cat_4',\n",
              "       'age_cat_6', 'race_new_2', 'race_new_3', 'race_new_4', 'esrd_cause_2',\n",
              "       'esrd_cause_3', 'esrd_cause_4', 'profit_status_For-profit'],\n",
              "      dtype='object')"
            ]
          },
          "metadata": {
            "tags": []
          },
          "execution_count": 80
        }
      ]
    },
    {
      "cell_type": "code",
      "metadata": {
        "id": "RL4xX5BLtPC-",
        "colab_type": "code",
        "colab": {
          "base_uri": "https://localhost:8080/",
          "height": 175
        },
        "outputId": "5ae09403-637c-48ec-de8b-4f0faf185cd5"
      },
      "source": [
        "cph = CoxPHFitter()\n",
        "for time, status in zip(['wl_time', 'ld_time', 'dec_time'], ['wl', 'livingd', 'deceasedt']):\n",
        "  print('-'*30, status,'-'*30)\n",
        "  for exposure in ['profit_status_For-profit']:\n",
        "    crude = '|'.join([exposure, time, status])\n",
        "    model1 = crude + '|sex_new|age_cat|race_new'\n",
        "    model2 = model1 + 'esrd_cause|bmi_35|ashd_new|other_cardiac|hypertension|diabetes|'\\\n",
        "                  'copd_new|smoke_new|cancer_new|chf|cva_new|pvasc_new'\n",
        "    model3 = model2 + '|insurance_esrd|PATTXOP_MEDUNFITn' #PATTXOP_MEDUNFITn'\n",
        "    cph.fit(PH_data.filter(regex=model3), duration_col=time, event_col=status, step_size=0.5)\n",
        "    print(round(pd.concat([cph.hazard_ratios_[cph.hazard_ratios_.index.str.contains(exposure)].rename('HR'), exp(cph.confidence_intervals_[cph.confidence_intervals_.index.str.contains(exposure)])], 1), 2))"
      ],
      "execution_count": 81,
      "outputs": [
        {
          "output_type": "stream",
          "text": [
            "------------------------------ wl ------------------------------\n",
            "                            HR  95% lower-bound  95% upper-bound\n",
            "profit_status_For-profit  0.67             0.67             0.68\n",
            "------------------------------ livingd ------------------------------\n",
            "                            HR  95% lower-bound  95% upper-bound\n",
            "profit_status_For-profit  0.78             0.77              0.8\n",
            "------------------------------ deceasedt ------------------------------\n",
            "                            HR  95% lower-bound  95% upper-bound\n",
            "profit_status_For-profit  0.85             0.84             0.87\n"
          ],
          "name": "stdout"
        }
      ]
    }
  ]
}