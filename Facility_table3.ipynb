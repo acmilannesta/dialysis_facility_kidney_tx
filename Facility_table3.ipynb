{
  "nbformat": 4,
  "nbformat_minor": 0,
  "metadata": {
    "colab": {
      "name": "Facility_table3.ipynb",
      "version": "0.3.2",
      "provenance": [],
      "collapsed_sections": [],
      "toc_visible": true
    },
    "kernelspec": {
      "name": "python3",
      "display_name": "Python 3"
    },
    "accelerator": "GPU"
  },
  "cells": [
    {
      "cell_type": "markdown",
      "metadata": {
        "id": "H7ItOyteBty0",
        "colab_type": "text"
      },
      "source": [
        "# JAMA revision round 4"
      ]
    },
    {
      "cell_type": "code",
      "metadata": {
        "id": "nDDlQCI6003-",
        "colab_type": "code",
        "outputId": "04c407b1-8041-4c36-aade-528a21390e74",
        "colab": {
          "base_uri": "https://localhost:8080/",
          "height": 336
        }
      },
      "source": [
        "!pip install lifelines"
      ],
      "execution_count": 1,
      "outputs": [
        {
          "output_type": "stream",
          "text": [
            "Collecting lifelines\n",
            "\u001b[?25l  Downloading https://files.pythonhosted.org/packages/e0/cd/6fac2d98bfe1ecc97382ca08a40c24dccc5a30aa6aa0ca34255a0512f052/lifelines-0.21.2-py3-none-any.whl (326kB)\n",
            "\u001b[K     |████████████████████████████████| 327kB 5.1MB/s \n",
            "\u001b[?25hRequirement already satisfied: scipy>=1.0 in /usr/local/lib/python3.6/dist-packages (from lifelines) (1.3.0)\n",
            "Requirement already satisfied: pandas>=0.23.0 in /usr/local/lib/python3.6/dist-packages (from lifelines) (0.24.2)\n",
            "Requirement already satisfied: autograd>=1.2 in /usr/local/lib/python3.6/dist-packages (from lifelines) (1.2)\n",
            "Requirement already satisfied: bottleneck>=1.0 in /usr/local/lib/python3.6/dist-packages (from lifelines) (1.2.1)\n",
            "Requirement already satisfied: numpy>=1.6.0 in /usr/local/lib/python3.6/dist-packages (from lifelines) (1.16.3)\n",
            "Requirement already satisfied: matplotlib>=3.0 in /usr/local/lib/python3.6/dist-packages (from lifelines) (3.0.3)\n",
            "Requirement already satisfied: python-dateutil>=2.5.0 in /usr/local/lib/python3.6/dist-packages (from pandas>=0.23.0->lifelines) (2.5.3)\n",
            "Requirement already satisfied: pytz>=2011k in /usr/local/lib/python3.6/dist-packages (from pandas>=0.23.0->lifelines) (2018.9)\n",
            "Requirement already satisfied: future>=0.15.2 in /usr/local/lib/python3.6/dist-packages (from autograd>=1.2->lifelines) (0.16.0)\n",
            "Requirement already satisfied: kiwisolver>=1.0.1 in /usr/local/lib/python3.6/dist-packages (from matplotlib>=3.0->lifelines) (1.1.0)\n",
            "Requirement already satisfied: cycler>=0.10 in /usr/local/lib/python3.6/dist-packages (from matplotlib>=3.0->lifelines) (0.10.0)\n",
            "Requirement already satisfied: pyparsing!=2.0.4,!=2.1.2,!=2.1.6,>=2.0.1 in /usr/local/lib/python3.6/dist-packages (from matplotlib>=3.0->lifelines) (2.4.0)\n",
            "Requirement already satisfied: six>=1.5 in /usr/local/lib/python3.6/dist-packages (from python-dateutil>=2.5.0->pandas>=0.23.0->lifelines) (1.12.0)\n",
            "Requirement already satisfied: setuptools in /usr/local/lib/python3.6/dist-packages (from kiwisolver>=1.0.1->matplotlib>=3.0->lifelines) (41.0.1)\n",
            "Installing collected packages: lifelines\n",
            "Successfully installed lifelines-0.21.2\n"
          ],
          "name": "stdout"
        }
      ]
    },
    {
      "cell_type": "markdown",
      "metadata": {
        "id": "Y-en___SB6iu",
        "colab_type": "text"
      },
      "source": [
        "## Import packages"
      ]
    },
    {
      "cell_type": "code",
      "metadata": {
        "id": "00Rn5KMozIK9",
        "colab_type": "code",
        "colab": {}
      },
      "source": [
        "import pandas as pd, numpy as np, re\n",
        "from numpy import exp, mean\n",
        "from fancyimpute import IterativeImputer\n",
        "from sklearn.ensemble import RandomForestClassifier\n",
        "from lifelines import CoxPHFitter, AalenJohansenFitter, KaplanMeierFitter"
      ],
      "execution_count": 0,
      "outputs": []
    },
    {
      "cell_type": "code",
      "metadata": {
        "id": "VqDzEmUndAN5",
        "colab_type": "code",
        "outputId": "647eb0dd-2430-4a64-dc88-2fc4b895c3ca",
        "colab": {
          "base_uri": "https://localhost:8080/",
          "height": 121
        }
      },
      "source": [
        "from google.colab import drive\n",
        "drive.mount('/content/drive')"
      ],
      "execution_count": 4,
      "outputs": [
        {
          "output_type": "stream",
          "text": [
            "Go to this URL in a browser: https://accounts.google.com/o/oauth2/auth?client_id=947318989803-6bn6qk8qdgf4n4g3pfee6491hc0brc4i.apps.googleusercontent.com&redirect_uri=urn%3Aietf%3Awg%3Aoauth%3A2.0%3Aoob&scope=email%20https%3A%2F%2Fwww.googleapis.com%2Fauth%2Fdocs.test%20https%3A%2F%2Fwww.googleapis.com%2Fauth%2Fdrive%20https%3A%2F%2Fwww.googleapis.com%2Fauth%2Fdrive.photos.readonly%20https%3A%2F%2Fwww.googleapis.com%2Fauth%2Fpeopleapi.readonly&response_type=code\n",
            "\n",
            "Enter your authorization code:\n",
            "··········\n",
            "Mounted at /content/drive\n"
          ],
          "name": "stdout"
        }
      ]
    },
    {
      "cell_type": "markdown",
      "metadata": {
        "id": "TY5wkW5xIwqs",
        "colab_type": "text"
      },
      "source": [
        "## **Read data**"
      ]
    },
    {
      "cell_type": "code",
      "metadata": {
        "id": "FSOOxHrj28Di",
        "colab_type": "code",
        "colab": {}
      },
      "source": [
        "# whole cohort (N=1,478,506)\n",
        "d = pd.read_csv('drive/My Drive/facility/Fortable3mi_ld_dec_censored.csv')\n",
        "d['rucc_rural'] = np.where(d.RUCC_2013.isin([1, 2, 3]), 0, (np.where(d.RUCC_2013.isna(), np.nan, 1)))\n",
        "d = d.drop(['RUCC_2013'], axis=1)\n",
        "# d.loc[d['wl_time']>24, 'wl']=0\n",
        "# d.loc[d['wl_time']>24, 'wl_time']=24\n",
        "# d.loc[d['ld_time']>24, 'livingd']=0\n",
        "# d.loc[d['ld_time']>24, 'ld_time']=24\n",
        "# d.loc[d['dec_time']>24, 'deceasedt']=0\n",
        "# d.loc[d['dec_time']>24, 'dec_time']=24\n",
        "# d.to_csv('drive/My Drive/facility/jama_round4.csv', index=False)"
      ],
      "execution_count": 0,
      "outputs": []
    },
    {
      "cell_type": "markdown",
      "metadata": {
        "id": "HGQmKndzCPhD",
        "colab_type": "text"
      },
      "source": [
        "#**Multiple imputation**"
      ]
    },
    {
      "cell_type": "markdown",
      "metadata": {
        "id": "HXdvjdj8HyFG",
        "colab_type": "text"
      },
      "source": [
        "\n",
        "##**Random forest imputation for categorical**"
      ]
    },
    {
      "cell_type": "code",
      "metadata": {
        "id": "JUn4sG8n1YpT",
        "colab_type": "code",
        "colab": {}
      },
      "source": [
        "for var in ['dialysis_mod1', 'insurance_esrd', 'rucc_rural', 'nephcare_cat2']:\n",
        "    pred = ['sex_new', 'age_cat', 'race_new', var]\n",
        "    imputer = IterativeImputer(n_iter=1, random_state=7, predictor=RandomForestClassifier(n_estimators=10))\n",
        "    imputed = pd.DataFrame(imputer.fit_transform(d[pred]), columns=pred)\n",
        "    d = d.drop(var, axis=1).join(imputed[var])"
      ],
      "execution_count": 0,
      "outputs": []
    },
    {
      "cell_type": "markdown",
      "metadata": {
        "id": "gt27VI7ZH7Yi",
        "colab_type": "text"
      },
      "source": [
        "\n",
        "##**Bayesian Ridge linear imputation for continuous**\n"
      ]
    },
    {
      "cell_type": "code",
      "metadata": {
        "id": "dZh15RQI1b31",
        "colab_type": "code",
        "colab": {}
      },
      "source": [
        "for var in ['Hospitalization_Rate_facility', 'Mortality_Rate_Facility', 'NEAR_DIST']:\n",
        "    completed = []\n",
        "    for i in range(5):\n",
        "        pred = ['sex_new', 'age_cat', 'race_new', var]\n",
        "        imputer = IterativeImputer(n_iter=5, sample_posterior=True, random_state=i)\n",
        "        completed.append(imputer.fit_transform(d[pred]))\n",
        "    completed_mean = np.mean(completed, axis=0)\n",
        "    imputed = pd.DataFrame(completed_mean, columns=pred)\n",
        "    if var == 'NEAR_DIST':\n",
        "        m = imputed[imputed.NEAR_DIST > 0].NEAR_DIST.mean()\n",
        "        imputed.NEAR_DIST = np.where(imputed.NEAR_DIST < 0, m, imputed.NEAR_DIST)\n",
        "    d = d.drop(var, axis=1).join(imputed[var])"
      ],
      "execution_count": 0,
      "outputs": []
    },
    {
      "cell_type": "markdown",
      "metadata": {
        "id": "0kH16VvFIJkD",
        "colab_type": "text"
      },
      "source": [
        "#**Create cohort for Cox model**\n",
        "\n",
        "**1) dummy code and order levels based on table**\n",
        "\n",
        "**2) drop unneeded variables**"
      ]
    },
    {
      "cell_type": "code",
      "metadata": {
        "id": "RPTmCPR035rC",
        "colab_type": "code",
        "colab": {}
      },
      "source": [
        "# standard cohort\n",
        "PH_data = d[['PROVUSRD', 'chain_class2', 'for_profit', 'sex_new', 'age_cat', 'race_new', 'dialysis_mod1', 'esrd_cause', 'bmi_35',\n",
        "                 'ashd_new', 'chf',\t'other_cardiac', 'cva_new',\t'pvasc_new', 'hypertension', 'diabetes', 'copd_new',\n",
        "                 'smoke_new', 'cancer_new', 'insurance_esrd', 'PATTXOP_MEDUNFITn','nephcare_cat2', 'profit_txc', 'profit_hosp',\n",
        "                 'network_us_region_dfr', 'NEAR_DIST', 'rucc_rural', 'wl', 'wl_time', 'livingd', 'ld_time', 'deceasedt', 'dec_time']]\n",
        "PH_data = PH_data.join(pd.get_dummies(PH_data.dialysis_mod1, prefix='dialysis_mod1', drop_first=True))\n",
        "PH_data = PH_data.join(pd.get_dummies(pd.Categorical(PH_data.insurance_esrd, [3, 2, 1, 4, 5], True), prefix='insurance_esrd', drop_first=True))\n",
        "PH_data = PH_data.join(pd.get_dummies(pd.Categorical(PH_data.age_cat, [5, 1, 2, 3, 4, 6], True), prefix='age_cat', drop_first=True)) # delete category \"6\" for ideal cohort!\n",
        "PH_data = PH_data.join(pd.get_dummies(PH_data.race_new, prefix='race_new', drop_first=True))\n",
        "PH_data = PH_data.join(pd.get_dummies(PH_data.esrd_cause, prefix='esrd_cause', drop_first=True))\n",
        "PH_data = PH_data.join(pd.get_dummies(PH_data.network_us_region_dfr, prefix='network_us_region_dfr', drop_first=True))\n",
        "PH_data = PH_data.join(pd.get_dummies(pd.Categorical(PH_data.chain_class2, [6, 5, 2, 1, 3, 4], True), prefix='chain_class2', drop_first=True))\n",
        "PH_data = PH_data.join(pd.get_dummies(PH_data.profit_txc, prefix='profit_txc', drop_first=True))\n",
        "PH_data = PH_data.join(pd.get_dummies(PH_data.profit_hosp, prefix='profit_hosp', drop_first=True))\n",
        "PH_data = PH_data.drop(['dialysis_mod1', 'esrd_cause', 'age_cat', 'race_new', 'chain_class2', 'insurance_esrd', 'network_us_region_dfr', 'profit_txc', 'profit_hosp'], axis=1)\n",
        "\n",
        "# ideal cohort\n",
        "ideal = d[(d.INC_AGE < 66) &\n",
        "  (d.pvasc_new == 0) &\n",
        "  (d.chf == 0) &\n",
        "  (d.cva_new == 0) &\n",
        "  (d.PATTXOP_MEDUNFITn == 0)].reset_index(drop=True)\n",
        "\n",
        "PH_data_ideal = ideal[['PROVUSRD', 'chain_class2', 'for_profit', 'sex_new', 'age_cat', 'race_new', 'dialysis_mod1', 'esrd_cause', 'bmi_35',\n",
        "                 'ashd_new', 'chf',\t'other_cardiac', 'cva_new',\t'pvasc_new', 'hypertension', 'diabetes', 'copd_new',\n",
        "                 'smoke_new', 'cancer_new', 'insurance_esrd', 'PATTXOP_MEDUNFITn','nephcare_cat2',\n",
        "                 'network_us_region_dfr', 'NEAR_DIST', 'rucc_rural', 'wl', 'wl_time', 'livingd', 'ld_time', 'deceasedt', 'dec_time']]\n",
        "PH_data_ideal = PH_data_ideal.join(pd.get_dummies(PH_data_ideal.dialysis_mod1, prefix='dialysis_mod1', drop_first=True))\n",
        "PH_data_ideal = PH_data_ideal.join(pd.get_dummies(pd.Categorical(PH_data_ideal.insurance_esrd, [3, 2, 1, 4, 5], True), prefix='insurance_esrd', drop_first=True))\n",
        "PH_data_ideal = PH_data_ideal.join(pd.get_dummies(pd.Categorical(PH_data_ideal.age_cat, [5, 1, 2, 3, 4], True), prefix='age_cat', drop_first=True)) # delete category \"6\" for ideal cohort!\n",
        "PH_data_ideal = PH_data_ideal.join(pd.get_dummies(PH_data_ideal.race_new, prefix='race_new', drop_first=True))\n",
        "PH_data_ideal = PH_data_ideal.join(pd.get_dummies(PH_data_ideal.esrd_cause, prefix='esrd_cause', drop_first=True))\n",
        "PH_data_ideal = PH_data_ideal.join(pd.get_dummies(PH_data_ideal.network_us_region_dfr, prefix='network_us_region_dfr', drop_first=True))\n",
        "PH_data_ideal = PH_data_ideal.join(pd.get_dummies(pd.Categorical(PH_data_ideal.chain_class2, [6,5,2,1,3,4], True), prefix='chain_class2', drop_first=True))\n",
        "PH_data_ideal = PH_data_ideal.drop(['dialysis_mod1', 'esrd_cause', 'age_cat', 'race_new', 'chain_class2', 'insurance_esrd', 'network_us_region_dfr'], axis=1)"
      ],
      "execution_count": 0,
      "outputs": []
    },
    {
      "cell_type": "markdown",
      "metadata": {
        "id": "IB6CFrA97xBB",
        "colab_type": "text"
      },
      "source": [
        "\n",
        "##**Table 2**"
      ]
    },
    {
      "cell_type": "code",
      "metadata": {
        "id": "37nzVT8M4LlT",
        "colab_type": "code",
        "colab": {}
      },
      "source": [
        "varlist=['chain_class2',\n",
        "         'for_profit',\n",
        "          'age_cat',\n",
        "         'sex_new',\n",
        "         'race_new',\n",
        "         'insurance_esrd',\n",
        "         'esrd_cause',\n",
        "         'dialysis_mod1',\n",
        "         'bmi_35',\n",
        "         'chf',\n",
        "         'ashd_new',\n",
        "         'other_cardiac',\n",
        "         'cva_new',\n",
        "         'pvasc_new',\n",
        "         'hypertension',\n",
        "         'diabetes',\n",
        "         'copd_new',\n",
        "         'smoke_new',\n",
        "         'cancer_new',\n",
        "         'nephcare_cat2',\n",
        "         'PATTXOP_MEDUNFITn',\n",
        "         'network_us_region_dfr',\n",
        "         'rucc_rural',\n",
        "         'NEAR_DIST']\n"
      ],
      "execution_count": 0,
      "outputs": []
    },
    {
      "cell_type": "code",
      "metadata": {
        "id": "wta3yOHCcqQL",
        "colab_type": "code",
        "colab": {
          "base_uri": "https://localhost:8080/",
          "height": 3394
        },
        "outputId": "1430164e-cd78-4529-c10d-b5f4d66d2102"
      },
      "source": [
        "# Truncate follow-up time\n",
        "def truncate(t):\n",
        "    e = PH_data.copy()\n",
        "    if t>0:\n",
        "      e.loc[e['wl_time'] > t, 'wl']=0\n",
        "      e.loc[e['wl_time'] > t, 'wl_time']=t\n",
        "      e.loc[e['ld_time'] > t, 'livingd']=0\n",
        "      e.loc[e['ld_time'] > t, 'ld_time']=t\n",
        "      e.loc[e['dec_time'] > t, 'deceasedt']=0\n",
        "      e.loc[e['dec_time'] > t, 'dec_time']=t\n",
        "    return e\n",
        "  \n",
        "\n",
        "cph = CoxPHFitter()\n",
        "for time, status in zip(['wl_time', 'ld_time', 'dec_time'], ['wl', 'livingd', 'deceasedt']):\n",
        "  print('-'*30, status,'-'*30)\n",
        "  for exposure in varlist:\n",
        "    crude = '|'.join([exposure, time, status])\n",
        "    cph.fit(truncate(0).filter(regex=crude), duration_col=time, event_col=status, step_size=0.5)\n",
        "    print(round(pd.concat([exp(cph.hazards_).rename('HR'), exp(cph.confidence_intervals_)], 1), 2))"
      ],
      "execution_count": 16,
      "outputs": [
        {
          "output_type": "stream",
          "text": [
            "------------------------------ wl ------------------------------\n",
            "                  HR  lower-bound  upper-bound\n",
            "chain_class2_5  2.74         2.68         2.80\n",
            "chain_class2_2  0.58         0.57         0.59\n",
            "chain_class2_1  0.52         0.51         0.53\n",
            "chain_class2_3  0.55         0.54         0.57\n",
            "chain_class2_4  0.59         0.57         0.61\n",
            "              HR  lower-bound  upper-bound\n",
            "for_profit  0.33         0.32         0.33\n",
            "             HR  lower-bound  upper-bound\n",
            "age_cat_1  4.21         4.12         4.30\n",
            "age_cat_2  2.94         2.88         2.99\n",
            "age_cat_3  2.31         2.27         2.35\n",
            "age_cat_4  1.70         1.68         1.73\n",
            "age_cat_6  0.14         0.13         0.14\n",
            "           HR  lower-bound  upper-bound\n",
            "sex_new  0.75         0.74         0.76\n",
            "              HR  lower-bound  upper-bound\n",
            "race_new_2  1.21         1.19         1.23\n",
            "race_new_3  1.53         1.50         1.55\n",
            "race_new_4  1.57         1.54         1.61\n",
            "                    HR  lower-bound  upper-bound\n",
            "insurance_esrd_2  0.20         0.20         0.21\n",
            "insurance_esrd_1  0.37         0.37         0.38\n",
            "insurance_esrd_4  0.71         0.69         0.72\n",
            "insurance_esrd_5  0.74         0.72         0.75\n",
            "                HR  lower-bound  upper-bound\n",
            "esrd_cause_2  1.02         1.01         1.04\n",
            "esrd_cause_3  3.00         2.96         3.05\n",
            "esrd_cause_4  1.26         1.24         1.28\n",
            "                     HR  lower-bound  upper-bound\n",
            "dialysis_mod1_1.0  3.86         3.81         3.92\n",
            "dialysis_mod1_2.0  2.39         2.31         2.47\n",
            "          HR  lower-bound  upper-bound\n",
            "bmi_35  0.87         0.86         0.88\n",
            "       HR  lower-bound  upper-bound\n",
            "chf  0.42         0.41         0.42\n",
            "            HR  lower-bound  upper-bound\n",
            "ashd_new  0.47         0.46         0.49\n",
            "                 HR  lower-bound  upper-bound\n",
            "other_cardiac  0.49         0.47          0.5\n",
            "           HR  lower-bound  upper-bound\n",
            "cva_new  0.44         0.42         0.45\n",
            "             HR  lower-bound  upper-bound\n",
            "pvasc_new  0.41          0.4         0.42\n",
            "                HR  lower-bound  upper-bound\n",
            "hypertension  1.07         1.05         1.09\n",
            "           HR  lower-bound  upper-bound\n",
            "diabetes  0.7          0.7         0.71\n",
            "            HR  lower-bound  upper-bound\n",
            "copd_new  0.26         0.25         0.27\n",
            "             HR  lower-bound  upper-bound\n",
            "smoke_new  0.72          0.7         0.74\n",
            "              HR  lower-bound  upper-bound\n",
            "cancer_new  0.41          0.4         0.43\n",
            "                HR  lower-bound  upper-bound\n",
            "nephcare_cat2  1.0         0.99         1.02\n",
            "                     HR  lower-bound  upper-bound\n",
            "PATTXOP_MEDUNFITn  0.16         0.15         0.17\n",
            "                           HR  lower-bound  upper-bound\n",
            "network_us_region_dfr_1  0.83         0.82         0.84\n",
            "network_us_region_dfr_2  0.82         0.80         0.83\n",
            "network_us_region_dfr_3  0.87         0.86         0.89\n",
            "              HR  lower-bound  upper-bound\n",
            "rucc_rural  0.81         0.79         0.82\n",
            "            HR  lower-bound  upper-bound\n",
            "NEAR_DIST  1.0          1.0          1.0\n",
            "------------------------------ livingd ------------------------------\n",
            "                  HR  lower-bound  upper-bound\n",
            "chain_class2_5  1.90         1.81         2.00\n",
            "chain_class2_2  0.57         0.54         0.60\n",
            "chain_class2_1  0.55         0.53         0.58\n",
            "chain_class2_3  0.49         0.47         0.52\n",
            "chain_class2_4  0.59         0.55         0.62\n",
            "             HR  lower-bound  upper-bound\n",
            "for_profit  0.4         0.39         0.41\n",
            "              HR  lower-bound  upper-bound\n",
            "age_cat_1  10.81        10.34        11.30\n",
            "age_cat_2   5.24         5.01         5.47\n",
            "age_cat_3   3.09         2.96         3.22\n",
            "age_cat_4   1.83         1.76         1.91\n",
            "age_cat_6   0.15         0.14         0.17\n",
            "           HR  lower-bound  upper-bound\n",
            "sex_new  0.74         0.72         0.76\n",
            "              HR  lower-bound  upper-bound\n",
            "race_new_2  0.42         0.40         0.43\n",
            "race_new_3  0.85         0.82         0.88\n",
            "race_new_4  0.78         0.73         0.82\n",
            "                    HR  lower-bound  upper-bound\n",
            "insurance_esrd_2  0.11         0.11         0.12\n",
            "insurance_esrd_1  0.18         0.18         0.19\n",
            "insurance_esrd_4  0.63         0.61         0.66\n",
            "insurance_esrd_5  0.41         0.40         0.43\n",
            "                HR  lower-bound  upper-bound\n",
            "esrd_cause_2  1.04         1.00         1.08\n",
            "esrd_cause_3  5.95         5.76         6.15\n",
            "esrd_cause_4  2.22         2.14         2.30\n",
            "                     HR  lower-bound  upper-bound\n",
            "dialysis_mod1_1.0  4.58         4.45         4.72\n",
            "dialysis_mod1_2.0  2.67         2.48         2.87\n",
            "          HR  lower-bound  upper-bound\n",
            "bmi_35  0.61         0.59         0.64\n",
            "       HR  lower-bound  upper-bound\n",
            "chf  0.28         0.27         0.29\n",
            "            HR  lower-bound  upper-bound\n",
            "ashd_new  0.32         0.31         0.35\n",
            "                 HR  lower-bound  upper-bound\n",
            "other_cardiac  0.32          0.3         0.35\n",
            "           HR  lower-bound  upper-bound\n",
            "cva_new  0.29         0.27         0.32\n",
            "            HR  lower-bound  upper-bound\n",
            "pvasc_new  0.3         0.28         0.32\n",
            "                HR  lower-bound  upper-bound\n",
            "hypertension  0.77         0.74         0.79\n",
            "            HR  lower-bound  upper-bound\n",
            "diabetes  0.42         0.41         0.43\n",
            "            HR  lower-bound  upper-bound\n",
            "copd_new  0.21         0.19         0.23\n",
            "             HR  lower-bound  upper-bound\n",
            "smoke_new  0.65         0.61         0.69\n",
            "              HR  lower-bound  upper-bound\n",
            "cancer_new  0.45         0.42         0.49\n",
            "                 HR  lower-bound  upper-bound\n",
            "nephcare_cat2  1.18         1.15         1.22\n",
            "                     HR  lower-bound  upper-bound\n",
            "PATTXOP_MEDUNFITn  0.09         0.08         0.11\n",
            "                           HR  lower-bound  upper-bound\n",
            "network_us_region_dfr_1  0.67         0.65         0.70\n",
            "network_us_region_dfr_2  1.21         1.16         1.26\n",
            "network_us_region_dfr_3  0.84         0.81         0.88\n",
            "              HR  lower-bound  upper-bound\n",
            "rucc_rural  0.97         0.94         1.01\n",
            "            HR  lower-bound  upper-bound\n",
            "NEAR_DIST  1.0          1.0          1.0\n",
            "------------------------------ deceasedt ------------------------------\n",
            "                  HR  lower-bound  upper-bound\n",
            "chain_class2_5  2.07         2.00         2.14\n",
            "chain_class2_2  0.60         0.58         0.62\n",
            "chain_class2_1  0.56         0.54         0.58\n",
            "chain_class2_3  0.56         0.54         0.58\n",
            "chain_class2_4  0.54         0.52         0.57\n",
            "              HR  lower-bound  upper-bound\n",
            "for_profit  0.39         0.38          0.4\n",
            "             HR  lower-bound  upper-bound\n",
            "age_cat_1  5.48         5.30         5.68\n",
            "age_cat_2  4.53         4.40         4.67\n",
            "age_cat_3  2.86         2.78         2.94\n",
            "age_cat_4  1.84         1.78         1.89\n",
            "age_cat_6  0.16         0.15         0.17\n",
            "           HR  lower-bound  upper-bound\n",
            "sex_new  0.73         0.72         0.74\n",
            "              HR  lower-bound  upper-bound\n",
            "race_new_2  0.88         0.86         0.90\n",
            "race_new_3  0.96         0.93         0.98\n",
            "race_new_4  1.08         1.04         1.12\n",
            "                    HR  lower-bound  upper-bound\n",
            "insurance_esrd_2  0.19         0.18         0.19\n",
            "insurance_esrd_1  0.35         0.34         0.36\n",
            "insurance_esrd_4  0.66         0.64         0.68\n",
            "insurance_esrd_5  0.63         0.62         0.65\n",
            "                HR  lower-bound  upper-bound\n",
            "esrd_cause_2  0.85         0.83         0.87\n",
            "esrd_cause_3  2.17         2.12         2.22\n",
            "esrd_cause_4  1.01         0.99         1.04\n",
            "                     HR  lower-bound  upper-bound\n",
            "dialysis_mod1_1.0  4.53         4.44         4.64\n",
            "dialysis_mod1_2.0  2.25         2.13         2.37\n",
            "          HR  lower-bound  upper-bound\n",
            "bmi_35  0.63         0.61         0.65\n",
            "       HR  lower-bound  upper-bound\n",
            "chf  0.39         0.38          0.4\n",
            "            HR  lower-bound  upper-bound\n",
            "ashd_new  0.39         0.37         0.41\n",
            "                 HR  lower-bound  upper-bound\n",
            "other_cardiac  0.44         0.42         0.46\n",
            "           HR  lower-bound  upper-bound\n",
            "cva_new  0.41         0.39         0.43\n",
            "             HR  lower-bound  upper-bound\n",
            "pvasc_new  0.39         0.37          0.4\n",
            "                HR  lower-bound  upper-bound\n",
            "hypertension  1.06         1.03         1.09\n",
            "            HR  lower-bound  upper-bound\n",
            "diabetes  0.85         0.84         0.87\n",
            "            HR  lower-bound  upper-bound\n",
            "copd_new  0.25         0.24         0.27\n",
            "             HR  lower-bound  upper-bound\n",
            "smoke_new  0.73          0.7         0.76\n",
            "              HR  lower-bound  upper-bound\n",
            "cancer_new  0.38         0.35          0.4\n",
            "                 HR  lower-bound  upper-bound\n",
            "nephcare_cat2  1.11         1.08         1.13\n",
            "                     HR  lower-bound  upper-bound\n",
            "PATTXOP_MEDUNFITn  0.14         0.12         0.16\n",
            "                           HR  lower-bound  upper-bound\n",
            "network_us_region_dfr_1  0.90         0.88         0.92\n",
            "network_us_region_dfr_2  1.04         1.01         1.07\n",
            "network_us_region_dfr_3  0.82         0.79         0.84\n",
            "              HR  lower-bound  upper-bound\n",
            "rucc_rural  0.89         0.87         0.91\n",
            "            HR  lower-bound  upper-bound\n",
            "NEAR_DIST  1.0          1.0          1.0\n"
          ],
          "name": "stdout"
        }
      ]
    },
    {
      "cell_type": "code",
      "metadata": {
        "id": "R2qZ88uOcsqX",
        "colab_type": "code",
        "colab": {}
      },
      "source": [
        "for case, time in zip(['wl', 'livingd', 'deceasedt'], ['wl_time', 'ld_time', 'dec_time']):\n",
        "  tmp = d\n",
        "  count = tmp.groupby('chain_class2')[case].sum().map('{:,}'.format)\n",
        "  pyr = (tmp.groupby('chain_class2')[time].sum()/12).map(' /{:,.0f}'.format)\n",
        "  print(count+pyr)\n",
        "  count1 = tmp.groupby('for_profit')[case].sum().map('{:,}'.format)\n",
        "  pyr1 = (tmp.groupby('for_profit')[time].sum()/12).map(' /{:,.0f}'.format)\n",
        "  print(count1+pyr1)"
      ],
      "execution_count": 0,
      "outputs": []
    },
    {
      "cell_type": "markdown",
      "metadata": {
        "id": "CAntlnIGtNOS",
        "colab_type": "text"
      },
      "source": [
        "\n",
        "##**Table 3**"
      ]
    },
    {
      "cell_type": "code",
      "metadata": {
        "id": "2LnbwR3M44B6",
        "colab_type": "code",
        "colab": {}
      },
      "source": [
        "import rpy2.robjects as ro\n",
        "from rpy2.robjects.packages import importr\n",
        "from rpy2.robjects.vectors import FloatVector\n",
        "import statsmodels.formula.api as smf\n",
        "import statsmodels.api as sm\n",
        "import rpy2.robjects.numpy2ri\n",
        "rpy2.robjects.numpy2ri.activate()\n",
        "utils = importr('utils')\n",
        "utils.install_packages('msm')\n",
        "msm = importr('msm')\n"
      ],
      "execution_count": 0,
      "outputs": []
    },
    {
      "cell_type": "code",
      "metadata": {
        "id": "danCnl1g4_1P",
        "colab_type": "code",
        "outputId": "c3967306-4e0b-4d33-bdfb-696aabf80432",
        "colab": {
          "base_uri": "https://localhost:8080/",
          "height": 218
        }
      },
      "source": [
        "# Truncate follow-up time\n",
        "def truncate(t):\n",
        "    e = d.copy()\n",
        "    if t>0:\n",
        "      e.loc[e['wl_time'] > t, 'wl']=0\n",
        "      e.loc[e['wl_time'] > t, 'wl_time']=t\n",
        "      e.loc[e['ld_time'] > t, 'livingd']=0\n",
        "      e.loc[e['ld_time'] > t, 'ld_time']=t\n",
        "      e.loc[e['dec_time'] > t, 'deceasedt']=0\n",
        "      e.loc[e['dec_time'] > t, 'dec_time']=t\n",
        "    return e\n",
        "\n",
        "# dataset with aggregate sum for poisson model\n",
        "for event, time in zip(['wl','livingd', 'deceasedt'],['wl_time', 'ld_time', 'dec_time']):\n",
        "\tfor cutoff in [0, 12, 36, 60]:\n",
        "\t\tpoissonset = truncate(cutoff).groupby(['for_profit', 'age_cat', 'sex_new', 'race_new'], as_index=False)[['wl', 'wl_time', 'livingd', 'ld_time', 'dec_time', 'deceasedt']].sum()\n",
        "\t\tpoissonset['age_cat'] = pd.Categorical(poissonset['age_cat'], ordered=True, categories=[5, 1, 2, 3, 4, 6])\n",
        "\t\tpoissonset['race_new'] = pd.Categorical(poissonset['race_new'], ordered=True, categories=[1, 2, 3, 4])\n",
        "\n",
        "\t\t# poisson regression\n",
        "\t\tpoisson_model = smf.glm(event+'~for_profit+sex_new+age_cat+race_new',\n",
        "\t\t\t\t\t\t\t\tdata=poissonset,\n",
        "\t\t\t\t\t\t\t\tfamily=sm.families.Poisson(),\n",
        "\t\t\t\t\t\t\t\toffset=np.log(poissonset[time]/12)).fit(method='newton')\n",
        "\n",
        "\t\t# extract coefficient\n",
        "\t\tb0 = poisson_model.params['Intercept']\n",
        "\t\tb1 = poisson_model.params['for_profit']\n",
        "\n",
        "\t\t# calculate rate difference and standard error\n",
        "\t\teffect = np.exp(b0 + b1) - np.exp(b0)\n",
        "\t\tvcov = poisson_model.cov_params().loc[['Intercept', 'for_profit'], ['Intercept', 'for_profit']]\n",
        "\t\tse = msm.deltamethod(ro.Formula('~exp(x1+x2)-exp(x1)'), FloatVector([b0, b1]), ro.r.matrix(vcov.values, nrow=2, ncol=2))\n",
        "\t\tprint(\"%s %g-months for_profit vs. non_profit: %.2f (%.2f, %.2f) \" %(event, cutoff, effect*100, (effect-1.96*float(np.array(se)))*100, (effect+1.96*float(np.array(se)))*100))\n",
        "    \n",
        "    \n"
      ],
      "execution_count": 0,
      "outputs": [
        {
          "output_type": "stream",
          "text": [
            "wl 0-months for_profit vs. non_profit: -4.26 (-4.35, -4.17) \n",
            "wl 12-months for_profit vs. non_profit: -9.62 (-9.89, -9.36) \n",
            "wl 36-months for_profit vs. non_profit: -6.75 (-6.90, -6.61) \n",
            "wl 60-months for_profit vs. non_profit: -5.38 (-5.49, -5.27) \n",
            "livingd 0-months for_profit vs. non_profit: -0.54 (-0.57, -0.51) \n",
            "livingd 12-months for_profit vs. non_profit: -0.74 (-0.80, -0.67) \n",
            "livingd 36-months for_profit vs. non_profit: -0.76 (-0.80, -0.71) \n",
            "livingd 60-months for_profit vs. non_profit: -0.64 (-0.67, -0.60) \n",
            "deceasedt 0-months for_profit vs. non_profit: -0.98 (-1.02, -0.95) \n",
            "deceasedt 12-months for_profit vs. non_profit: -0.23 (-0.26, -0.19) \n",
            "deceasedt 36-months for_profit vs. non_profit: -0.80 (-0.84, -0.75) \n",
            "deceasedt 60-months for_profit vs. non_profit: -1.08 (-1.13, -1.03) \n"
          ],
          "name": "stdout"
        }
      ]
    },
    {
      "cell_type": "code",
      "metadata": {
        "id": "WMnbzTqzAJlO",
        "colab_type": "code",
        "outputId": "4ae983ae-b6d0-45ed-ac29-14228695b6e4",
        "colab": {
          "base_uri": "https://localhost:8080/",
          "height": 1025
        }
      },
      "source": [
        "for event, time in zip(['wl','livingd', 'deceasedt'],['wl_time', 'ld_time', 'dec_time']):\n",
        "  for cutoff in [0, 12, 36, 60]:\n",
        "    poissonset = truncate(cutoff).groupby(['chain_class2', 'age_cat', 'sex_new', 'race_new'], as_index=False)[['wl', 'wl_time', 'livingd', 'ld_time', 'dec_time', 'deceasedt']].sum()\n",
        "    poissonset['chain_class2'] = pd.Categorical(poissonset['chain_class2'], ordered=True, categories=[6, 5, 2, 1, 3, 4])\n",
        "    poissonset['age_cat'] = pd.Categorical(poissonset['age_cat'], ordered=True, categories=[5, 1, 2, 3, 4, 6])\n",
        "    poissonset['race_new'] = pd.Categorical(poissonset['race_new'], ordered=True, categories=[1, 2, 3, 4])\n",
        "\n",
        "    # poisson regression\n",
        "    poisson_model = smf.glm(event+'~chain_class2+sex_new+age_cat+race_new',\n",
        "                            data=poissonset,\n",
        "                            family=sm.families.Poisson(),\n",
        "                            offset=np.log(poissonset[time]/12)).fit(method='newton')\n",
        "\n",
        "\t\t# extract coefficient\n",
        "    for i in [5, 2, 1, 3, 4]:\n",
        "      b0 = poisson_model.params['Intercept']\n",
        "      b1 = poisson_model.params['chain_class2[T.'+str(i)+']']\n",
        "      effect = np.exp(b0 + b1) - np.exp(b0)\n",
        "      vcov = poisson_model.cov_params().loc[['Intercept', 'chain_class2[T.'+str(i)+']'], ['Intercept', 'chain_class2[T.'+str(i)+']']]\n",
        "      se = msm.deltamethod(ro.Formula('~exp(x1+x2)-exp(x1)'), FloatVector([b0, b1]), ro.r.matrix(vcov.values, nrow=2, ncol=2))\n",
        "      print(\"%s %g-months chain_%g: %.2f (%.2f, %.2f) \" %(event, cutoff, i, effect*100, (effect-1.96*float(np.array(se)))*100, (effect+1.96*float(np.array(se)))*100))"
      ],
      "execution_count": 0,
      "outputs": [
        {
          "output_type": "stream",
          "text": [
            "wl 0-months chain_5: 6.17 (6.00, 6.34) \n",
            "wl 0-months chain_2: -1.68 (-1.76, -1.61) \n",
            "wl 0-months chain_1: -1.88 (-1.96, -1.80) \n",
            "wl 0-months chain_3: -1.75 (-1.84, -1.67) \n",
            "wl 0-months chain_4: -1.53 (-1.63, -1.44) \n",
            "wl 12-months chain_5: 11.50 (11.04, 11.96) \n",
            "wl 12-months chain_2: -4.60 (-4.83, -4.38) \n",
            "wl 12-months chain_1: -4.89 (-5.12, -4.66) \n",
            "wl 12-months chain_3: -4.73 (-4.96, -4.50) \n",
            "wl 12-months chain_4: -4.27 (-4.52, -4.01) \n",
            "wl 36-months chain_5: 9.18 (8.91, 9.45) \n",
            "wl 36-months chain_2: -2.85 (-2.98, -2.73) \n",
            "wl 36-months chain_1: -3.13 (-3.25, -3.00) \n",
            "wl 36-months chain_3: -2.97 (-3.10, -2.84) \n",
            "wl 36-months chain_4: -2.67 (-2.82, -2.52) \n",
            "wl 60-months chain_5: 7.58 (7.37, 7.80) \n",
            "wl 60-months chain_2: -2.20 (-2.29, -2.10) \n",
            "wl 60-months chain_1: -2.43 (-2.53, -2.33) \n",
            "wl 60-months chain_3: -2.30 (-2.40, -2.20) \n",
            "wl 60-months chain_4: -2.03 (-2.14, -1.91) \n",
            "livingd 0-months chain_5: 0.47 (0.42, 0.52) \n",
            "livingd 0-months chain_2: -0.32 (-0.35, -0.28) \n",
            "livingd 0-months chain_1: -0.32 (-0.36, -0.29) \n",
            "livingd 0-months chain_3: -0.36 (-0.39, -0.32) \n",
            "livingd 0-months chain_4: -0.26 (-0.30, -0.21) \n",
            "livingd 12-months chain_5: 0.50 (0.39, 0.60) \n",
            "livingd 12-months chain_2: -0.51 (-0.58, -0.43) \n",
            "livingd 12-months chain_1: -0.50 (-0.57, -0.42) \n",
            "livingd 12-months chain_3: -0.58 (-0.65, -0.50) \n",
            "livingd 12-months chain_4: -0.39 (-0.48, -0.31) \n",
            "livingd 36-months chain_5: 0.63 (0.55, 0.71) \n",
            "livingd 36-months chain_2: -0.45 (-0.50, -0.40) \n",
            "livingd 36-months chain_1: -0.46 (-0.51, -0.41) \n",
            "livingd 36-months chain_3: -0.52 (-0.57, -0.47) \n",
            "livingd 36-months chain_4: -0.37 (-0.43, -0.30) \n",
            "livingd 60-months chain_5: 0.54 (0.48, 0.60) \n",
            "livingd 60-months chain_2: -0.38 (-0.42, -0.34) \n",
            "livingd 60-months chain_1: -0.39 (-0.43, -0.35) \n",
            "livingd 60-months chain_3: -0.43 (-0.47, -0.38) \n",
            "livingd 60-months chain_4: -0.31 (-0.36, -0.26) \n",
            "deceasedt 0-months chain_5: 1.04 (0.98, 1.10) \n",
            "deceasedt 0-months chain_2: -0.47 (-0.51, -0.44) \n",
            "deceasedt 0-months chain_1: -0.52 (-0.56, -0.48) \n",
            "deceasedt 0-months chain_3: -0.52 (-0.56, -0.48) \n",
            "deceasedt 0-months chain_4: -0.51 (-0.55, -0.46) \n",
            "deceasedt 12-months chain_5: 0.20 (0.15, 0.26) \n",
            "deceasedt 12-months chain_2: -0.14 (-0.17, -0.10) \n",
            "deceasedt 12-months chain_1: -0.13 (-0.17, -0.09) \n",
            "deceasedt 12-months chain_3: -0.16 (-0.20, -0.12) \n",
            "deceasedt 12-months chain_4: -0.11 (-0.16, -0.07) \n",
            "deceasedt 36-months chain_5: 0.70 (0.62, 0.78) \n",
            "deceasedt 36-months chain_2: -0.46 (-0.51, -0.42) \n",
            "deceasedt 36-months chain_1: -0.48 (-0.53, -0.43) \n",
            "deceasedt 36-months chain_3: -0.47 (-0.53, -0.42) \n",
            "deceasedt 36-months chain_4: -0.50 (-0.56, -0.44) \n",
            "deceasedt 60-months chain_5: 1.04 (0.96, 1.12) \n",
            "deceasedt 60-months chain_2: -0.58 (-0.63, -0.53) \n",
            "deceasedt 60-months chain_1: -0.61 (-0.66, -0.56) \n",
            "deceasedt 60-months chain_3: -0.61 (-0.66, -0.56) \n",
            "deceasedt 60-months chain_4: -0.65 (-0.71, -0.59) \n"
          ],
          "name": "stdout"
        }
      ]
    },
    {
      "cell_type": "code",
      "metadata": {
        "id": "RL4xX5BLtPC-",
        "colab_type": "code",
        "colab": {}
      },
      "source": [
        "cph = CoxPHFitter()\n",
        "for time, status in zip(['wl_time', 'ld_time', 'dec_time'], ['wl', 'livingd', 'deceasedt']):\n",
        "  print('-'*30, status,'-'*30)\n",
        "  for exposure in ['chain', 'for_profit']:\n",
        "    crude = '|'.join([exposure, time, status])\n",
        "    model1 = crude + '|sex_new|age_cat|race_new'\n",
        "    model2 = model1 + '|dialysis_mod1|esrd_cause|bmi_35|ashd_new|other_cardiac|hypertension|diabetes|'\\\n",
        "                  'copd_new|smoke_new|cancer_new'#chf|cva_new|pvasc_new'\n",
        "    model3 = model2 + '|insurance_esrd|network_us_region_dfr|NEAR_DIST|rucc_rural|PATTXOP_MEDUNFITn' #PATTXOP_MEDUNFITn'\n",
        "    for i, model in enumerate([crude, model1, model2, model3]):\n",
        "      print('\\n', 'model_'+str(i))\n",
        "      cph.fit(PH_data.filter(regex=model), duration_col=time, event_col=status, step_size=0.5)\n",
        "      print(round(pd.concat([exp(cph.hazards_[cph.hazards_.index.str.contains(exposure)]).rename('HR'), exp(cph.confidence_intervals_[cph.confidence_intervals_.index.str.contains(exposure)])], 1), 2))\n",
        "\n"
      ],
      "execution_count": 0,
      "outputs": []
    },
    {
      "cell_type": "markdown",
      "metadata": {
        "id": "s6qlhN9rpiS6",
        "colab_type": "text"
      },
      "source": [
        "\n",
        "##**Figure 2**"
      ]
    },
    {
      "cell_type": "code",
      "metadata": {
        "id": "_Rm85ojhpkBD",
        "colab_type": "code",
        "colab": {
          "base_uri": "https://localhost:8080/",
          "height": 874
        },
        "outputId": "f17e354c-1483-47c5-ddf6-91a035ca7372"
      },
      "source": [
        "d['FIRST_SE'] = pd.to_datetime(d['FIRST_SE'], format='%m/%d/%Y')\n",
        "fig2 = pd.DataFrame()\n",
        "\n",
        "for event, time in zip(['wl', 'livingd', 'deceasedt'], ['wl_time', 'ld_time', 'dec_time']):\n",
        "  print('-'*40, event, '-'*40)\n",
        "  for exposure in ['chain_class2', 'for_profit']:\n",
        "    print('\\n', exposure)\n",
        "    fig2 = pd.DataFrame()\n",
        "    for year in range(2001, 2016, 2):\n",
        "        valid = d[(d['FIRST_SE']>=str(year)+'/01/01') & (d['FIRST_SE']<=str(year+1)+'/12/31')]\n",
        "        validtime = (pd.to_datetime(str(year+1)+'/12/31') - valid['FIRST_SE']).apply(lambda x: x.days/30.4375)\n",
        "        valid.loc[valid[time]>validtime, event] = 0\n",
        "        valid.loc[valid[time]>validtime, time] = validtime\n",
        "        num = valid.groupby(exposure)[event].sum()\n",
        "        pyr = valid.groupby(exposure)[time].sum()/12\n",
        "        rate = (num/pyr*100).rename(str(year)+'-'+\"{0:0>2}\".format(year+1-2000))\n",
        "        fig2 = pd.concat([fig2, rate], 1)\n",
        "    print(fig2.applymap('{:.2f}'.format))"
      ],
      "execution_count": 12,
      "outputs": [
        {
          "output_type": "stream",
          "text": [
            "---------------------------------------- wl ----------------------------------------\n",
            "\n",
            " chain_class2\n"
          ],
          "name": "stdout"
        },
        {
          "output_type": "stream",
          "text": [
            "/usr/local/lib/python3.6/dist-packages/pandas/core/indexing.py:543: SettingWithCopyWarning: \n",
            "A value is trying to be set on a copy of a slice from a DataFrame.\n",
            "Try using .loc[row_indexer,col_indexer] = value instead\n",
            "\n",
            "See the caveats in the documentation: http://pandas.pydata.org/pandas-docs/stable/indexing.html#indexing-view-versus-copy\n",
            "  self.obj[item] = s\n"
          ],
          "name": "stderr"
        },
        {
          "output_type": "stream",
          "text": [
            "  2001-02 2003-04 2005-06 2007-08 2009-10 2011-12 2013-14 2015-16\n",
            "1    2.48    2.39    2.45    2.29    2.69    2.84    2.97    2.56\n",
            "2    2.81    2.68    3.01    2.73    2.77    3.03    3.44    2.59\n",
            "3    2.84    2.80    2.89    2.38    2.87    2.81    3.04    2.54\n",
            "4    3.68    3.29    3.40    3.00    2.69    2.65    2.96    2.41\n",
            "5   15.54   18.79   19.16   20.78   20.13   18.85   18.50   17.09\n",
            "6    6.24    6.44    7.44    6.59    6.96    6.91    6.93    5.23\n",
            "\n",
            " for_profit\n",
            "  2001-02 2003-04 2005-06 2007-08 2009-10 2011-12 2013-14 2015-16\n",
            "0    9.91   11.35   12.29   12.62   12.41   11.91   11.62    9.78\n",
            "1    2.74    2.63    2.80    2.53    2.75    2.89    3.16    2.55\n",
            "---------------------------------------- livingd ----------------------------------------\n",
            "\n",
            " chain_class2\n",
            "  2001-02 2003-04 2005-06 2007-08 2009-10 2011-12 2013-14 2015-16\n",
            "1    1.03    1.06    0.80    0.58    0.40    0.34    0.34    0.22\n",
            "2    1.18    1.03    0.76    0.51    0.41    0.39    0.31    0.28\n",
            "3    1.05    0.90    0.72    0.37    0.41    0.31    0.29    0.23\n",
            "4    1.24    1.12    0.87    0.62    0.49    0.30    0.38    0.37\n",
            "5    2.86    2.86    2.71    1.86    1.67    1.57    1.68    1.53\n",
            "6    2.13    1.70    1.53    1.01    0.90    0.84    0.74    0.70\n",
            "\n",
            " for_profit\n",
            "  2001-02 2003-04 2005-06 2007-08 2009-10 2011-12 2013-14 2015-16\n",
            "0    2.43    2.17    2.04    1.39    1.23    1.16    1.13    1.03\n",
            "1    1.10    1.02    0.78    0.52    0.41    0.35    0.32    0.25\n",
            "---------------------------------------- deceasedt ----------------------------------------\n",
            "\n",
            " chain_class2\n",
            "  2001-02 2003-04 2005-06 2007-08 2009-10 2011-12 2013-14 2015-16\n",
            "1    0.46    0.38    0.39    0.39    0.27    0.28    0.26    0.28\n",
            "2    0.50    0.45    0.40    0.35    0.28    0.23    0.29    0.21\n",
            "3    0.37    0.36    0.30    0.35    0.21    0.28    0.22    0.35\n",
            "4    0.47    0.33    0.48    0.34    0.25    0.21    0.21    0.19\n",
            "5    1.64    1.28    1.46    0.93    0.85    0.74    0.84    0.95\n",
            "6    0.82    0.76    0.89    0.53    0.43    0.39    0.35    0.46\n",
            "\n",
            " for_profit\n",
            "  2001-02 2003-04 2005-06 2007-08 2009-10 2011-12 2013-14 2015-16\n",
            "0    1.16    0.98    1.14    0.71    0.61    0.54    0.56    0.65\n",
            "1    0.46    0.40    0.38    0.36    0.26    0.26    0.26    0.26\n"
          ],
          "name": "stdout"
        }
      ]
    },
    {
      "cell_type": "code",
      "metadata": {
        "id": "vhupypCh1Rwi",
        "colab_type": "code",
        "colab": {}
      },
      "source": [
        ""
      ],
      "execution_count": 0,
      "outputs": []
    },
    {
      "cell_type": "markdown",
      "metadata": {
        "id": "VK0npP4OyYr3",
        "colab_type": "text"
      },
      "source": [
        "\n",
        "##**Supplemental Table 3 (ideal cohort)**"
      ]
    },
    {
      "cell_type": "code",
      "metadata": {
        "id": "F-5KBzam78CS",
        "colab_type": "code",
        "colab": {}
      },
      "source": [
        "cph = CoxPHFitter()\n",
        "for time, status in zip(['wl_time', 'ld_time', 'dec_time'], ['wl', 'livingd', 'deceasedt']):\n",
        "  print('-'*30, status,'-'*30)\n",
        "  for exposure in ['chain', 'for_profit']:\n",
        "    crude = '|'.join([exposure, time, status])\n",
        "    model1 = crude + '|sex_new|age_cat|race_new'\n",
        "    model2 = model1 + '|dialysis_mod1|esrd_cause|bmi_35|ashd_new|other_cardiac|hypertension|diabetes|'\\\n",
        "                  'copd_new|smoke_new|cancer_new'#chf|cva_new|pvasc_new'\n",
        "    model3 = model2 + '|insurance_esrd|network_us_region_dfr|NEAR_DIST|rucc_rural' #PATTXOP_MEDUNFITn'\n",
        "    for i, model in enumerate([crude, model1, model2, model3]):\n",
        "      print('\\n', 'model'+str(i))\n",
        "      cph.fit(PH_data_ideal.filter(regex=model), duration_col=time, event_col=status, step_size=0.5)\n",
        "      print(round(pd.concat([exp(cph.hazards_[cph.hazards_.index.str.contains(exposure)]).rename('HR'), exp(cph.confidence_intervals_[cph.confidence_intervals_.index.str.contains(exposure)])], 1), 2))\n"
      ],
      "execution_count": 0,
      "outputs": []
    },
    {
      "cell_type": "markdown",
      "metadata": {
        "id": "kvVn3CKGIyg4",
        "colab_type": "text"
      },
      "source": [
        "\n",
        "##**Supplemental Table 4**"
      ]
    },
    {
      "cell_type": "code",
      "metadata": {
        "id": "LHmcvFo0JQWD",
        "colab_type": "code",
        "colab": {}
      },
      "source": [
        "for time, status in zip(['wl_time', 'ld_time', 'dec_time'], ['wl', 'livingd', 'deceasedt']):\n",
        "  print('-'*30, status,'-'*30)\n",
        "  for r, region in enumerate(['Northeast', 'South', 'Midwest', 'West']):\n",
        "    print('\\n', region)\n",
        "    for exposure in ['chain', 'for_profit']:\n",
        "      crude = '|'.join([exposure, time, status])\n",
        "      model1 = crude + '|sex_new|age_cat|race_new'\n",
        "      model2 = model1 + '|dialysis_mod1|esrd_cause|bmi_35|ashd_new|other_cardiac|hypertension|diabetes|'\\\n",
        "                        'copd_new|smoke_new|cancer_new|chf|cva_new|pvasc_new'#chf|cva_new|pvasc_new'\n",
        "      model3 = model2 + '|insurance_esrd|NEAR_DIST|rucc_rural|PATTXOP_MEDUNFITn' #network_us_region_dfr'\n",
        "      cph.fit(PH_data[d['network_us_region_dfr']==r].filter(regex=model3), duration_col=time, event_col=status, step_size=0.5)\n",
        "      print(round(pd.concat([exp(cph.hazards_[cph.hazards_.index.str.contains(exposure)]).rename('HR'), exp(cph.confidence_intervals_[cph.confidence_intervals_.index.str.contains(exposure)])], 1), 2))"
      ],
      "execution_count": 0,
      "outputs": []
    },
    {
      "cell_type": "markdown",
      "metadata": {
        "id": "qz7Pt-3z3orc",
        "colab_type": "text"
      },
      "source": [
        "\n",
        "##Supplemental Table 5 & 6"
      ]
    },
    {
      "cell_type": "code",
      "metadata": {
        "id": "1nS2TD4Y3m8V",
        "colab_type": "code",
        "colab": {}
      },
      "source": [
        "cph = CoxPHFitter()\n",
        "for time, status in zip(['wl_time', 'ld_time', 'dec_time'], ['wl', 'livingd', 'deceasedt']):\n",
        "  print('-'*30, status,'-'*30)\n",
        "  for exposure in ['profit_txc', 'profit_hosp']:\n",
        "    crude = '|'.join([exposure, time, status])\n",
        "    model1 = crude + '|sex_new|age_cat|race_new'\n",
        "    model2 = model1 + '|dialysis_mod1|esrd_cause|bmi_35|ashd_new|other_cardiac|hypertension|diabetes|'\\\n",
        "                      'copd_new|smoke_new|cancer_new|chf|cva_new|pvasc_new'#chf|cva_new|pvasc_new'\n",
        "    model3 = model2 + '|insurance_esrd|NEAR_DIST|rucc_rural|PATTXOP_MEDUNFITn|network_us_region_dfr' #network_us_region_dfr'\n",
        "    for i, model in enumerate([crude, model1, model2, model3]):\n",
        "      print('\\n', 'model_'+str(i))\n",
        "      cph.fit(PH_data.filter(regex=model), duration_col=time, event_col=status, step_size=0.2)\n",
        "      print(round(pd.concat([exp(cph.hazards_[cph.hazards_.index.str.contains(exposure)]).rename('HR'), exp(cph.confidence_intervals_[cph.confidence_intervals_.index.str.contains(exposure)])], 1), 2))"
      ],
      "execution_count": 0,
      "outputs": []
    },
    {
      "cell_type": "markdown",
      "metadata": {
        "id": "QjLZ5Ll41E6a",
        "colab_type": "text"
      },
      "source": [
        "## Additional: Cumulative incidence difference"
      ]
    },
    {
      "cell_type": "code",
      "metadata": {
        "id": "-ZQQPjORdXUV",
        "colab_type": "code",
        "outputId": "7c640920-8bb3-4f3d-8e90-8dbd5b65e739",
        "colab": {
          "base_uri": "https://localhost:8080/",
          "height": 68
        }
      },
      "source": [
        "cif = d.copy()\n",
        "cif.loc[cif['death_wl']==1, 'wl']=2\n",
        "cif.loc[cif['death_ld']==1, 'livingd']=2\n",
        "cif.loc[cif['death_dec']==1, 'deceasedt']=2\n",
        "d_p = cif[cif.for_profit==1]\n",
        "d_np = cif[cif.for_profit==0]\n",
        "\n",
        "for time, status in zip(['wl_time', 'ld_time', 'dec_time'], ['wl', 'livingd', 'deceasedt']):\n",
        "  ajf_p = AalenJohansenFitter(calculate_variance=False).fit(d_p[time]/12, d_p[status], 1)\n",
        "  ajf_np = AalenJohansenFitter(calculate_variance=False).fit(d_np[time]/12, d_np[status], 1)\n",
        "  for t in [1, 3, 5, 10]:\n",
        "    cif_p = ajf_p.cumulative_density_.loc[slice(t)].tail(1).values\n",
        "    cif_np = ajf_np.cumulative_density_.loc[slice(t)].tail(1).values\n",
        "    cif_diff = cif_p - cif_np\n",
        "    se = np.sqrt(cif_p * (1-cif_p) / len(d_p) +cif_np * (1-cif_np) / len(d_np))\n",
        "    print('%s %g-year profit vs. non-profit: %.1f%% (%.1f%%, %.1f%%)' \n",
        "          %(status, t, cif_diff*100, (cif_diff -1.96 *se)*100, (cif_diff+1.96*se )*100))\n",
        "\n",
        "for time, status in zip(['wl_time', 'ld_time', 'dec_time'], ['wl', 'livingd', 'deceasedt']):\n",
        "  ajf_p = AalenJohansenFitter(calculate_variance=True).fit(d_p[time]/12, d_p[status], 1)\n",
        "  ajf_np = AalenJohansenFitter(calculate_variance=True).fit(d_np[time]/12, d_np[status], 1)\n",
        "  \n",
        "  cif_p = ajf_p.cumulative_density_.loc[slice(10)].tail(1).join(ajf_p.confidence_interval_.loc[slice(10)].tail(1))\n",
        "  cif_np = ajf_np.cumulative_density_.loc[slice(10)].tail(1).join(ajf_np.confidence_interval_.loc[slice(10)].tail(1))\n",
        "  print(cif_p, cif_np)"
      ],
      "execution_count": 0,
      "outputs": [
        {
          "output_type": "stream",
          "text": [
            "/usr/local/lib/python3.6/dist-packages/lifelines/fitters/aalen_johansen_fitter.py:112: Warning: Tied event times were detected. The Aalen-Johansen estimator cannot handle tied event times.\n",
            "                To resolve ties, data is randomly jittered.\n",
            "  Warning,\n"
          ],
          "name": "stderr"
        }
      ]
    },
    {
      "cell_type": "code",
      "metadata": {
        "id": "z4ZPXLGv2ACV",
        "colab_type": "code",
        "outputId": "28b3c2a8-c636-401e-ea4a-5abdc01ef0de",
        "colab": {
          "base_uri": "https://localhost:8080/",
          "height": 1075
        }
      },
      "source": [
        "d_c1 = cif[cif.chain_class2==1]\n",
        "d_c2 = cif[cif.chain_class2==2]\n",
        "d_c3 = cif[cif.chain_class2==3]\n",
        "d_c4 = cif[cif.chain_class2==4]\n",
        "d_c5 = cif[cif.chain_class2==5]\n",
        "d_c6 = cif[cif.chain_class2==6]\n",
        "\n",
        "\n",
        "for time, status in zip(['wl_time', 'ld_time', 'dec_time'], ['wl', 'livingd', 'deceasedt']):\n",
        "  ajf_c1 = AalenJohansenFitter(calculate_variance=False).fit(d_c1[time]/12, d_c1[status], 1)\n",
        "  ajf_c2 = AalenJohansenFitter(calculate_variance=False).fit(d_c2[time]/12, d_c2[status], 1)\n",
        "  ajf_c3 = AalenJohansenFitter(calculate_variance=False).fit(d_c3[time]/12, d_c3[status], 1)\n",
        "  ajf_c4 = AalenJohansenFitter(calculate_variance=False).fit(d_c4[time]/12, d_c4[status], 1)\n",
        "  ajf_c5 = AalenJohansenFitter(calculate_variance=False).fit(d_c5[time]/12, d_c5[status], 1)\n",
        "  ajf_c6 = AalenJohansenFitter(calculate_variance=False).fit(d_c6[time]/12, d_c6[status], 1)\n",
        "  for c, d_len, n in zip([ajf_c5, ajf_c2, ajf_c1, ajf_c3, ajf_c4], [d_c5, d_c2, d_c1, d_c3, d_c4], [5, 2, 1, 3, 4]):\n",
        "    for t in [1, 3, 5, 10]:\n",
        "      cif_c6 = ajf_c6.cumulative_density_.loc[slice(t)].tail(1).values\n",
        "      cif_c = c.cumulative_density_.loc[slice(t)].tail(1).values\n",
        "      cif_diff = cif_c - cif_c6\n",
        "      se = np.sqrt(cif_c6 * (1-cif_c6) / len(d_c6) +cif_c * (1-cif_c) / len(d_len))\n",
        "      print('%s %g-year chain_class %g vs. 6: %.1f%% (%.1f%%, %.1f%%)' \n",
        "            %(status, t, n, cif_diff*100, (cif_diff -1.96 *se)*100, (cif_diff+1.96*se )*100))"
      ],
      "execution_count": 0,
      "outputs": [
        {
          "output_type": "stream",
          "text": [
            "/usr/local/lib/python3.6/dist-packages/lifelines/fitters/aalen_johansen_fitter.py:112: Warning: Tied event times were detected. The Aalen-Johansen estimator cannot handle tied event times.\n",
            "                To resolve ties, data is randomly jittered.\n",
            "  Warning,\n"
          ],
          "name": "stderr"
        },
        {
          "output_type": "stream",
          "text": [
            "wl 1-year chain_class 5 vs. 6: 10.4% (10.1%, 10.7%)\n",
            "wl 3-year chain_class 5 vs. 6: 17.1% (16.8%, 17.5%)\n",
            "wl 5-year chain_class 5 vs. 6: 18.4% (18.1%, 18.8%)\n",
            "wl 10-year chain_class 5 vs. 6: 19.1% (18.7%, 19.5%)\n",
            "wl 1-year chain_class 2 vs. 6: -3.6% (-3.7%, -3.4%)\n",
            "wl 3-year chain_class 2 vs. 6: -4.9% (-5.1%, -4.7%)\n",
            "wl 5-year chain_class 2 vs. 6: -5.0% (-5.2%, -4.8%)\n",
            "wl 10-year chain_class 2 vs. 6: -4.9% (-5.1%, -4.7%)\n",
            "wl 1-year chain_class 1 vs. 6: -3.9% (-4.0%, -3.7%)\n",
            "wl 3-year chain_class 1 vs. 6: -5.7% (-5.9%, -5.5%)\n",
            "wl 5-year chain_class 1 vs. 6: -5.9% (-6.1%, -5.7%)\n",
            "wl 10-year chain_class 1 vs. 6: -5.9% (-6.1%, -5.7%)\n",
            "wl 1-year chain_class 3 vs. 6: -3.7% (-3.8%, -3.5%)\n",
            "wl 3-year chain_class 3 vs. 6: -5.2% (-5.4%, -5.0%)\n",
            "wl 5-year chain_class 3 vs. 6: -5.4% (-5.7%, -5.2%)\n",
            "wl 10-year chain_class 3 vs. 6: -5.4% (-5.6%, -5.2%)\n",
            "wl 1-year chain_class 4 vs. 6: -3.5% (-3.7%, -3.3%)\n",
            "wl 3-year chain_class 4 vs. 6: -5.0% (-5.2%, -4.8%)\n",
            "wl 5-year chain_class 4 vs. 6: -5.1% (-5.3%, -4.8%)\n",
            "wl 10-year chain_class 4 vs. 6: -5.0% (-5.3%, -4.8%)\n",
            "livingd 1-year chain_class 5 vs. 6: 0.9% (0.8%, 1.0%)\n",
            "livingd 3-year chain_class 5 vs. 6: 2.3% (2.1%, 2.5%)\n",
            "livingd 5-year chain_class 5 vs. 6: 2.7% (2.5%, 2.9%)\n",
            "livingd 10-year chain_class 5 vs. 6: 3.0% (2.8%, 3.2%)\n",
            "livingd 1-year chain_class 2 vs. 6: -0.6% (-0.6%, -0.5%)\n",
            "livingd 3-year chain_class 2 vs. 6: -1.0% (-1.1%, -1.0%)\n",
            "livingd 5-year chain_class 2 vs. 6: -1.1% (-1.2%, -1.0%)\n",
            "livingd 10-year chain_class 2 vs. 6: -1.2% (-1.3%, -1.1%)\n",
            "livingd 1-year chain_class 1 vs. 6: -0.6% (-0.6%, -0.5%)\n",
            "livingd 3-year chain_class 1 vs. 6: -1.1% (-1.2%, -1.0%)\n",
            "livingd 5-year chain_class 1 vs. 6: -1.2% (-1.3%, -1.1%)\n",
            "livingd 10-year chain_class 1 vs. 6: -1.3% (-1.4%, -1.2%)\n",
            "livingd 1-year chain_class 3 vs. 6: -0.7% (-0.7%, -0.6%)\n",
            "livingd 3-year chain_class 3 vs. 6: -1.2% (-1.3%, -1.1%)\n",
            "livingd 5-year chain_class 3 vs. 6: -1.4% (-1.5%, -1.2%)\n",
            "livingd 10-year chain_class 3 vs. 6: -1.4% (-1.5%, -1.3%)\n",
            "livingd 1-year chain_class 4 vs. 6: -0.6% (-0.6%, -0.5%)\n",
            "livingd 3-year chain_class 4 vs. 6: -1.0% (-1.1%, -0.9%)\n",
            "livingd 5-year chain_class 4 vs. 6: -1.2% (-1.3%, -1.0%)\n",
            "livingd 10-year chain_class 4 vs. 6: -1.2% (-1.3%, -1.1%)\n",
            "deceasedt 1-year chain_class 5 vs. 6: 0.4% (0.3%, 0.5%)\n",
            "deceasedt 3-year chain_class 5 vs. 6: 2.5% (2.4%, 2.7%)\n",
            "deceasedt 5-year chain_class 5 vs. 6: 5.3% (5.1%, 5.6%)\n",
            "deceasedt 10-year chain_class 5 vs. 6: 9.1% (8.8%, 9.4%)\n",
            "deceasedt 1-year chain_class 2 vs. 6: -0.2% (-0.2%, -0.2%)\n",
            "deceasedt 3-year chain_class 2 vs. 6: -1.2% (-1.3%, -1.1%)\n",
            "deceasedt 5-year chain_class 2 vs. 6: -2.0% (-2.1%, -1.8%)\n",
            "deceasedt 10-year chain_class 2 vs. 6: -2.5% (-2.6%, -2.3%)\n",
            "deceasedt 1-year chain_class 1 vs. 6: -0.2% (-0.2%, -0.1%)\n",
            "deceasedt 3-year chain_class 1 vs. 6: -1.2% (-1.3%, -1.1%)\n",
            "deceasedt 5-year chain_class 1 vs. 6: -2.1% (-2.3%, -2.0%)\n",
            "deceasedt 10-year chain_class 1 vs. 6: -2.9% (-3.1%, -2.8%)\n",
            "deceasedt 1-year chain_class 3 vs. 6: -0.2% (-0.3%, -0.2%)\n",
            "deceasedt 3-year chain_class 3 vs. 6: -1.2% (-1.3%, -1.1%)\n",
            "deceasedt 5-year chain_class 3 vs. 6: -2.1% (-2.3%, -2.0%)\n",
            "deceasedt 10-year chain_class 3 vs. 6: -2.8% (-3.0%, -2.7%)\n",
            "deceasedt 1-year chain_class 4 vs. 6: -0.2% (-0.3%, -0.2%)\n",
            "deceasedt 3-year chain_class 4 vs. 6: -1.4% (-1.5%, -1.2%)\n",
            "deceasedt 5-year chain_class 4 vs. 6: -2.4% (-2.5%, -2.2%)\n",
            "deceasedt 10-year chain_class 4 vs. 6: -2.9% (-3.1%, -2.7%)\n"
          ],
          "name": "stdout"
        }
      ]
    }
  ]
}