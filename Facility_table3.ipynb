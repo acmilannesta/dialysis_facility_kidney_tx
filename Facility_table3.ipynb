{
  "nbformat": 4,
  "nbformat_minor": 0,
  "metadata": {
    "colab": {
      "name": "Facility_table3.ipynb",
      "version": "0.3.2",
      "provenance": [],
      "collapsed_sections": []
    },
    "kernelspec": {
      "name": "python3",
      "display_name": "Python 3"
    },
    "accelerator": "GPU"
  },
  "cells": [
    {
      "metadata": {
        "id": "nDDlQCI6003-",
        "colab_type": "code",
        "colab": {}
      },
      "cell_type": "code",
      "source": [
        "!pip install lifelines"
      ],
      "execution_count": 0,
      "outputs": []
    },
    {
      "metadata": {
        "id": "00Rn5KMozIK9",
        "colab_type": "code",
        "colab": {}
      },
      "cell_type": "code",
      "source": [
        "import pandas as pd, numpy as np, re\n",
        "from numpy import exp, mean\n",
        "from fancyimpute import IterativeImputer\n",
        "from sklearn.ensemble import RandomForestClassifier\n",
        "from lifelines import CoxPHFitter, AalenJohansenFitter\n",
        "# import statsmodels.api as sm\n",
        "# from matplotlib import pyplot as plt\n",
        "# from resample.bootstrap import bootstrap_ci, bootstrap"
      ],
      "execution_count": 0,
      "outputs": []
    },
    {
      "metadata": {
        "id": "VqDzEmUndAN5",
        "colab_type": "code",
        "colab": {}
      },
      "cell_type": "code",
      "source": [
        "from google.colab import drive\n",
        "drive.mount('/content/Drive')"
      ],
      "execution_count": 0,
      "outputs": []
    },
    {
      "metadata": {
        "id": "FSOOxHrj28Di",
        "colab_type": "code",
        "colab": {}
      },
      "cell_type": "code",
      "source": [
        "# whole cohort (N=1,478,506)\n",
        "d = pd.read_csv('Drive/My Drive/facility/Fortable3mi_ld_dec_censored.csv')\n",
        "d['rucc_rural'] = np.where(d.RUCC_2013.isin([1, 2, 3]), 0, (np.where(d.RUCC_2013.isna(), np.nan, 1)))\n",
        "d = d.drop(['RUCC_2013'], axis=1)\n",
        "d.loc[d['wl_time']>24, 'wl']=0\n",
        "d.loc[d['wl_time']>24, 'wl_time']=24\n",
        "d.loc[d['ld_time']>24, 'livingd']=0\n",
        "d.loc[d['ld_time']>24, 'ld_time']=24\n",
        "d.loc[d['dec_time']>24, 'deceasedt']=0\n",
        "d.loc[d['dec_time']>24, 'dec_time']=24\n",
        "# d.to_csv('drive/My Drive/facility/jama_round4.csv', index=False)"
      ],
      "execution_count": 0,
      "outputs": []
    },
    {
      "metadata": {
        "id": "JUn4sG8n1YpT",
        "colab_type": "code",
        "colab": {}
      },
      "cell_type": "code",
      "source": [
        "# Random forest imputation for categorical\n",
        "for var in ['dialysis_mod1', 'insurance_esrd', 'rucc_rural', 'nephcare_cat2']:\n",
        "    pred = ['sex_new', 'age_cat', 'race_new', var]\n",
        "    imputer = IterativeImputer(n_iter=1, random_state=7, predictor=RandomForestClassifier(n_estimators=10))\n",
        "    imputed = pd.DataFrame(imputer.fit_transform(d[pred]), columns=pred)\n",
        "    d = d.drop(var, axis=1).join(imputed[var])"
      ],
      "execution_count": 0,
      "outputs": []
    },
    {
      "metadata": {
        "id": "dZh15RQI1b31",
        "colab_type": "code",
        "colab": {}
      },
      "cell_type": "code",
      "source": [
        "# Bayesian Ridge linear imputation for continuous\n",
        "for var in ['Hospitalization_Rate_facility', 'Mortality_Rate_Facility', 'NEAR_DIST']:\n",
        "    completed = []\n",
        "    for i in range(5):\n",
        "        pred = ['sex_new', 'age_cat', 'race_new', var]\n",
        "        imputer = IterativeImputer(n_iter=5, sample_posterior=True, random_state=i)\n",
        "        completed.append(imputer.fit_transform(d[pred]))\n",
        "    completed_mean = np.mean(completed, axis=0)\n",
        "    imputed = pd.DataFrame(completed_mean, columns=pred)\n",
        "    if var == 'NEAR_DIST':\n",
        "        m = imputed[imputed.NEAR_DIST > 0].NEAR_DIST.mean()\n",
        "        imputed.NEAR_DIST = np.where(imputed.NEAR_DIST < 0, m, imputed.NEAR_DIST)\n",
        "    d = d.drop(var, axis=1).join(imputed[var])\n",
        "\n",
        "ideal = d[(d.INC_AGE < 66) &\n",
        "  (d.pvasc_new == 0) &\n",
        "  (d.chf == 0) &\n",
        "  (d.cva_new == 0) &\n",
        "  (d.PATTXOP_MEDUNFITn == 0)].reset_index(drop=True)"
      ],
      "execution_count": 0,
      "outputs": []
    },
    {
      "metadata": {
        "id": "RPTmCPR035rC",
        "colab_type": "code",
        "colab": {}
      },
      "cell_type": "code",
      "source": [
        "# standard cohort\n",
        "PH_data = d[['PROVUSRD', 'chain_class2', 'for_profit', 'sex_new', 'age_cat', 'race_new', 'dialysis_mod1', 'esrd_cause', 'bmi_35',\n",
        "                 'ashd_new', 'chf',\t'other_cardiac', 'cva_new',\t'pvasc_new', 'hypertension', 'diabetes', 'copd_new',\n",
        "                 'smoke_new', 'cancer_new', 'insurance_esrd', 'PATTXOP_MEDUNFITn','nephcare_cat2', 'profit_txc', 'profit_hosp',\n",
        "                 'network_us_region_dfr', 'NEAR_DIST', 'rucc_rural', 'wl', 'wl_time', 'livingd', 'ld_time', 'deceasedt', 'dec_time']]\n",
        "PH_data = PH_data.join(pd.get_dummies(PH_data.dialysis_mod1, prefix='dialysis_mod1', drop_first=True))\n",
        "PH_data = PH_data.join(pd.get_dummies(pd.Categorical(PH_data.insurance_esrd, [3, 2, 1, 4, 5], True), prefix='insurance_esrd', drop_first=True))\n",
        "PH_data = PH_data.join(pd.get_dummies(pd.Categorical(PH_data.age_cat, [5, 1, 2, 3, 4, 6], True), prefix='age_cat', drop_first=True)) # delete category \"6\" for ideal cohort!\n",
        "PH_data = PH_data.join(pd.get_dummies(PH_data.race_new, prefix='race_new', drop_first=True))\n",
        "PH_data = PH_data.join(pd.get_dummies(PH_data.esrd_cause, prefix='esrd_cause', drop_first=True))\n",
        "PH_data = PH_data.join(pd.get_dummies(PH_data.network_us_region_dfr, prefix='network_us_region_dfr', drop_first=True))\n",
        "PH_data = PH_data.join(pd.get_dummies(pd.Categorical(PH_data.chain_class2, [6,5,2,1,3,4], True), prefix='chain_class2', drop_first=True))\n",
        "PH_data = PH_data.join(pd.get_dummies(PH_data.profit_txc, prefix='profit_txc', drop_first=True))\n",
        "PH_data = PH_data.join(pd.get_dummies(PH_data.profit_hosp, prefix='profit_hosp', drop_first=True))\n",
        "PH_data = PH_data.drop(['dialysis_mod1', 'esrd_cause', 'age_cat', 'race_new', 'chain_class2', 'insurance_esrd', 'network_us_region_dfr', 'profit_txc', 'profit_hosp'], axis=1)\n",
        "\n",
        "# ideal cohort\n",
        "PH_data_ideal = ideal[['PROVUSRD', 'chain_class2', 'for_profit', 'sex_new', 'age_cat', 'race_new', 'dialysis_mod1', 'esrd_cause', 'bmi_35',\n",
        "                 'ashd_new', 'chf',\t'other_cardiac', 'cva_new',\t'pvasc_new', 'hypertension', 'diabetes', 'copd_new',\n",
        "                 'smoke_new', 'cancer_new', 'insurance_esrd', 'PATTXOP_MEDUNFITn','nephcare_cat2',\n",
        "                 'network_us_region_dfr', 'NEAR_DIST', 'rucc_rural', 'wl', 'wl_time', 'livingd', 'ld_time', 'deceasedt', 'dec_time']]\n",
        "PH_data_ideal = PH_data_ideal.join(pd.get_dummies(PH_data_ideal.dialysis_mod1, prefix='dialysis_mod1', drop_first=True))\n",
        "PH_data_ideal = PH_data_ideal.join(pd.get_dummies(pd.Categorical(PH_data_ideal.insurance_esrd, [3, 2, 1, 4, 5], True), prefix='insurance_esrd', drop_first=True))\n",
        "PH_data_ideal = PH_data_ideal.join(pd.get_dummies(pd.Categorical(PH_data_ideal.age_cat, [5, 1, 2, 3, 4], True), prefix='age_cat', drop_first=True)) # delete category \"6\" for ideal cohort!\n",
        "PH_data_ideal = PH_data_ideal.join(pd.get_dummies(PH_data_ideal.race_new, prefix='race_new', drop_first=True))\n",
        "PH_data_ideal = PH_data_ideal.join(pd.get_dummies(PH_data_ideal.esrd_cause, prefix='esrd_cause', drop_first=True))\n",
        "PH_data_ideal = PH_data_ideal.join(pd.get_dummies(PH_data_ideal.network_us_region_dfr, prefix='network_us_region_dfr', drop_first=True))\n",
        "PH_data_ideal = PH_data_ideal.join(pd.get_dummies(pd.Categorical(PH_data_ideal.chain_class2, [6,5,2,1,3,4], True), prefix='chain_class2', drop_first=True))\n",
        "PH_data_ideal = PH_data_ideal.drop(['dialysis_mod1', 'esrd_cause', 'age_cat', 'race_new', 'chain_class2', 'insurance_esrd', 'network_us_region_dfr'], axis=1)"
      ],
      "execution_count": 0,
      "outputs": []
    },
    {
      "metadata": {
        "id": "IB6CFrA97xBB",
        "colab_type": "text"
      },
      "cell_type": "markdown",
      "source": [
        "**Table 2**"
      ]
    },
    {
      "metadata": {
        "id": "37nzVT8M4LlT",
        "colab_type": "code",
        "colab": {}
      },
      "cell_type": "code",
      "source": [
        "varlist=['age_cat',\n",
        " 'sex_new',\n",
        " 'race_new',\n",
        " 'insurance_esrd',\n",
        " 'esrd_cause',\n",
        " 'dialysis_mod1',\n",
        " 'bmi_35',\n",
        " 'chf',\n",
        " 'ashd_new',\n",
        " 'other_cardiac',\n",
        " 'cva_new',\n",
        " 'pvasc_new',\n",
        " 'hypertension',\n",
        " 'diabetes',\n",
        " 'copd_new',\n",
        " 'smoke_new',\n",
        " 'cancer_new',\n",
        " 'nephcare_cat2',\n",
        " 'PATTXOP_MEDUNFITn',\n",
        " 'network_us_region_dfr',\n",
        " 'rucc_rural',\n",
        " 'NEAR_DIST']\n"
      ],
      "execution_count": 0,
      "outputs": []
    },
    {
      "metadata": {
        "id": "wta3yOHCcqQL",
        "colab_type": "code",
        "colab": {}
      },
      "cell_type": "code",
      "source": [
        "cph = CoxPHFitter()\n",
        "for time, status in zip(['wl_time', 'ld_time', 'dec_time'], ['wl', 'livingd', 'deceasedt']):\n",
        "  print('-'*30, status,'-'*30)\n",
        "  for exposure in varlist:\n",
        "    crude = '|'.join([exposure, time, status])\n",
        "    cph.fit(PH_data.filter(regex=crude), duration_col=time, event_col=status, step_size=0.5)\n",
        "    print(round(pd.concat([exp(cph.hazards_).rename('HR'), exp(cph.confidence_intervals_)], 1), 2))"
      ],
      "execution_count": 0,
      "outputs": []
    },
    {
      "metadata": {
        "id": "R2qZ88uOcsqX",
        "colab_type": "code",
        "colab": {}
      },
      "cell_type": "code",
      "source": [
        "for case, time in zip(['wl', 'livingd', 'deceasedt'], ['wl_time', 'ld_time', 'dec_time']):\n",
        "  tmp = d\n",
        "  count = tmp.groupby('chain_class2')[case].sum().map('{:,}'.format)\n",
        "  pyr = (tmp.groupby('chain_class2')[time].sum()/12).map(' /{:,.0f}'.format)\n",
        "  print(count+pyr)\n",
        "  count1 = tmp.groupby('for_profit')[case].sum().map('{:,}'.format)\n",
        "  pyr1 = (tmp.groupby('for_profit')[time].sum()/12).map(' /{:,.0f}'.format)\n",
        "  print(count1+pyr1)"
      ],
      "execution_count": 0,
      "outputs": []
    },
    {
      "metadata": {
        "id": "CAntlnIGtNOS",
        "colab_type": "text"
      },
      "cell_type": "markdown",
      "source": [
        "**Table 3**"
      ]
    },
    {
      "metadata": {
        "id": "RL4xX5BLtPC-",
        "colab_type": "code",
        "colab": {}
      },
      "cell_type": "code",
      "source": [
        "cph = CoxPHFitter()\n",
        "for time, status in zip(['wl_time', 'ld_time', 'dec_time'], ['wl', 'livingd', 'deceasedt']):\n",
        "  print('-'*30, status,'-'*30)\n",
        "  for exposure in ['chain', 'for_profit']:\n",
        "    crude = '|'.join([exposure, time, status])\n",
        "    model1 = crude + '|sex_new|age_cat|race_new'\n",
        "    model2 = model1 + '|dialysis_mod1|esrd_cause|bmi_35|ashd_new|other_cardiac|hypertension|diabetes|'\\\n",
        "                  'copd_new|smoke_new|cancer_new'#chf|cva_new|pvasc_new'\n",
        "    model3 = model2 + '|insurance_esrd|network_us_region_dfr|NEAR_DIST|rucc_rural|PATTXOP_MEDUNFITn' #PATTXOP_MEDUNFITn'\n",
        "    for i, model in enumerate([crude, model1, model2, model3]):\n",
        "      print('\\n', 'model_'+str(i))\n",
        "      cph.fit(PH_data.filter(regex=model), duration_col=time, event_col=status, step_size=0.5)\n",
        "      print(round(pd.concat([exp(cph.hazards_[cph.hazards_.index.str.contains(exposure)]).rename('HR'), exp(cph.confidence_intervals_[cph.confidence_intervals_.index.str.contains(exposure)])], 1), 2))\n",
        "\n"
      ],
      "execution_count": 0,
      "outputs": []
    },
    {
      "metadata": {
        "id": "s6qlhN9rpiS6",
        "colab_type": "text"
      },
      "cell_type": "markdown",
      "source": [
        "**Figure 2**"
      ]
    },
    {
      "metadata": {
        "id": "_Rm85ojhpkBD",
        "colab_type": "code",
        "colab": {
          "base_uri": "https://localhost:8080/",
          "height": 817
        },
        "outputId": "c9d14042-0529-49fc-9bcd-9e4b6250cf72"
      },
      "cell_type": "code",
      "source": [
        "d['FIRST_SE'] = pd.to_datetime(d['FIRST_SE'], format='%m/%d/%Y')\n",
        "fig2 = pd.DataFrame()\n",
        "\n",
        "for event, time in zip(['wl', 'livingd', 'deceasedt'], ['wl_time', 'ld_time', 'dec_time']):\n",
        "  print('-'*50, event, '-'*50)\n",
        "  for exposure in ['chain_class2', 'for_profit']:\n",
        "    print('\\n', exposure)\n",
        "    fig2 = pd.DataFrame()\n",
        "    for year in range(2001, 2016, 2):\n",
        "        num = d[(d['FIRST_SE']>=str(year)+'/01/01') & (d['FIRST_SE']<=str(year+1)+'/12/31')].groupby(exposure)[event].sum()\n",
        "        pyr = d[(d['FIRST_SE']>=str(year)+'/01/01') & (d['FIRST_SE']<=str(year+1)+'/12/31')].groupby(exposure)[time].sum()/12\n",
        "        rate = (num/pyr*100).rename(str(year)+'-'+\"{0:0>2}\".format(year+1-2000))\n",
        "        fig2 = pd.concat([fig2, rate], 1)\n",
        "    print(fig2.applymap('{:.2f}'.format))"
      ],
      "execution_count": 48,
      "outputs": [
        {
          "output_type": "stream",
          "text": [
            "-------------------------------------------------- wl --------------------------------------------------\n",
            "\n",
            " chain_class2\n",
            "  2001-02 2003-04 2005-06 2007-08 2009-10 2011-12 2013-14 2015-16\n",
            "1    2.67    2.59    2.67    2.56    2.74    3.02    2.90    3.75\n",
            "2    3.03    2.97    3.17    2.94    2.88    3.29    3.31    3.94\n",
            "3    3.06    2.91    2.99    2.70    2.90    3.14    3.09    3.75\n",
            "4    3.92    3.26    3.76    2.96    2.87    2.94    2.92    3.64\n",
            "5   15.68   17.94   18.65   19.26   17.81   18.32   16.79   24.15\n",
            "6    6.28    6.45    6.90    6.03    6.46    6.41    5.90    7.82\n",
            "\n",
            " for_profit\n",
            "  2001-02 2003-04 2005-06 2007-08 2009-10 2011-12 2013-14 2015-16\n",
            "0    9.93   11.00   11.73   11.58   11.12   11.27   10.21   14.09\n",
            "1    2.95    2.83    2.99    2.76    2.83    3.14    3.09    3.81\n",
            "-------------------------------------------------- livingd --------------------------------------------------\n",
            "\n",
            " chain_class2\n",
            "  2001-02 2003-04 2005-06 2007-08 2009-10 2011-12 2013-14 2015-16\n",
            "1    1.09    0.98    0.74    0.58    0.43    0.42    0.36    0.37\n",
            "2    1.16    0.96    0.70    0.52    0.43    0.42    0.38    0.49\n",
            "3    0.97    0.91    0.64    0.44    0.40    0.34    0.32    0.36\n",
            "4    1.26    1.22    0.84    0.61    0.50    0.39    0.39    0.55\n",
            "5    2.92    2.82    2.54    2.03    1.78    1.81    1.65    2.45\n",
            "6    1.88    1.70    1.45    1.13    0.89    0.77    0.85    1.09\n",
            "\n",
            " for_profit\n",
            "  2001-02 2003-04 2005-06 2007-08 2009-10 2011-12 2013-14 2015-16\n",
            "0    2.30    2.17    1.93    1.54    1.28    1.22    1.18    1.64\n",
            "1    1.11    0.98    0.71    0.54    0.43    0.40    0.36    0.43\n",
            "-------------------------------------------------- deceasedt --------------------------------------------------\n",
            "\n",
            " chain_class2\n",
            "  2001-02 2003-04 2005-06 2007-08 2009-10 2011-12 2013-14 2015-16\n",
            "1    0.60    0.57    0.52    0.44    0.38    0.40    0.31    0.51\n",
            "2    0.65    0.60    0.53    0.45    0.35    0.33    0.36    0.42\n",
            "3    0.62    0.55    0.46    0.43    0.34    0.35    0.32    0.59\n",
            "4    0.59    0.42    0.58    0.38    0.32    0.27    0.34    0.35\n",
            "5    2.21    2.22    1.99    1.33    1.08    1.09    1.07    1.81\n",
            "6    1.19    1.20    0.98    0.79    0.61    0.59    0.55    0.82\n",
            "\n",
            " for_profit\n",
            "  2001-02 2003-04 2005-06 2007-08 2009-10 2011-12 2013-14 2015-16\n",
            "0    1.60    1.63    1.42    1.03    0.81    0.81    0.77    1.22\n",
            "1    0.62    0.57    0.52    0.44    0.36    0.35    0.34    0.48\n"
          ],
          "name": "stdout"
        }
      ]
    },
    {
      "metadata": {
        "id": "T0yCl4Z-ENce",
        "colab_type": "code",
        "colab": {
          "base_uri": "https://localhost:8080/",
          "height": 110
        },
        "outputId": "830cb734-d6a9-4cfb-ad98-11d9039617f2"
      },
      "cell_type": "code",
      "source": [
        "fig2.head(n=6)"
      ],
      "execution_count": 43,
      "outputs": [
        {
          "output_type": "execute_result",
          "data": {
            "text/html": [
              "<div>\n",
              "<style scoped>\n",
              "    .dataframe tbody tr th:only-of-type {\n",
              "        vertical-align: middle;\n",
              "    }\n",
              "\n",
              "    .dataframe tbody tr th {\n",
              "        vertical-align: top;\n",
              "    }\n",
              "\n",
              "    .dataframe thead th {\n",
              "        text-align: right;\n",
              "    }\n",
              "</style>\n",
              "<table border=\"1\" class=\"dataframe\">\n",
              "  <thead>\n",
              "    <tr style=\"text-align: right;\">\n",
              "      <th></th>\n",
              "      <th>2001-2002</th>\n",
              "      <th>2003-2004</th>\n",
              "      <th>2005-2006</th>\n",
              "      <th>2007-2008</th>\n",
              "      <th>2009-2010</th>\n",
              "      <th>2011-2012</th>\n",
              "      <th>2013-2014</th>\n",
              "      <th>2015-2016</th>\n",
              "    </tr>\n",
              "  </thead>\n",
              "  <tbody>\n",
              "    <tr>\n",
              "      <th>0</th>\n",
              "      <td>1.604619</td>\n",
              "      <td>1.631538</td>\n",
              "      <td>1.421149</td>\n",
              "      <td>1.029222</td>\n",
              "      <td>0.813118</td>\n",
              "      <td>0.808248</td>\n",
              "      <td>0.770415</td>\n",
              "      <td>1.218847</td>\n",
              "    </tr>\n",
              "    <tr>\n",
              "      <th>1</th>\n",
              "      <td>0.623987</td>\n",
              "      <td>0.567080</td>\n",
              "      <td>0.518337</td>\n",
              "      <td>0.438927</td>\n",
              "      <td>0.356887</td>\n",
              "      <td>0.354080</td>\n",
              "      <td>0.335175</td>\n",
              "      <td>0.478963</td>\n",
              "    </tr>\n",
              "  </tbody>\n",
              "</table>\n",
              "</div>"
            ],
            "text/plain": [
              "   2001-2002  2003-2004  2005-2006  2007-2008  2009-2010  2011-2012  \\\n",
              "0   1.604619   1.631538   1.421149   1.029222   0.813118   0.808248   \n",
              "1   0.623987   0.567080   0.518337   0.438927   0.356887   0.354080   \n",
              "\n",
              "   2013-2014  2015-2016  \n",
              "0   0.770415   1.218847  \n",
              "1   0.335175   0.478963  "
            ]
          },
          "metadata": {
            "tags": []
          },
          "execution_count": 43
        }
      ]
    },
    {
      "metadata": {
        "id": "VK0npP4OyYr3",
        "colab_type": "text"
      },
      "cell_type": "markdown",
      "source": [
        "**Supplemental Table 3 (ideal cohort)**"
      ]
    },
    {
      "metadata": {
        "id": "F-5KBzam78CS",
        "colab_type": "code",
        "colab": {}
      },
      "cell_type": "code",
      "source": [
        "cph = CoxPHFitter()\n",
        "for time, status in zip(['wl_time', 'ld_time', 'dec_time'], ['wl', 'livingd', 'deceasedt']):\n",
        "  print('-'*30, status,'-'*30)\n",
        "  for exposure in ['chain', 'for_profit']:\n",
        "    crude = '|'.join([exposure, time, status])\n",
        "    model1 = crude + '|sex_new|age_cat|race_new'\n",
        "    model2 = model1 + '|dialysis_mod1|esrd_cause|bmi_35|ashd_new|other_cardiac|hypertension|diabetes|'\\\n",
        "                  'copd_new|smoke_new|cancer_new'#chf|cva_new|pvasc_new'\n",
        "    model3 = model2 + '|insurance_esrd|network_us_region_dfr|NEAR_DIST|rucc_rural' #PATTXOP_MEDUNFITn'\n",
        "    for i, model in enumerate([crude, model1, model2, model3]):\n",
        "      print('\\n', 'model'+str(i))\n",
        "      cph.fit(PH_data_ideal.filter(regex=model), duration_col=time, event_col=status, step_size=0.5)\n",
        "      print(round(pd.concat([exp(cph.hazards_[cph.hazards_.index.str.contains(exposure)]).rename('HR'), exp(cph.confidence_intervals_[cph.confidence_intervals_.index.str.contains(exposure)])], 1), 2))\n"
      ],
      "execution_count": 0,
      "outputs": []
    },
    {
      "metadata": {
        "id": "kvVn3CKGIyg4",
        "colab_type": "text"
      },
      "cell_type": "markdown",
      "source": [
        "**Supplemental Table 4**"
      ]
    },
    {
      "metadata": {
        "id": "LHmcvFo0JQWD",
        "colab_type": "code",
        "colab": {}
      },
      "cell_type": "code",
      "source": [
        "for time, status in zip(['wl_time', 'ld_time', 'dec_time'], ['wl', 'livingd', 'deceasedt']):\n",
        "  print('-'*30, status,'-'*30)\n",
        "  for r, region in enumerate(['Northeast', 'South', 'Midwest', 'West']):\n",
        "    print('\\n', region)\n",
        "    for exposure in ['chain', 'for_profit']:\n",
        "      crude = '|'.join([exposure, time, status])\n",
        "      model1 = crude + '|sex_new|age_cat|race_new'\n",
        "      model2 = model1 + '|dialysis_mod1|esrd_cause|bmi_35|ashd_new|other_cardiac|hypertension|diabetes|'\\\n",
        "                        'copd_new|smoke_new|cancer_new|chf|cva_new|pvasc_new'#chf|cva_new|pvasc_new'\n",
        "      model3 = model2 + '|insurance_esrd|NEAR_DIST|rucc_rural|PATTXOP_MEDUNFITn' #network_us_region_dfr'\n",
        "      cph.fit(PH_data[d['network_us_region_dfr']==r].filter(regex=model3), duration_col=time, event_col=status, step_size=0.5)\n",
        "      print(round(pd.concat([exp(cph.hazards_[cph.hazards_.index.str.contains(exposure)]).rename('HR'), exp(cph.confidence_intervals_[cph.confidence_intervals_.index.str.contains(exposure)])], 1), 2))"
      ],
      "execution_count": 0,
      "outputs": []
    },
    {
      "metadata": {
        "id": "qz7Pt-3z3orc",
        "colab_type": "text"
      },
      "cell_type": "markdown",
      "source": [
        "Supplemental Table 5 & 6"
      ]
    },
    {
      "metadata": {
        "id": "1nS2TD4Y3m8V",
        "colab_type": "code",
        "colab": {}
      },
      "cell_type": "code",
      "source": [
        "cph = CoxPHFitter()\n",
        "for time, status in zip(['wl_time', 'ld_time', 'dec_time'], ['wl', 'livingd', 'deceasedt']):\n",
        "  print('-'*30, status,'-'*30)\n",
        "  for exposure in ['profit_txc', 'profit_hosp']:\n",
        "    crude = '|'.join([exposure, time, status])\n",
        "    model1 = crude + '|sex_new|age_cat|race_new'\n",
        "    model2 = model1 + '|dialysis_mod1|esrd_cause|bmi_35|ashd_new|other_cardiac|hypertension|diabetes|'\\\n",
        "                      'copd_new|smoke_new|cancer_new|chf|cva_new|pvasc_new'#chf|cva_new|pvasc_new'\n",
        "    model3 = model2 + '|insurance_esrd|NEAR_DIST|rucc_rural|PATTXOP_MEDUNFITn|network_us_region_dfr' #network_us_region_dfr'\n",
        "    for i, model in enumerate([crude, model1, model2, model3]):\n",
        "      print('\\n', 'model_'+str(i))\n",
        "      cph.fit(PH_data.filter(regex=model), duration_col=time, event_col=status, step_size=0.2)\n",
        "      print(round(pd.concat([exp(cph.hazards_[cph.hazards_.index.str.contains(exposure)]).rename('HR'), exp(cph.confidence_intervals_[cph.confidence_intervals_.index.str.contains(exposure)])], 1), 2))"
      ],
      "execution_count": 0,
      "outputs": []
    }
  ]
}