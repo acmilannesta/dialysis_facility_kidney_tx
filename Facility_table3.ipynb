{
  "nbformat": 4,
  "nbformat_minor": 0,
  "metadata": {
    "colab": {
      "name": "Facility_table3.ipynb",
      "version": "0.3.2",
      "provenance": [],
      "collapsed_sections": []
    },
    "kernelspec": {
      "name": "python3",
      "display_name": "Python 3"
    },
    "accelerator": "GPU"
  },
  "cells": [
    {
      "metadata": {
        "id": "nDDlQCI6003-",
        "colab_type": "code",
        "colab": {}
      },
      "cell_type": "code",
      "source": [
        "!pip install lifelines"
      ],
      "execution_count": 0,
      "outputs": []
    },
    {
      "metadata": {
        "id": "00Rn5KMozIK9",
        "colab_type": "code",
        "colab": {}
      },
      "cell_type": "code",
      "source": [
        "import pandas as pd, numpy as np, re\n",
        "from numpy import exp, mean\n",
        "from fancyimpute import IterativeImputer\n",
        "from sklearn.ensemble import RandomForestClassifier\n",
        "from lifelines import CoxPHFitter, AalenJohansenFitter\n",
        "# import statsmodels.api as sm\n",
        "# from matplotlib import pyplot as plt\n",
        "# from resample.bootstrap import bootstrap_ci, bootstrap"
      ],
      "execution_count": 0,
      "outputs": []
    },
    {
      "metadata": {
        "id": "FSOOxHrj28Di",
        "colab_type": "code",
        "colab": {}
      },
      "cell_type": "code",
      "source": [
        "# whole cohort (N=1,478,506)\n",
        "d = pd.read_csv('Fortable3mi_ld_dec_censored.csv')\n",
        "d['rucc_metro'] = np.where(d.RUCC_2013.isin([1, 2, 3]), 1, (np.where(d.RUCC_2013.isna(), np.nan, 0)))\n",
        "d = d.drop(['RUCC_2013'], axis=1)"
      ],
      "execution_count": 0,
      "outputs": []
    },
    {
      "metadata": {
        "id": "JUn4sG8n1YpT",
        "colab_type": "code",
        "colab": {}
      },
      "cell_type": "code",
      "source": [
        "# Random forest imputation for categorical\n",
        "for var in ['dialysis_mod1', 'insurance_esrd', 'rucc_metro']:\n",
        "    pred = ['sex_new', 'age_cat', 'race_new', var]\n",
        "    imputer = IterativeImputer(n_iter=1, random_state=7, predictor=RandomForestClassifier(n_estimators=10))\n",
        "    imputed = pd.DataFrame(imputer.fit_transform(d[pred]), columns=pred)\n",
        "    d = d.drop(var, axis=1).join(imputed[var])"
      ],
      "execution_count": 0,
      "outputs": []
    },
    {
      "metadata": {
        "id": "dZh15RQI1b31",
        "colab_type": "code",
        "colab": {}
      },
      "cell_type": "code",
      "source": [
        "# Bayesian Ridge linear imputation for continuous\n",
        "for var in ['Hospitalization_Rate_facility', 'Mortality_Rate_Facility', 'NEAR_DIST']:\n",
        "    completed = []\n",
        "    for i in range(5):\n",
        "        pred = ['sex_new', 'age_cat', 'race_new', var]\n",
        "        imputer = IterativeImputer(n_iter=5, sample_posterior=True, random_state=i)\n",
        "        completed.append(imputer.fit_transform(d[pred]))\n",
        "    completed_mean = np.mean(completed, axis=0)\n",
        "    imputed = pd.DataFrame(completed_mean, columns=pred)\n",
        "    if var == 'NEAR_DIST':\n",
        "        m = imputed[imputed.NEAR_DIST > 0].NEAR_DIST.mean()\n",
        "        imputed.NEAR_DIST = np.where(imputed.NEAR_DIST < 0, m, imputed.NEAR_DIST)\n",
        "    d = d.drop(var, axis=1).join(imputed[var])\n"
      ],
      "execution_count": 0,
      "outputs": []
    },
    {
      "metadata": {
        "id": "RPTmCPR035rC",
        "colab_type": "code",
        "colab": {}
      },
      "cell_type": "code",
      "source": [
        "##Cox model\n",
        "PH_data = d[['PROVUSRD', 'chain_class2', 'for_profit', 'sex_new', 'age_cat', 'race_new', 'dialysis_mod1', 'esrd_cause', 'bmi_35',\n",
        "                 'ashd_new', 'chf',\t'other_cardiac', 'cva_new',\t'pvasc_new', 'hypertension', 'diabetes', 'copd_new',\n",
        "                 'smoke_new', 'cancer_new', 'insurance_esrd', 'PATTXOP_MEDUNFITn',\n",
        "                 'network_us_region_dfr', 'NEAR_DIST', 'rucc_metro', 'wl', 'wl_time', 'livingd', 'ld_time', 'deceasedt', 'dec_time']]\n",
        "PH_data = PH_data.join(pd.get_dummies(PH_data.dialysis_mod1, prefix='dialysis_mod1', drop_first=True))\n",
        "PH_data = PH_data.join(pd.get_dummies(PH_data.insurance_esrd, prefix='insurance_esrd', drop_first=True))\n",
        "PH_data = PH_data.join(pd.get_dummies(pd.Categorical(PH_data.age_cat, [5, 1, 2, 3, 4, 6], True), prefix='age_cat', drop_first=True))\n",
        "PH_data = PH_data.join(pd.get_dummies(PH_data.race_new, prefix='race_new', drop_first=True))\n",
        "PH_data = PH_data.join(pd.get_dummies(PH_data.esrd_cause, prefix='esrd_cause', drop_first=True))\n",
        "PH_data = PH_data.join(pd.get_dummies(PH_data.network_us_region_dfr, prefix='network_us_region_dfr', drop_first=True))\n",
        "PH_data = PH_data.join(pd.get_dummies(pd.Categorical(PH_data.chain_class2, [6,5,2,1,3,4], True), prefix='chain_class2', drop_first=True))\n",
        "PH_data = PH_data.drop(['dialysis_mod1', 'esrd_cause', 'age_cat', 'race_new', 'chain_class2', 'insurance_esrd', 'network_us_region_dfr'], axis=1)"
      ],
      "execution_count": 0,
      "outputs": []
    },
    {
      "metadata": {
        "id": "Cj6JtIQ94A2y",
        "colab_type": "code",
        "colab": {}
      },
      "cell_type": "code",
      "source": [
        "crude = 'chain|deceasedt|dec_time'\n",
        "model1 = crude + '|sex_new|age_cat|race_new'\n",
        "model2 = model1 + '|dialysis_mod1|esrd_cause|bmi_35|ashd_new|other_cardiac|hypertension|diabetes|'\\\n",
        "                  'copd_new|smoke_new|cancer_new|chf|cva_new|pvasc_new'\n",
        "#chf|cva_new|pvasc_new'\n",
        "model3 = model2 + '|insurance_esrd|network_us_region_dfr|NEAR_DIST|rucc_metro|PATTXOP_MEDUNFITn' #PATTXOP_MEDUNFITn'\n"
      ],
      "execution_count": 0,
      "outputs": []
    },
    {
      "metadata": {
        "id": "37nzVT8M4LlT",
        "colab_type": "code",
        "colab": {}
      },
      "cell_type": "code",
      "source": [
        "varlist=\n",
        "['age_cat',\n",
        " 'sex_new',\n",
        " 'race_new',\n",
        " 'insurance_esrd',\n",
        " 'esrd_cause',\n",
        " 'dialysis_mod1',\n",
        " 'bmi_35',\n",
        " 'chf',\n",
        " 'ashd_new',\n",
        " 'other_cardiac',\n",
        " 'cva_new',\n",
        " 'pvasc_new',\n",
        " 'hypertension',\n",
        " 'diabetes',\n",
        " 'copd_new',\n",
        " 'smoke_new',\n",
        " 'cancer_new',\n",
        " 'nephcare_cat2',\n",
        " 'PATTXOP_MEDUNFITn',\n",
        " 'network_us_region_dfr',\n",
        " 'rucc_metro',\n",
        " 'NEAR_DIST']\n",
        "cph = CoxPHFitter()\n",
        "for main_var in varlist:\n",
        "  crude = main_var+'|deceasedt|dec_time'\n",
        "  cph.fit(PH_data.filter(regex=crude), duration_col='dec_time', event_col='deceasedt', step_size=0.5)\n",
        "  print(round(pd.concat([exp(cph.hazards_).rename('HR'), exp(cph.confidence_intervals_)], 1), 2))"
      ],
      "execution_count": 0,
      "outputs": []
    },
    {
      "metadata": {
        "id": "Ru6HTX4GV_Qx",
        "colab_type": "code",
        "colab": {
          "base_uri": "https://localhost:8080/",
          "height": 2386
        },
        "outputId": "28973a8a-0718-4e32-c644-5c677c9d96bc"
      },
      "cell_type": "code",
      "source": [
        "tmp = d[(d.wl==1) & (d.wl_time<=24)]\n",
        "for main_var in varlist:\n",
        "  print(pd.concat([tmp[main_var].value_counts(), round(tmp[main_var].value_counts()/len(tmp)*100, 1)], axis=1))"
      ],
      "execution_count": 78,
      "outputs": [
        {
          "output_type": "stream",
          "text": [
            "   age_cat  age_cat\n",
            "4    23952     28.8\n",
            "5    19254     23.1\n",
            "3    17887     21.5\n",
            "2    10806     13.0\n",
            "1     7362      8.8\n",
            "6     3976      4.8\n",
            "   sex_new  sex_new\n",
            "0    51814     62.2\n",
            "1    31423     37.8\n",
            "   race_new  race_new\n",
            "1     38348      46.1\n",
            "2     23772      28.6\n",
            "3     14449      17.4\n",
            "4      6668       8.0\n",
            "     insurance_esrd  insurance_esrd\n",
            "3.0           31698            38.1\n",
            "1.0           17446            21.0\n",
            "2.0           14906            17.9\n",
            "5.0           10259            12.3\n",
            "4.0            8928            10.7\n",
            "   esrd_cause  esrd_cause\n",
            "1       32873        39.5\n",
            "2       19964        24.0\n",
            "3       17116        20.6\n",
            "4       13284        16.0\n",
            "     dialysis_mod1  dialysis_mod1\n",
            "0.0          60269           72.4\n",
            "1.0          20704           24.9\n",
            "2.0           2264            2.7\n",
            "   bmi_35  bmi_35\n",
            "0   69598    83.6\n",
            "1   13639    16.4\n",
            "     chf   chf\n",
            "0  71234  85.6\n",
            "1  12003  14.4\n",
            "   ashd_new  ashd_new\n",
            "0     77601      93.2\n",
            "1      5636       6.8\n",
            "   other_cardiac  other_cardiac\n",
            "0          77962           93.7\n",
            "1           5275            6.3\n",
            "   cva_new  cva_new\n",
            "0    79919     96.0\n",
            "1     3318      4.0\n",
            "   pvasc_new  pvasc_new\n",
            "0      78728       94.6\n",
            "1       4509        5.4\n",
            "   hypertension  hypertension\n",
            "1         71600          86.0\n",
            "0         11637          14.0\n",
            "   diabetes  diabetes\n",
            "0     50808      61.0\n",
            "1     32429      39.0\n",
            "   copd_new  copd_new\n",
            "0     81416      97.8\n",
            "1      1821       2.2\n",
            "   smoke_new  smoke_new\n",
            "0      79475       95.5\n",
            "1       3762        4.5\n",
            "   cancer_new  cancer_new\n",
            "0       81262        97.6\n",
            "1        1975         2.4\n",
            "     nephcare_cat2  nephcare_cat2\n",
            "1.0          66125           79.4\n",
            "0.0          17112           20.6\n",
            "   PATTXOP_MEDUNFITn  PATTXOP_MEDUNFITn\n",
            "0              82785               99.5\n",
            "1                452                0.5\n",
            "   network_us_region_dfr  network_us_region_dfr\n",
            "1                  32173                   38.7\n",
            "2                  17981                   21.6\n",
            "3                  17378                   20.9\n",
            "0                  15705                   18.9\n",
            "     rucc_metro  rucc_metro\n",
            "1.0       72304        86.9\n",
            "0.0       10933        13.1\n",
            "               NEAR_DIST  NEAR_DIST\n",
            "66455.916474        2319        2.8\n",
            "10580.850746        1630        2.0\n",
            "795.046588          1579        1.9\n",
            "2206.387298         1311        1.6\n",
            "1089.095554         1264        1.5\n",
            "152.497341           923        1.1\n",
            "191.173330           819        1.0\n",
            "2710.246675          766        0.9\n",
            "9560.990963          728        0.9\n",
            "1746.013008          716        0.9\n",
            "186.233412           709        0.9\n",
            "1027.766490          662        0.8\n",
            "676.327074           661        0.8\n",
            "210.070973           564        0.7\n",
            "1996.774036          550        0.7\n",
            "782.221063           508        0.6\n",
            "173.603180           453        0.5\n",
            "1296.916236          416        0.5\n",
            "5244.047952          402        0.5\n",
            "2957.491987          357        0.4\n",
            "199.953149           314        0.4\n",
            "3048.621802          312        0.4\n",
            "1073.845027          281        0.3\n",
            "1261.943700          266        0.3\n",
            "15370.599814         165        0.2\n",
            "4595.978513          139        0.2\n",
            "1324.719056          132        0.2\n",
            "11581.624674         127        0.2\n",
            "261650.167030        107        0.1\n",
            "9567.377500          100        0.1\n",
            "...                  ...        ...\n",
            "234620.180963          1        0.0\n",
            "45339.047978           1        0.0\n",
            "104513.595108          1        0.0\n",
            "69065.947350           1        0.0\n",
            "59424.482887           1        0.0\n",
            "68488.607413           1        0.0\n",
            "174272.057127          1        0.0\n",
            "107835.049805          1        0.0\n",
            "221225.071181          1        0.0\n",
            "80034.713652           1        0.0\n",
            "62189.459140           1        0.0\n",
            "164381.149397          1        0.0\n",
            "124901.651414          1        0.0\n",
            "178945.431375          1        0.0\n",
            "65716.208229           1        0.0\n",
            "16092.316876           1        0.0\n",
            "70931.126033           1        0.0\n",
            "49662.447369           1        0.0\n",
            "36956.422262           1        0.0\n",
            "126038.998621          1        0.0\n",
            "213134.499133          1        0.0\n",
            "126166.334975          1        0.0\n",
            "64695.402949           1        0.0\n",
            "19329.421090           1        0.0\n",
            "4581.647043            1        0.0\n",
            "125489.326871          1        0.0\n",
            "32764.804296           1        0.0\n",
            "90489.357435           1        0.0\n",
            "86277.527670           1        0.0\n",
            "62197.822218           1        0.0\n",
            "\n",
            "[19744 rows x 2 columns]\n"
          ],
          "name": "stdout"
        }
      ]
    }
  ]
}