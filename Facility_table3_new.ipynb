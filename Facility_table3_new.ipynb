{
  "nbformat": 4,
  "nbformat_minor": 0,
  "metadata": {
    "colab": {
      "name": "Facility_table3.ipynb",
      "provenance": [],
      "collapsed_sections": [],
      "toc_visible": true
    },
    "kernelspec": {
      "name": "python3",
      "display_name": "Python 3"
    },
    "accelerator": "GPU"
  },
  "cells": [
    {
      "cell_type": "markdown",
      "metadata": {
        "id": "H7ItOyteBty0",
        "colab_type": "text"
      },
      "source": [
        "# JAMA revision round 4"
      ]
    },
    {
      "cell_type": "code",
      "metadata": {
        "id": "nDDlQCI6003-",
        "colab_type": "code",
        "colab": {
          "base_uri": "https://localhost:8080/",
          "height": 369
        },
        "outputId": "6bf8fae8-c945-43ef-d8ae-18d02027d18a"
      },
      "source": [
        "!pip install lifelines"
      ],
      "execution_count": 1,
      "outputs": [
        {
          "output_type": "stream",
          "text": [
            "Collecting lifelines\n",
            "\u001b[?25l  Downloading https://files.pythonhosted.org/packages/b2/96/74e1f74cc00474b969e137ab65246189b1e5841c6ab2eed98c65027bcfcb/lifelines-0.22.8-py2.py3-none-any.whl (338kB)\n",
            "\u001b[K     |████████████████████████████████| 348kB 2.8MB/s \n",
            "\u001b[?25hRequirement already satisfied: matplotlib>=3.0 in /usr/local/lib/python3.6/dist-packages (from lifelines) (3.0.3)\n",
            "Requirement already satisfied: autograd>=1.3 in /usr/local/lib/python3.6/dist-packages (from lifelines) (1.3)\n",
            "Collecting autograd-gamma>=0.3 (from lifelines)\n",
            "  Downloading https://files.pythonhosted.org/packages/3e/87/788c4bf90cc5c534cb3b7fdb5b719175e33e2658decce75e35e2ce69766f/autograd_gamma-0.4.1-py2.py3-none-any.whl\n",
            "Requirement already satisfied: scipy>=1.0 in /usr/local/lib/python3.6/dist-packages (from lifelines) (1.3.1)\n",
            "Requirement already satisfied: numpy>=1.14.0 in /usr/local/lib/python3.6/dist-packages (from lifelines) (1.16.5)\n",
            "Requirement already satisfied: pandas>=0.23.0 in /usr/local/lib/python3.6/dist-packages (from lifelines) (0.24.2)\n",
            "Requirement already satisfied: pyparsing!=2.0.4,!=2.1.2,!=2.1.6,>=2.0.1 in /usr/local/lib/python3.6/dist-packages (from matplotlib>=3.0->lifelines) (2.4.2)\n",
            "Requirement already satisfied: kiwisolver>=1.0.1 in /usr/local/lib/python3.6/dist-packages (from matplotlib>=3.0->lifelines) (1.1.0)\n",
            "Requirement already satisfied: python-dateutil>=2.1 in /usr/local/lib/python3.6/dist-packages (from matplotlib>=3.0->lifelines) (2.5.3)\n",
            "Requirement already satisfied: cycler>=0.10 in /usr/local/lib/python3.6/dist-packages (from matplotlib>=3.0->lifelines) (0.10.0)\n",
            "Requirement already satisfied: future>=0.15.2 in /usr/local/lib/python3.6/dist-packages (from autograd>=1.3->lifelines) (0.16.0)\n",
            "Requirement already satisfied: pytz>=2011k in /usr/local/lib/python3.6/dist-packages (from pandas>=0.23.0->lifelines) (2018.9)\n",
            "Requirement already satisfied: setuptools in /usr/local/lib/python3.6/dist-packages (from kiwisolver>=1.0.1->matplotlib>=3.0->lifelines) (41.2.0)\n",
            "Requirement already satisfied: six>=1.5 in /usr/local/lib/python3.6/dist-packages (from python-dateutil>=2.1->matplotlib>=3.0->lifelines) (1.12.0)\n",
            "Installing collected packages: autograd-gamma, lifelines\n",
            "Successfully installed autograd-gamma-0.4.1 lifelines-0.22.8\n"
          ],
          "name": "stdout"
        }
      ]
    },
    {
      "cell_type": "markdown",
      "metadata": {
        "id": "Y-en___SB6iu",
        "colab_type": "text"
      },
      "source": [
        "## Import packages\n",
        "\n"
      ]
    },
    {
      "cell_type": "code",
      "metadata": {
        "id": "00Rn5KMozIK9",
        "colab_type": "code",
        "outputId": "46f065b5-4917-473f-8732-e962c284b2eb",
        "colab": {
          "base_uri": "https://localhost:8080/",
          "height": 90
        }
      },
      "source": [
        "import pandas as pd, numpy as np, re\n",
        "from numpy import exp, mean\n",
        "from fancyimpute import IterativeImputer\n",
        "from sklearn.ensemble import RandomForestClassifier\n",
        "from lifelines import CoxPHFitter, AalenJohansenFitter, KaplanMeierFitter\n",
        "import warnings\n",
        "warnings.filterwarnings('ignore')"
      ],
      "execution_count": 2,
      "outputs": [
        {
          "output_type": "stream",
          "text": [
            "/usr/local/lib/python3.6/dist-packages/sklearn/externals/six.py:31: DeprecationWarning: The module is deprecated in version 0.21 and will be removed in version 0.23 since we've dropped support for Python 2.7. Please rely on the official version of six (https://pypi.org/project/six/).\n",
            "  \"(https://pypi.org/project/six/).\", DeprecationWarning)\n",
            "Using TensorFlow backend.\n"
          ],
          "name": "stderr"
        }
      ]
    },
    {
      "cell_type": "code",
      "metadata": {
        "id": "VqDzEmUndAN5",
        "colab_type": "code",
        "outputId": "316307b1-c881-469e-9909-ced941d17bcc",
        "colab": {
          "base_uri": "https://localhost:8080/",
          "height": 34
        }
      },
      "source": [
        "from google.colab import drive\n",
        "drive.mount('/content/drive')"
      ],
      "execution_count": 13,
      "outputs": [
        {
          "output_type": "stream",
          "text": [
            "Mounted at /content/drive\n"
          ],
          "name": "stdout"
        }
      ]
    },
    {
      "cell_type": "markdown",
      "metadata": {
        "id": "TY5wkW5xIwqs",
        "colab_type": "text"
      },
      "source": [
        "## **Read data**"
      ]
    },
    {
      "cell_type": "code",
      "metadata": {
        "id": "FSOOxHrj28Di",
        "colab_type": "code",
        "colab": {}
      },
      "source": [
        "# whole cohort (N=1,478,506)\n",
        "data_param = \"Fortable3mi_ld_dec_censored1.csv\" #@param [\"colab.csv\", \"Fortable3mi_ld_dec_censored1.csv\"]\n",
        "d = pd.read_csv('drive/My Drive/facility/'+data_param) \n",
        "d['rucc_rural'] = np.where(d.RUCC_2013.isin([1, 2, 3]), 0, (np.where(d.RUCC_2013.isna(), np.nan, 1)))\n",
        "d = d.drop(['RUCC_2013'], axis=1)"
      ],
      "execution_count": 0,
      "outputs": []
    },
    {
      "cell_type": "code",
      "metadata": {
        "id": "GAey0UBXbmz1",
        "colab_type": "code",
        "outputId": "149a08a8-e30e-4fcc-ca93-d1b2bfc4135c",
        "colab": {
          "base_uri": "https://localhost:8080/",
          "height": 34
        }
      },
      "source": [
        "d.shape"
      ],
      "execution_count": 35,
      "outputs": [
        {
          "output_type": "execute_result",
          "data": {
            "text/plain": [
              "(1573056, 47)"
            ]
          },
          "metadata": {
            "tags": []
          },
          "execution_count": 35
        }
      ]
    },
    {
      "cell_type": "code",
      "metadata": {
        "id": "YKn1BtkDwJY2",
        "colab_type": "code",
        "colab": {
          "base_uri": "https://localhost:8080/",
          "height": 70
        },
        "outputId": "bb193366-83f5-4de7-d55d-9f3f923faaa9"
      },
      "source": [
        "d.wlist.value_counts()"
      ],
      "execution_count": 40,
      "outputs": [
        {
          "output_type": "execute_result",
          "data": {
            "text/plain": [
              "0    1351054\n",
              "1     222002\n",
              "Name: wlist, dtype: int64"
            ]
          },
          "metadata": {
            "tags": []
          },
          "execution_count": 40
        }
      ]
    },
    {
      "cell_type": "markdown",
      "metadata": {
        "id": "HGQmKndzCPhD",
        "colab_type": "text"
      },
      "source": [
        "#**Multiple imputation**"
      ]
    },
    {
      "cell_type": "markdown",
      "metadata": {
        "id": "HXdvjdj8HyFG",
        "colab_type": "text"
      },
      "source": [
        "\n",
        "##**Random forest imputation for categorical**"
      ]
    },
    {
      "cell_type": "code",
      "metadata": {
        "id": "JUn4sG8n1YpT",
        "colab_type": "code",
        "colab": {}
      },
      "source": [
        "for var in ['dialysis_mod1', 'insurance_esrd', 'rucc_rural', 'nephcare_cat2']:\n",
        "    pred = ['sex_new', 'age_cat', 'race_new', var]\n",
        "    imputer = IterativeImputer(n_iter=1, random_state=7, predictor=RandomForestClassifier(n_estimators=10))\n",
        "    imputed = pd.DataFrame(imputer.fit_transform(d[pred]), columns=pred)\n",
        "    d = d.drop(var, axis=1).join(imputed[var])"
      ],
      "execution_count": 0,
      "outputs": []
    },
    {
      "cell_type": "markdown",
      "metadata": {
        "id": "gt27VI7ZH7Yi",
        "colab_type": "text"
      },
      "source": [
        "\n",
        "##**Bayesian Ridge linear imputation for continuous**\n"
      ]
    },
    {
      "cell_type": "code",
      "metadata": {
        "id": "dZh15RQI1b31",
        "colab_type": "code",
        "colab": {}
      },
      "source": [
        "for var in ['Hospitalization_Rate_facility', 'Mortality_Rate_Facility', 'NEAR_DIST']:\n",
        "    completed = []\n",
        "    for i in range(5):\n",
        "        pred = ['sex_new', 'age_cat', 'race_new', var]\n",
        "        imputer = IterativeImputer(n_iter=5, sample_posterior=True, random_state=i)\n",
        "        completed.append(imputer.fit_transform(d[pred]))\n",
        "    completed_mean = np.mean(completed, axis=0)\n",
        "    imputed = pd.DataFrame(completed_mean, columns=pred)\n",
        "    if var == 'NEAR_DIST':\n",
        "        m = imputed[imputed.NEAR_DIST > 0].NEAR_DIST.mean()\n",
        "        imputed.NEAR_DIST = np.where(imputed.NEAR_DIST < 0, m, imputed.NEAR_DIST)\n",
        "    d = d.drop(var, axis=1).join(imputed[var])"
      ],
      "execution_count": 0,
      "outputs": []
    },
    {
      "cell_type": "markdown",
      "metadata": {
        "id": "0kH16VvFIJkD",
        "colab_type": "text"
      },
      "source": [
        "#**Create cohort for Cox model**\n",
        "\n",
        "**1) dummy code and order levels based on table**\n",
        "\n",
        "**2) drop unneeded variables**"
      ]
    },
    {
      "cell_type": "code",
      "metadata": {
        "id": "RPTmCPR035rC",
        "colab_type": "code",
        "colab": {}
      },
      "source": [
        "# standard cohort\n",
        "PH_data = d[['PROVUSRD', 'chain_class2', 'for_profit', 'sex_new', 'age_cat', 'race_new', 'dialysis_mod1', 'esrd_cause', 'bmi_35',\n",
        "                 'ashd_new', 'chf',\t'other_cardiac', 'cva_new',\t'pvasc_new', 'hypertension', 'diabetes', 'copd_new',\n",
        "                 'smoke_new', 'cancer_new', 'insurance_esrd', 'PATTXOP_MEDUNFITn','nephcare_cat2',  'profit_txc', 'profit_hosp', #'change_status',\n",
        "                 'network_us_region_dfr', 'NEAR_DIST', 'rucc_rural', 'wl', 'wl_time', 'livingd', 'ld_time', 'deceasedt', 'dec_time']]\n",
        "PH_data = PH_data.join(pd.get_dummies(PH_data.dialysis_mod1, prefix='dialysis_mod1', drop_first=True))\n",
        "PH_data = PH_data.join(pd.get_dummies(pd.Categorical(PH_data.insurance_esrd, [3, 2, 1, 4, 5], True), prefix='insurance_esrd', drop_first=True))\n",
        "PH_data = PH_data.join(pd.get_dummies(pd.Categorical(PH_data.age_cat, [5, 1, 2, 3, 4, 6], True), prefix='age_cat', drop_first=True)) # delete category \"6\" for ideal cohort!\n",
        "PH_data = PH_data.join(pd.get_dummies(PH_data.race_new, prefix='race_new', drop_first=True))\n",
        "PH_data = PH_data.join(pd.get_dummies(PH_data.esrd_cause, prefix='esrd_cause', drop_first=True))\n",
        "PH_data = PH_data.join(pd.get_dummies(PH_data.network_us_region_dfr, prefix='network_us_region_dfr', drop_first=True))\n",
        "PH_data = PH_data.join(pd.get_dummies(pd.Categorical(PH_data.chain_class2, [6, 5, 2, 1, 3, 4], True), prefix='chain_class2', drop_first=True))\n",
        "PH_data = PH_data.join(pd.get_dummies(PH_data.profit_txc, prefix='profit_txc', drop_first=True))\n",
        "PH_data = PH_data.join(pd.get_dummies(PH_data.profit_hosp, prefix='profit_hosp', drop_first=True))\n",
        "# PH_data = PH_data.join(pd.get_dummies(PH_data.change_status, prefix='change_status', drop_first=True))\n",
        "PH_data = PH_data.drop(['dialysis_mod1',\n",
        "            'esrd_cause', \n",
        "            'age_cat', \n",
        "            'race_new', \n",
        "            'chain_class2', \n",
        "            # 'change_status',\n",
        "            'insurance_esrd', \n",
        "            'network_us_region_dfr', \n",
        "            'profit_txc', \n",
        "            'profit_hosp'\n",
        "            ], axis=1)\n",
        "\n",
        "# ideal cohort\n",
        "ideal = d[(d.INC_AGE < 66) &\n",
        "  (d.pvasc_new == 0) &\n",
        "  (d.chf == 0) &\n",
        "  (d.cva_new == 0) &\n",
        "  (d.PATTXOP_MEDUNFITn == 0)].reset_index(drop=True)\n",
        "\n",
        "PH_data_ideal = ideal[['PROVUSRD', 'chain_class2', 'for_profit', 'sex_new', 'age_cat', 'race_new', 'dialysis_mod1', 'esrd_cause', 'bmi_35',\n",
        "                 'ashd_new', 'chf',\t'other_cardiac', 'cva_new',\t'pvasc_new', 'hypertension', 'diabetes', 'copd_new',\n",
        "                 'smoke_new', 'cancer_new', 'insurance_esrd', 'PATTXOP_MEDUNFITn','nephcare_cat2',\n",
        "                 'network_us_region_dfr', 'NEAR_DIST', 'rucc_rural', 'wl', 'wl_time', 'livingd', 'ld_time', 'deceasedt', 'dec_time']]\n",
        "PH_data_ideal = PH_data_ideal.join(pd.get_dummies(PH_data_ideal.dialysis_mod1, prefix='dialysis_mod1', drop_first=True))\n",
        "PH_data_ideal = PH_data_ideal.join(pd.get_dummies(pd.Categorical(PH_data_ideal.insurance_esrd, [3, 2, 1, 4, 5], True), prefix='insurance_esrd', drop_first=True))\n",
        "PH_data_ideal = PH_data_ideal.join(pd.get_dummies(pd.Categorical(PH_data_ideal.age_cat, [5, 1, 2, 3, 4], True), prefix='age_cat', drop_first=True)) # delete category \"6\" for ideal cohort!\n",
        "PH_data_ideal = PH_data_ideal.join(pd.get_dummies(PH_data_ideal.race_new, prefix='race_new', drop_first=True))\n",
        "PH_data_ideal = PH_data_ideal.join(pd.get_dummies(PH_data_ideal.esrd_cause, prefix='esrd_cause', drop_first=True))\n",
        "PH_data_ideal = PH_data_ideal.join(pd.get_dummies(PH_data_ideal.network_us_region_dfr, prefix='network_us_region_dfr', drop_first=True))\n",
        "PH_data_ideal = PH_data_ideal.join(pd.get_dummies(pd.Categorical(PH_data_ideal.chain_class2, [6,5,2,1,3,4], True), prefix='chain_class2', drop_first=True))\n",
        "PH_data_ideal = PH_data_ideal.drop(['dialysis_mod1', 'esrd_cause', 'age_cat', 'race_new', 'chain_class2', 'insurance_esrd', 'network_us_region_dfr'], axis=1)"
      ],
      "execution_count": 0,
      "outputs": []
    },
    {
      "cell_type": "markdown",
      "metadata": {
        "id": "hFoDZPAavdLH",
        "colab_type": "text"
      },
      "source": [
        "##Table 1"
      ]
    },
    {
      "cell_type": "code",
      "metadata": {
        "id": "37nzVT8M4LlT",
        "colab_type": "code",
        "colab": {}
      },
      "source": [
        "varlist=['chain_class2',\n",
        "         'for_profit',\n",
        "          'age_cat',\n",
        "         'sex_new',\n",
        "         'race_new',\n",
        "         'insurance_esrd',\n",
        "         'esrd_cause',\n",
        "         'dialysis_mod1',\n",
        "         'bmi_35',\n",
        "         'chf',\n",
        "         'ashd_new',\n",
        "         'other_cardiac',\n",
        "         'cva_new',\n",
        "         'pvasc_new',\n",
        "         'hypertension',\n",
        "         'diabetes',\n",
        "         'copd_new',\n",
        "         'smoke_new',\n",
        "         'cancer_new',\n",
        "         'nephcare_cat2',\n",
        "         'PATTXOP_MEDUNFITn',\n",
        "         'network_us_region_dfr',\n",
        "         'rucc_rural',\n",
        "         'NEAR_DIST']\n"
      ],
      "execution_count": 0,
      "outputs": []
    },
    {
      "cell_type": "code",
      "metadata": {
        "id": "iBk7O5U5vca-",
        "colab_type": "code",
        "colab": {}
      },
      "source": [
        "with open('test.txt', 'a') as f:\n",
        "  for groupvar in ['chain_class2', 'for_profit']:\n",
        "    freq = d.groupby(by=groupvar).esrd_cause.value_counts(sort=False)\n",
        "    pct = freq.groupby(by=groupvar).apply(lambda x: round(x/x.sum()*100, 1))\n",
        "    print(pd.concat([freq.rename('count'), pct.rename('pct')], axis=1), file=f)"
      ],
      "execution_count": 0,
      "outputs": []
    },
    {
      "cell_type": "markdown",
      "metadata": {
        "id": "IB6CFrA97xBB",
        "colab_type": "text"
      },
      "source": [
        "\n",
        "##**Table 2**"
      ]
    },
    {
      "cell_type": "code",
      "metadata": {
        "id": "wta3yOHCcqQL",
        "colab_type": "code",
        "outputId": "1e54529d-3f1a-43f4-afbc-5b663149fef9",
        "colab": {
          "base_uri": "https://localhost:8080/",
          "height": 1000
        }
      },
      "source": [
        "# Truncate follow-up time\n",
        "def truncate(t):\n",
        "    e = PH_data.copy()\n",
        "    if t>0:\n",
        "      e.loc[e['wl_time'] > t, 'wl']=0\n",
        "      e.loc[e['wl_time'] > t, 'wl_time']=t\n",
        "      e.loc[e['ld_time'] > t, 'livingd']=0\n",
        "      e.loc[e['ld_time'] > t, 'ld_time']=t\n",
        "      e.loc[e['dec_time'] > t, 'deceasedt']=0\n",
        "      e.loc[e['dec_time'] > t, 'dec_time']=t\n",
        "    return e\n",
        "  \n",
        "\n",
        "cph = CoxPHFitter()\n",
        "for time, status in zip(['wl_time', 'ld_time', 'dec_time'], ['wl', 'livingd', 'deceasedt']):\n",
        "  print('-'*30, status,'-'*30)\n",
        "  for exposure in varlist:\n",
        "    crude = '|'.join([exposure, time, status])\n",
        "    cph.fit(truncate(0).filter(regex=crude), duration_col=time, event_col=status, step_size=0.5)\n",
        "    print(round(pd.concat([cph.hazard_ratios_.rename('HR'), exp(cph.confidence_intervals_)], 1), 2))"
      ],
      "execution_count": 46,
      "outputs": [
        {
          "output_type": "stream",
          "text": [
            "------------------------------ wl ------------------------------\n",
            "                  HR  95% lower-bound  95% upper-bound\n",
            "chain_class2_5  1.02             0.99             1.04\n",
            "chain_class2_2  0.91             0.90             0.93\n",
            "chain_class2_1  0.86             0.85             0.88\n",
            "chain_class2_3  0.88             0.87             0.90\n",
            "chain_class2_4  0.82             0.80             0.84\n",
            "              HR  95% lower-bound  95% upper-bound\n",
            "for_profit  0.88             0.86             0.89\n",
            "             HR  95% lower-bound  95% upper-bound\n",
            "age_cat_1  3.62             3.56             3.68\n",
            "age_cat_2  2.62             2.58             2.65\n",
            "age_cat_3  2.12             2.10             2.15\n",
            "age_cat_4  1.63             1.61             1.65\n",
            "age_cat_6  0.14             0.14             0.14\n",
            "           HR  95% lower-bound  95% upper-bound\n",
            "sex_new  0.74             0.74             0.75\n",
            "              HR  95% lower-bound  95% upper-bound\n",
            "race_new_2  1.26             1.25             1.27\n",
            "race_new_3  1.65             1.63             1.67\n",
            "race_new_4  1.74             1.71             1.76\n",
            "                    HR  95% lower-bound  95% upper-bound\n",
            "insurance_esrd_2  0.21             0.21             0.21\n",
            "insurance_esrd_1  0.40             0.39             0.40\n",
            "insurance_esrd_4  0.69             0.68             0.70\n",
            "insurance_esrd_5  0.68             0.67             0.69\n",
            "                HR  95% lower-bound  95% upper-bound\n",
            "esrd_cause_2  1.02             1.01             1.03\n",
            "esrd_cause_3  2.69             2.66             2.72\n",
            "esrd_cause_4  1.20             1.19             1.21\n",
            "                     HR  95% lower-bound  95% upper-bound\n",
            "dialysis_mod1_1.0  2.50             2.47             2.53\n",
            "dialysis_mod1_2.0  1.26             1.22             1.30\n",
            "          HR  95% lower-bound  95% upper-bound\n",
            "bmi_35  0.86             0.85             0.87\n",
            "       HR  95% lower-bound  95% upper-bound\n",
            "chf  0.42             0.42             0.43\n",
            "            HR  95% lower-bound  95% upper-bound\n",
            "ashd_new  0.48             0.47             0.49\n",
            "                 HR  95% lower-bound  95% upper-bound\n",
            "other_cardiac  0.49             0.48              0.5\n",
            "           HR  95% lower-bound  95% upper-bound\n",
            "cva_new  0.44             0.43             0.45\n",
            "             HR  95% lower-bound  95% upper-bound\n",
            "pvasc_new  0.41              0.4             0.42\n",
            "                HR  95% lower-bound  95% upper-bound\n",
            "hypertension  1.09             1.08             1.11\n",
            "            HR  95% lower-bound  95% upper-bound\n",
            "diabetes  0.73             0.73             0.74\n",
            "            HR  95% lower-bound  95% upper-bound\n",
            "copd_new  0.26             0.26             0.27\n",
            "             HR  95% lower-bound  95% upper-bound\n",
            "smoke_new  0.69             0.68              0.7\n",
            "              HR  95% lower-bound  95% upper-bound\n",
            "cancer_new  0.39             0.38              0.4\n",
            "                 HR  95% lower-bound  95% upper-bound\n",
            "nephcare_cat2  1.09             1.08              1.1\n",
            "                     HR  95% lower-bound  95% upper-bound\n",
            "PATTXOP_MEDUNFITn  0.13             0.13             0.14\n",
            "                           HR  95% lower-bound  95% upper-bound\n",
            "network_us_region_dfr_1  0.82             0.81             0.83\n",
            "network_us_region_dfr_2  0.77             0.76             0.78\n",
            "network_us_region_dfr_3  1.03             1.02             1.04\n",
            "             HR  95% lower-bound  95% upper-bound\n",
            "rucc_rural  0.4              0.4             0.41\n",
            "            HR  95% lower-bound  95% upper-bound\n",
            "NEAR_DIST  1.0              1.0              1.0\n",
            "------------------------------ livingd ------------------------------\n",
            "                  HR  95% lower-bound  95% upper-bound\n",
            "chain_class2_5  1.13             1.07             1.20\n",
            "chain_class2_2  0.84             0.80             0.87\n",
            "chain_class2_1  0.84             0.81             0.87\n",
            "chain_class2_3  0.74             0.71             0.78\n",
            "chain_class2_4  0.75             0.71             0.79\n",
            "              HR  95% lower-bound  95% upper-bound\n",
            "for_profit  0.78             0.76              0.8\n",
            "             HR  95% lower-bound  95% upper-bound\n",
            "age_cat_1  8.72             8.43             9.03\n",
            "age_cat_2  4.44             4.29             4.59\n",
            "age_cat_3  2.72             2.63             2.81\n",
            "age_cat_4  1.72             1.67             1.78\n",
            "age_cat_6  0.16             0.15             0.17\n",
            "           HR  95% lower-bound  95% upper-bound\n",
            "sex_new  0.73             0.72             0.75\n",
            "              HR  95% lower-bound  95% upper-bound\n",
            "race_new_2  0.42             0.41             0.43\n",
            "race_new_3  0.90             0.87             0.92\n",
            "race_new_4  0.80             0.77             0.83\n",
            "                    HR  95% lower-bound  95% upper-bound\n",
            "insurance_esrd_2  0.13             0.13             0.14\n",
            "insurance_esrd_1  0.20             0.19             0.20\n",
            "insurance_esrd_4  0.63             0.61             0.65\n",
            "insurance_esrd_5  0.41             0.40             0.43\n",
            "                HR  95% lower-bound  95% upper-bound\n",
            "esrd_cause_2  1.12             1.09             1.15\n",
            "esrd_cause_3  5.49             5.35             5.63\n",
            "esrd_cause_4  2.24             2.18             2.31\n",
            "                     HR  95% lower-bound  95% upper-bound\n",
            "dialysis_mod1_1.0  3.29             3.21             3.37\n",
            "dialysis_mod1_2.0  1.69             1.58             1.81\n",
            "          HR  95% lower-bound  95% upper-bound\n",
            "bmi_35  0.64             0.62             0.65\n",
            "       HR  95% lower-bound  95% upper-bound\n",
            "chf  0.29             0.28              0.3\n",
            "            HR  95% lower-bound  95% upper-bound\n",
            "ashd_new  0.37             0.35             0.39\n",
            "                 HR  95% lower-bound  95% upper-bound\n",
            "other_cardiac  0.37             0.35             0.39\n",
            "           HR  95% lower-bound  95% upper-bound\n",
            "cva_new  0.31             0.29             0.33\n",
            "             HR  95% lower-bound  95% upper-bound\n",
            "pvasc_new  0.32              0.3             0.33\n",
            "                HR  95% lower-bound  95% upper-bound\n",
            "hypertension  0.81             0.78             0.83\n",
            "            HR  95% lower-bound  95% upper-bound\n",
            "diabetes  0.43             0.42             0.44\n",
            "            HR  95% lower-bound  95% upper-bound\n",
            "copd_new  0.21             0.19             0.23\n",
            "             HR  95% lower-bound  95% upper-bound\n",
            "smoke_new  0.62             0.58             0.65\n",
            "              HR  95% lower-bound  95% upper-bound\n",
            "cancer_new  0.45             0.42             0.48\n",
            "                 HR  95% lower-bound  95% upper-bound\n",
            "nephcare_cat2  1.21             1.18             1.25\n",
            "                     HR  95% lower-bound  95% upper-bound\n",
            "PATTXOP_MEDUNFITn  0.09             0.08             0.11\n",
            "                           HR  95% lower-bound  95% upper-bound\n",
            "network_us_region_dfr_1  0.68             0.66             0.70\n",
            "network_us_region_dfr_2  1.05             1.02             1.08\n",
            "network_us_region_dfr_3  0.92             0.89             0.95\n",
            "              HR  95% lower-bound  95% upper-bound\n",
            "rucc_rural  0.58             0.56             0.61\n",
            "            HR  95% lower-bound  95% upper-bound\n",
            "NEAR_DIST  1.0              1.0              1.0\n",
            "------------------------------ deceasedt ------------------------------\n",
            "                  HR  95% lower-bound  95% upper-bound\n",
            "chain_class2_5  0.96             0.92             0.99\n",
            "chain_class2_2  0.83             0.81             0.85\n",
            "chain_class2_1  0.84             0.82             0.86\n",
            "chain_class2_3  0.80             0.78             0.83\n",
            "chain_class2_4  0.71             0.69             0.74\n",
            "              HR  95% lower-bound  95% upper-bound\n",
            "for_profit  0.83             0.82             0.85\n",
            "             HR  95% lower-bound  95% upper-bound\n",
            "age_cat_1  3.82             3.73             3.92\n",
            "age_cat_2  3.13             3.06             3.20\n",
            "age_cat_3  2.20             2.15             2.24\n",
            "age_cat_4  1.60             1.56             1.63\n",
            "age_cat_6  0.17             0.16             0.18\n",
            "           HR  95% lower-bound  95% upper-bound\n",
            "sex_new  0.73             0.72             0.74\n",
            "              HR  95% lower-bound  95% upper-bound\n",
            "race_new_2  0.93             0.92             0.94\n",
            "race_new_3  1.01             0.99             1.03\n",
            "race_new_4  1.16             1.13             1.19\n",
            "                    HR  95% lower-bound  95% upper-bound\n",
            "insurance_esrd_2  0.23             0.22             0.23\n",
            "insurance_esrd_1  0.39             0.38             0.40\n",
            "insurance_esrd_4  0.67             0.65             0.68\n",
            "insurance_esrd_5  0.63             0.61             0.64\n",
            "                HR  95% lower-bound  95% upper-bound\n",
            "esrd_cause_2  0.98             0.96             1.00\n",
            "esrd_cause_3  2.19             2.15             2.23\n",
            "esrd_cause_4  1.14             1.11             1.16\n",
            "                     HR  95% lower-bound  95% upper-bound\n",
            "dialysis_mod1_1.0  3.05             3.00             3.11\n",
            "dialysis_mod1_2.0  1.31             1.24             1.38\n",
            "          HR  95% lower-bound  95% upper-bound\n",
            "bmi_35  0.65             0.64             0.67\n",
            "       HR  95% lower-bound  95% upper-bound\n",
            "chf  0.42             0.41             0.43\n",
            "            HR  95% lower-bound  95% upper-bound\n",
            "ashd_new  0.43             0.42             0.44\n",
            "                 HR  95% lower-bound  95% upper-bound\n",
            "other_cardiac  0.48             0.46             0.49\n",
            "           HR  95% lower-bound  95% upper-bound\n",
            "cva_new  0.43             0.42             0.45\n",
            "             HR  95% lower-bound  95% upper-bound\n",
            "pvasc_new  0.41              0.4             0.43\n",
            "                HR  95% lower-bound  95% upper-bound\n",
            "hypertension  1.08             1.06              1.1\n",
            "            HR  95% lower-bound  95% upper-bound\n",
            "diabetes  0.78             0.76             0.79\n",
            "            HR  95% lower-bound  95% upper-bound\n",
            "copd_new  0.29             0.27              0.3\n",
            "             HR  95% lower-bound  95% upper-bound\n",
            "smoke_new  0.73             0.71             0.75\n",
            "              HR  95% lower-bound  95% upper-bound\n",
            "cancer_new  0.41              0.4             0.43\n",
            "                 HR  95% lower-bound  95% upper-bound\n",
            "nephcare_cat2  1.23             1.21             1.25\n",
            "                     HR  95% lower-bound  95% upper-bound\n",
            "PATTXOP_MEDUNFITn  0.14             0.13             0.16\n",
            "                           HR  95% lower-bound  95% upper-bound\n",
            "network_us_region_dfr_1  0.89             0.87             0.91\n",
            "network_us_region_dfr_2  1.00             0.98             1.02\n",
            "network_us_region_dfr_3  0.89             0.87             0.91\n",
            "             HR  95% lower-bound  95% upper-bound\n",
            "rucc_rural  0.5             0.48             0.51\n",
            "            HR  95% lower-bound  95% upper-bound\n",
            "NEAR_DIST  1.0              1.0              1.0\n"
          ],
          "name": "stdout"
        }
      ]
    },
    {
      "cell_type": "code",
      "metadata": {
        "id": "R2qZ88uOcsqX",
        "colab_type": "code",
        "colab": {
          "base_uri": "https://localhost:8080/",
          "height": 650
        },
        "outputId": "a67d2a76-5dd3-43c3-8c02-213cbbd55200"
      },
      "source": [
        "for case, time in zip(['wl', 'livingd', 'deceasedt'], ['wl_time', 'ld_time', 'dec_time']):\n",
        "  tmp = d\n",
        "  count = tmp.groupby('chain_class2')[case].sum().map('{:,}'.format)\n",
        "  pyr = (tmp.groupby('chain_class2')[time].sum()/12).map(' /{:,.0f}'.format)\n",
        "  print(count+pyr)\n",
        "  count1 = tmp.groupby('for_profit')[case].sum().map('{:,}'.format)\n",
        "  pyr1 = (tmp.groupby('for_profit')[time].sum()/12).map(' /{:,.0f}'.format)\n",
        "  print(count1+pyr1)"
      ],
      "execution_count": 47,
      "outputs": [
        {
          "output_type": "stream",
          "text": [
            "chain_class2\n",
            "1    73,851 /1,470,874\n",
            "2    78,880 /1,490,717\n",
            "3      35,241 /680,501\n",
            "4      13,727 /285,040\n",
            "5      10,058 /173,908\n",
            "6      18,351 /318,129\n",
            "dtype: object\n",
            "for_profit\n",
            "0       28,409 /492,038\n",
            "1    201,699 /3,927,133\n",
            "dtype: object\n",
            "chain_class2\n",
            "1    13,000 /1,632,923\n",
            "2    13,194 /1,670,811\n",
            "3       5,399 /765,230\n",
            "4       2,256 /316,925\n",
            "5       2,056 /195,214\n",
            "6       3,370 /356,370\n",
            "dtype: object\n",
            "for_profit\n",
            "0       5,426 /551,584\n",
            "1    33,849 /4,385,889\n",
            "dtype: object\n",
            "chain_class2\n",
            "1    29,165 /1,632,923\n",
            "2    29,574 /1,670,811\n",
            "3      13,102 /765,230\n",
            "4       4,805 /316,925\n",
            "5       4,039 /195,214\n",
            "6       7,622 /356,370\n",
            "dtype: object\n",
            "for_profit\n",
            "0      11,661 /551,584\n",
            "1    76,646 /4,385,889\n",
            "dtype: object\n"
          ],
          "name": "stdout"
        }
      ]
    },
    {
      "cell_type": "markdown",
      "metadata": {
        "id": "CAntlnIGtNOS",
        "colab_type": "text"
      },
      "source": [
        "\n",
        "##**Table 3**"
      ]
    },
    {
      "cell_type": "code",
      "metadata": {
        "id": "2LnbwR3M44B6",
        "colab_type": "code",
        "colab": {}
      },
      "source": [
        "import rpy2.robjects as ro\n",
        "from rpy2.robjects.packages import importr\n",
        "from rpy2.robjects.vectors import FloatVector\n",
        "import statsmodels.formula.api as smf\n",
        "import statsmodels.api as sm\n",
        "import rpy2.robjects.numpy2ri\n",
        "rpy2.robjects.numpy2ri.activate()\n",
        "utils = importr('utils')\n",
        "utils.install_packages('msm')\n",
        "msm = importr('msm')\n"
      ],
      "execution_count": 0,
      "outputs": []
    },
    {
      "cell_type": "code",
      "metadata": {
        "id": "danCnl1g4_1P",
        "colab_type": "code",
        "outputId": "a88aabf7-8b2e-47da-a045-507d9ad2d3c1",
        "colab": {
          "base_uri": "https://localhost:8080/",
          "height": 228
        }
      },
      "source": [
        "# Truncate follow-up time\n",
        "def truncate(t):\n",
        "    e = d.copy()\n",
        "    if t>0:\n",
        "      e.loc[e['wl_time'] > t, 'wl']=0\n",
        "      e.loc[e['wl_time'] > t, 'wl_time']=t\n",
        "      e.loc[e['ld_time'] > t, 'livingd']=0\n",
        "      e.loc[e['ld_time'] > t, 'ld_time']=t\n",
        "      e.loc[e['dec_time'] > t, 'deceasedt']=0\n",
        "      e.loc[e['dec_time'] > t, 'dec_time']=t\n",
        "    return e\n",
        "\n",
        "# dataset with aggregate sum for poisson model\n",
        "for event, time in zip(['wl','livingd', 'deceasedt'],['wl_time', 'ld_time', 'dec_time']):\n",
        "\tfor cutoff in [0, 12, 36, 60]:\n",
        "\t\tpoissonset = truncate(cutoff).groupby(['for_profit', 'age_cat', 'sex_new', 'race_new'], as_index=False)[['wl', 'wl_time', 'livingd', 'ld_time', 'dec_time', 'deceasedt']].sum()\n",
        "\t\tpoissonset['age_cat'] = pd.Categorical(poissonset['age_cat'], ordered=True, categories=[5, 1, 2, 3, 4, 6])\n",
        "\t\tpoissonset['race_new'] = pd.Categorical(poissonset['race_new'], ordered=True, categories=[1, 2, 3, 4])\n",
        "\n",
        "\t\t# poisson regression\n",
        "\t\tpoisson_model = smf.glm(event+'~for_profit+sex_new+age_cat+race_new',\n",
        "\t\t\t\t\t\t\t\tdata=poissonset,\n",
        "\t\t\t\t\t\t\t\tfamily=sm.families.Poisson(),\n",
        "\t\t\t\t\t\t\t\toffset=np.log(poissonset[time]/12)).fit(method='newton')\n",
        "\n",
        "\t\t# extract coefficient\n",
        "\t\tb0 = poisson_model.params['Intercept']\n",
        "\t\tb1 = poisson_model.params['for_profit']\n",
        "\n",
        "\t\t# calculate rate difference and standard error\n",
        "\t\teffect = np.exp(b0 + b1) - np.exp(b0)\n",
        "\t\tvcov = poisson_model.cov_params().loc[['Intercept', 'for_profit'], ['Intercept', 'for_profit']]\n",
        "\t\tse = msm.deltamethod(ro.Formula('~exp(x1+x2)-exp(x1)'), FloatVector([b0, b1]), ro.r.matrix(vcov.values, nrow=2, ncol=2))\n",
        "\t\tprint(\"%s %g-months for_profit vs. non_profit: %.2f (%.2f, %.2f) \" %(event, cutoff, effect*100, (effect-1.96*float(np.array(se)))*100, (effect+1.96*float(np.array(se)))*100))\n",
        "    \n",
        "    \n"
      ],
      "execution_count": 49,
      "outputs": [
        {
          "output_type": "stream",
          "text": [
            "wl 0-months for_profit vs. non_profit: -0.59 (-0.66, -0.52) \n",
            "wl 12-months for_profit vs. non_profit: -2.31 (-2.51, -2.11) \n",
            "wl 36-months for_profit vs. non_profit: -1.17 (-1.28, -1.05) \n",
            "wl 60-months for_profit vs. non_profit: -0.90 (-0.99, -0.81) \n",
            "livingd 0-months for_profit vs. non_profit: -0.18 (-0.21, -0.15) \n",
            "livingd 12-months for_profit vs. non_profit: -0.39 (-0.46, -0.33) \n",
            "livingd 36-months for_profit vs. non_profit: -0.29 (-0.33, -0.24) \n",
            "livingd 60-months for_profit vs. non_profit: -0.23 (-0.26, -0.19) \n",
            "deceasedt 0-months for_profit vs. non_profit: -0.30 (-0.34, -0.26) \n",
            "deceasedt 12-months for_profit vs. non_profit: -0.19 (-0.24, -0.14) \n",
            "deceasedt 36-months for_profit vs. non_profit: -0.37 (-0.42, -0.31) \n",
            "deceasedt 60-months for_profit vs. non_profit: -0.41 (-0.46, -0.36) \n"
          ],
          "name": "stdout"
        }
      ]
    },
    {
      "cell_type": "code",
      "metadata": {
        "id": "WMnbzTqzAJlO",
        "colab_type": "code",
        "outputId": "d923ca0c-15c1-4889-e5ed-dc8d09a97128",
        "colab": {
          "base_uri": "https://localhost:8080/",
          "height": 1000
        }
      },
      "source": [
        "for event, time in zip(['wl','livingd', 'deceasedt'],['wl_time', 'ld_time', 'dec_time']):\n",
        "  for cutoff in [0, 12, 36, 60]:\n",
        "    poissonset = truncate(cutoff).groupby(['chain_class2', 'age_cat', 'sex_new', 'race_new'], as_index=False)[['wl', 'wl_time', 'livingd', 'ld_time', 'dec_time', 'deceasedt']].sum()\n",
        "    poissonset['chain_class2'] = pd.Categorical(poissonset['chain_class2'], ordered=True, categories=[6, 5, 2, 1, 3, 4])\n",
        "    poissonset['age_cat'] = pd.Categorical(poissonset['age_cat'], ordered=True, categories=[5, 1, 2, 3, 4, 6])\n",
        "    poissonset['race_new'] = pd.Categorical(poissonset['race_new'], ordered=True, categories=[1, 2, 3, 4])\n",
        "\n",
        "    # poisson regression\n",
        "    poisson_model = smf.glm(event+'~chain_class2+sex_new+age_cat+race_new',\n",
        "                            data=poissonset,\n",
        "                            family=sm.families.Poisson(),\n",
        "                            offset=np.log(poissonset[time]/12)).fit(method='newton')\n",
        "\n",
        "\t\t# extract coefficient\n",
        "    for i in [5, 2, 1, 3, 4]:\n",
        "      b0 = poisson_model.params['Intercept']\n",
        "      b1 = poisson_model.params['chain_class2[T.'+str(i)+']']\n",
        "      effect = np.exp(b0 + b1) - np.exp(b0)\n",
        "      vcov = poisson_model.cov_params().loc[['Intercept', 'chain_class2[T.'+str(i)+']'], ['Intercept', 'chain_class2[T.'+str(i)+']']]\n",
        "      se = msm.deltamethod(ro.Formula('~exp(x1+x2)-exp(x1)'), FloatVector([b0, b1]), ro.r.matrix(vcov.values, nrow=2, ncol=2))\n",
        "      print(\"%s %g-months chain_%g: %.2f (%.2f, %.2f) \" %(event, cutoff, i, effect*100, (effect-1.96*float(np.array(se)))*100, (effect+1.96*float(np.array(se)))*100))"
      ],
      "execution_count": 50,
      "outputs": [
        {
          "output_type": "stream",
          "text": [
            "wl 0-months chain_5: -0.08 (-0.22, 0.06) \n",
            "wl 0-months chain_2: -0.54 (-0.63, -0.44) \n",
            "wl 0-months chain_1: -0.66 (-0.75, -0.56) \n",
            "wl 0-months chain_3: -0.66 (-0.76, -0.56) \n",
            "wl 0-months chain_4: -0.82 (-0.94, -0.71) \n",
            "wl 12-months chain_5: 0.05 (-0.34, 0.44) \n",
            "wl 12-months chain_2: -2.04 (-2.29, -1.79) \n",
            "wl 12-months chain_1: -2.25 (-2.51, -2.00) \n",
            "wl 12-months chain_3: -2.71 (-2.98, -2.44) \n",
            "wl 12-months chain_4: -2.79 (-3.10, -2.47) \n",
            "wl 36-months chain_5: 0.01 (-0.21, 0.23) \n",
            "wl 36-months chain_2: -1.04 (-1.18, -0.89) \n",
            "wl 36-months chain_1: -1.16 (-1.30, -1.01) \n",
            "wl 36-months chain_3: -1.29 (-1.45, -1.14) \n",
            "wl 36-months chain_4: -1.51 (-1.69, -1.33) \n",
            "wl 60-months chain_5: -0.02 (-0.19, 0.16) \n",
            "wl 60-months chain_2: -0.80 (-0.91, -0.69) \n",
            "wl 60-months chain_1: -0.92 (-1.04, -0.81) \n",
            "wl 60-months chain_3: -0.99 (-1.12, -0.87) \n",
            "wl 60-months chain_4: -1.16 (-1.31, -1.02) \n",
            "livingd 0-months chain_5: 0.09 (0.03, 0.15) \n",
            "livingd 0-months chain_2: -0.14 (-0.18, -0.11) \n",
            "livingd 0-months chain_1: -0.13 (-0.16, -0.09) \n",
            "livingd 0-months chain_3: -0.20 (-0.24, -0.16) \n",
            "livingd 0-months chain_4: -0.16 (-0.20, -0.11) \n",
            "livingd 12-months chain_5: 0.21 (0.08, 0.34) \n",
            "livingd 12-months chain_2: -0.31 (-0.39, -0.23) \n",
            "livingd 12-months chain_1: -0.29 (-0.37, -0.22) \n",
            "livingd 12-months chain_3: -0.42 (-0.51, -0.34) \n",
            "livingd 12-months chain_4: -0.30 (-0.40, -0.19) \n",
            "livingd 36-months chain_5: 0.14 (0.05, 0.23) \n",
            "livingd 36-months chain_2: -0.22 (-0.28, -0.17) \n",
            "livingd 36-months chain_1: -0.21 (-0.27, -0.16) \n",
            "livingd 36-months chain_3: -0.32 (-0.38, -0.26) \n",
            "livingd 36-months chain_4: -0.25 (-0.32, -0.18) \n",
            "livingd 60-months chain_5: 0.12 (0.05, 0.19) \n",
            "livingd 60-months chain_2: -0.18 (-0.22, -0.13) \n",
            "livingd 60-months chain_1: -0.16 (-0.21, -0.12) \n",
            "livingd 60-months chain_3: -0.25 (-0.30, -0.20) \n",
            "livingd 60-months chain_4: -0.20 (-0.26, -0.15) \n",
            "deceasedt 0-months chain_5: -0.09 (-0.16, -0.02) \n",
            "deceasedt 0-months chain_2: -0.33 (-0.38, -0.28) \n",
            "deceasedt 0-months chain_1: -0.29 (-0.34, -0.24) \n",
            "deceasedt 0-months chain_3: -0.37 (-0.42, -0.32) \n",
            "deceasedt 0-months chain_4: -0.47 (-0.53, -0.41) \n",
            "deceasedt 12-months chain_5: -0.05 (-0.14, 0.04) \n",
            "deceasedt 12-months chain_2: -0.22 (-0.28, -0.16) \n",
            "deceasedt 12-months chain_1: -0.19 (-0.25, -0.13) \n",
            "deceasedt 12-months chain_3: -0.24 (-0.31, -0.18) \n",
            "deceasedt 12-months chain_4: -0.21 (-0.29, -0.14) \n",
            "deceasedt 36-months chain_5: -0.18 (-0.28, -0.09) \n",
            "deceasedt 36-months chain_2: -0.44 (-0.51, -0.38) \n",
            "deceasedt 36-months chain_1: -0.38 (-0.44, -0.31) \n",
            "deceasedt 36-months chain_3: -0.46 (-0.53, -0.39) \n",
            "deceasedt 36-months chain_4: -0.56 (-0.64, -0.48) \n",
            "deceasedt 60-months chain_5: -0.18 (-0.27, -0.09) \n",
            "deceasedt 60-months chain_2: -0.48 (-0.54, -0.42) \n",
            "deceasedt 60-months chain_1: -0.40 (-0.47, -0.34) \n",
            "deceasedt 60-months chain_3: -0.53 (-0.59, -0.46) \n",
            "deceasedt 60-months chain_4: -0.66 (-0.74, -0.58) \n"
          ],
          "name": "stdout"
        }
      ]
    },
    {
      "cell_type": "code",
      "metadata": {
        "id": "RL4xX5BLtPC-",
        "colab_type": "code",
        "outputId": "edddc49c-b9d2-4c32-f06f-7b40fe01763b",
        "colab": {
          "base_uri": "https://localhost:8080/",
          "height": 1000
        }
      },
      "source": [
        "cph = CoxPHFitter()\n",
        "for time, status in zip(['wl_time', 'ld_time', 'dec_time'], ['wl', 'livingd', 'deceasedt']):\n",
        "  print('-'*30, status,'-'*30)\n",
        "  for exposure in ['chain', 'for_profit']:\n",
        "    crude = '|'.join([exposure, time, status])\n",
        "    model1 = crude + '|sex_new|age_cat|race_new'\n",
        "    model2 = model1 + '|dialysis_mod1|esrd_cause|bmi_35|ashd_new|other_cardiac|hypertension|diabetes|'\\\n",
        "                  'copd_new|smoke_new|cancer_new|chf|cva_new|pvasc_new'#chf|cva_new|pvasc_new'\n",
        "    model3 = model2 + '|insurance_esrd|network_us_region_dfr|NEAR_DIST|rucc_rural|PATTXOP_MEDUNFITn' #PATTXOP_MEDUNFITn'\n",
        "    for i, model in enumerate([crude, model1, model2, model3]):\n",
        "      print('\\n', 'model_'+str(i))\n",
        "      cph.fit(PH_data.filter(regex=model), duration_col=time, event_col=status, step_size=0.5)\n",
        "      print(round(pd.concat([cph.hazard_ratios_[cph.hazard_ratios_.index.str.contains(exposure)].rename('HR'), exp(cph.confidence_intervals_[cph.confidence_intervals_.index.str.contains(exposure)])], 1), 2))\n"
      ],
      "execution_count": 0,
      "outputs": [
        {
          "output_type": "stream",
          "text": [
            "------------------------------ wl ------------------------------\n",
            "\n",
            " model_0\n",
            "                  HR  95% lower-bound  95% upper-bound\n",
            "chain_class2_5  1.02             0.99             1.04\n",
            "chain_class2_2  0.91             0.90             0.93\n",
            "chain_class2_1  0.86             0.85             0.88\n",
            "chain_class2_3  0.88             0.87             0.90\n",
            "chain_class2_4  0.82             0.80             0.84\n",
            "\n",
            " model_1\n",
            "                  HR  95% lower-bound  95% upper-bound\n",
            "chain_class2_5  1.01             0.98             1.03\n",
            "chain_class2_2  0.90             0.88             0.91\n",
            "chain_class2_1  0.87             0.86             0.89\n",
            "chain_class2_3  0.86             0.85             0.88\n",
            "chain_class2_4  0.84             0.82             0.86\n",
            "\n",
            " model_2\n",
            "                  HR  95% lower-bound  95% upper-bound\n",
            "chain_class2_5  1.01             0.98             1.03\n",
            "chain_class2_2  0.88             0.86             0.89\n",
            "chain_class2_1  0.88             0.86             0.89\n",
            "chain_class2_3  0.85             0.84             0.87\n",
            "chain_class2_4  0.84             0.82             0.86\n",
            "\n",
            " model_3\n",
            "                  HR  95% lower-bound  95% upper-bound\n",
            "chain_class2_5  0.96             0.94             0.98\n",
            "chain_class2_2  0.86             0.85             0.87\n",
            "chain_class2_1  0.87             0.85             0.88\n",
            "chain_class2_3  0.85             0.84             0.87\n",
            "chain_class2_4  0.80             0.78             0.82\n",
            "\n",
            " model_0\n",
            "              HR  95% lower-bound  95% upper-bound\n",
            "for_profit  0.88             0.86             0.89\n",
            "\n",
            " model_1\n",
            "              HR  95% lower-bound  95% upper-bound\n",
            "for_profit  0.88             0.86             0.89\n",
            "\n",
            " model_2\n",
            "              HR  95% lower-bound  95% upper-bound\n",
            "for_profit  0.87             0.86             0.88\n",
            "\n",
            " model_3\n",
            "              HR  95% lower-bound  95% upper-bound\n",
            "for_profit  0.87             0.86             0.88\n",
            "------------------------------ livingd ------------------------------\n",
            "\n",
            " model_0\n",
            "                  HR  95% lower-bound  95% upper-bound\n",
            "chain_class2_5  1.13             1.07             1.20\n",
            "chain_class2_2  0.84             0.80             0.87\n",
            "chain_class2_1  0.84             0.81             0.87\n",
            "chain_class2_3  0.74             0.71             0.78\n",
            "chain_class2_4  0.75             0.71             0.79\n",
            "\n",
            " model_1\n",
            "                  HR  95% lower-bound  95% upper-bound\n",
            "chain_class2_5  1.12             1.06             1.18\n",
            "chain_class2_2  0.86             0.83             0.89\n",
            "chain_class2_1  0.87             0.84             0.90\n",
            "chain_class2_3  0.79             0.76             0.82\n",
            "chain_class2_4  0.84             0.79             0.88\n",
            "\n",
            " model_2\n",
            "                  HR  95% lower-bound  95% upper-bound\n",
            "chain_class2_5  1.11             1.05             1.18\n",
            "chain_class2_2  0.85             0.82             0.89\n",
            "chain_class2_1  0.89             0.86             0.92\n",
            "chain_class2_3  0.80             0.76             0.83\n",
            "chain_class2_4  0.85             0.81             0.90\n",
            "\n",
            " model_3\n",
            "                  HR  95% lower-bound  95% upper-bound\n",
            "chain_class2_5  1.05             1.00             1.11\n",
            "chain_class2_2  0.84             0.81             0.87\n",
            "chain_class2_1  0.85             0.81             0.88\n",
            "chain_class2_3  0.83             0.80             0.87\n",
            "chain_class2_4  0.84             0.80             0.89\n",
            "\n",
            " model_0\n",
            "              HR  95% lower-bound  95% upper-bound\n",
            "for_profit  0.78             0.76              0.8\n",
            "\n",
            " model_1\n",
            "              HR  95% lower-bound  95% upper-bound\n",
            "for_profit  0.82             0.79             0.84\n",
            "\n",
            " model_2\n",
            "              HR  95% lower-bound  95% upper-bound\n",
            "for_profit  0.82              0.8             0.85\n",
            "\n",
            " model_3\n",
            "              HR  95% lower-bound  95% upper-bound\n",
            "for_profit  0.82              0.8             0.85\n",
            "------------------------------ deceasedt ------------------------------\n",
            "\n",
            " model_0\n",
            "                  HR  95% lower-bound  95% upper-bound\n",
            "chain_class2_5  0.96             0.92             0.99\n",
            "chain_class2_2  0.83             0.81             0.85\n",
            "chain_class2_1  0.84             0.82             0.86\n",
            "chain_class2_3  0.80             0.78             0.83\n",
            "chain_class2_4  0.71             0.69             0.74\n",
            "\n",
            " model_1\n",
            "                  HR  95% lower-bound  95% upper-bound\n",
            "chain_class2_5  0.95             0.91             0.98\n",
            "chain_class2_2  0.83             0.81             0.85\n",
            "chain_class2_1  0.85             0.83             0.87\n",
            "chain_class2_3  0.81             0.79             0.83\n",
            "chain_class2_4  0.75             0.73             0.78\n",
            "\n",
            " model_2\n",
            "                  HR  95% lower-bound  95% upper-bound\n",
            "chain_class2_5  0.95             0.92             0.99\n",
            "chain_class2_2  0.81             0.79             0.83\n",
            "chain_class2_1  0.86             0.84             0.89\n",
            "chain_class2_3  0.80             0.78             0.82\n",
            "chain_class2_4  0.75             0.73             0.78\n",
            "\n",
            " model_3\n",
            "                  HR  95% lower-bound  95% upper-bound\n",
            "chain_class2_5  0.92             0.88             0.95\n",
            "chain_class2_2  0.78             0.76             0.80\n",
            "chain_class2_1  0.82             0.80             0.84\n",
            "chain_class2_3  0.80             0.78             0.83\n",
            "chain_class2_4  0.73             0.70             0.76\n",
            "\n",
            " model_0\n",
            "              HR  95% lower-bound  95% upper-bound\n",
            "for_profit  0.83             0.82             0.85\n",
            "\n",
            " model_1\n",
            "              HR  95% lower-bound  95% upper-bound\n",
            "for_profit  0.84             0.83             0.86\n",
            "\n",
            " model_2\n",
            "              HR  95% lower-bound  95% upper-bound\n",
            "for_profit  0.84             0.82             0.85\n",
            "\n",
            " model_3\n",
            "              HR  95% lower-bound  95% upper-bound\n",
            "for_profit  0.82              0.8             0.83\n"
          ],
          "name": "stdout"
        }
      ]
    },
    {
      "cell_type": "markdown",
      "metadata": {
        "id": "s6qlhN9rpiS6",
        "colab_type": "text"
      },
      "source": [
        "\n",
        "##**Figure 2**"
      ]
    },
    {
      "cell_type": "code",
      "metadata": {
        "id": "_Rm85ojhpkBD",
        "colab_type": "code",
        "outputId": "252dea70-71c1-4a6f-ccb0-fd024ea9d2b9",
        "colab": {
          "base_uri": "https://localhost:8080/",
          "height": 809
        }
      },
      "source": [
        "d['FIRST_SE'] = pd.to_datetime(d['FIRST_SE'], format='%m/%d/%Y')\n",
        "fig2 = pd.DataFrame()\n",
        "\n",
        "for event, time in zip(['wl', 'livingd', 'deceasedt'], ['wl_time', 'ld_time', 'dec_time']):\n",
        "  print('-'*40, event, '-'*40)\n",
        "  for exposure in ['chain_class2', 'for_profit']:\n",
        "    print('\\n', exposure)\n",
        "    fig2 = pd.DataFrame()\n",
        "    for year in range(2001, 2016, 2):\n",
        "        valid = d[(d['FIRST_SE']>=str(year)+'/01/01') & (d['FIRST_SE']<=str(year+1)+'/12/31')]\n",
        "        validtime = (pd.to_datetime(str(year+1)+'/12/31') - valid['FIRST_SE']).apply(lambda x: x.days/30.4375)\n",
        "        valid.loc[valid[time]>validtime, event] = 0\n",
        "        valid.loc[valid[time]>validtime, time] = validtime\n",
        "        num = valid.groupby(exposure)[event].sum()\n",
        "        pyr = valid.groupby(exposure)[time].sum()/12\n",
        "        rate = (num/pyr*100).rename(str(year)+'-'+\"{0:0>2}\".format(year+1-2000))\n",
        "        fig2 = pd.concat([fig2, rate], 1)\n",
        "    print(fig2.applymap('{:.2f}'.format))"
      ],
      "execution_count": 39,
      "outputs": [
        {
          "output_type": "stream",
          "text": [
            "---------------------------------------- wl ----------------------------------------\n",
            "\n",
            " chain_class2\n",
            "  2001-02 2003-04 2005-06 2007-08 2009-10 2011-12 2013-14 2015-16\n",
            "1    7.49    7.52    8.00    8.15    8.44    8.23    7.75    6.36\n",
            "2    7.87    7.91    8.85    8.25    8.42    8.42    8.50    6.84\n",
            "3    7.27    7.78    8.00    7.57    8.72    7.95    7.69    6.54\n",
            "4    6.63    6.99    7.55    7.93    7.35    7.19    7.08    6.22\n",
            "5    8.08    9.03   10.74   11.40   10.93   10.61   10.00    8.41\n",
            "6    9.48    9.63   10.50    9.99   10.29   10.84    9.59    7.93\n",
            "\n",
            " for_profit\n",
            "  2001-02 2003-04 2005-06 2007-08 2009-10 2011-12 2013-14 2015-16\n",
            "0    9.01    9.43   10.58   10.49   10.51   10.75    9.74    8.09\n",
            "1    7.54    7.67    8.28    8.07    8.40    8.17    7.97    6.56\n",
            "---------------------------------------- livingd ----------------------------------------\n",
            "\n",
            " chain_class2\n",
            "  2001-02 2003-04 2005-06 2007-08 2009-10 2011-12 2013-14 2015-16\n",
            "1    1.59    1.60    1.32    1.17    0.91    0.83    0.73    0.60\n",
            "2    1.64    1.53    1.32    1.04    0.94    0.79    0.67    0.73\n",
            "3    1.40    1.44    1.16    0.74    0.84    0.67    0.68    0.54\n",
            "4    1.55    1.37    1.14    1.11    0.90    0.69    0.63    0.65\n",
            "5    2.39    2.25    2.36    1.62    1.65    1.13    1.02    1.04\n",
            "6    2.26    2.05    1.84    1.16    1.12    0.92    0.91    0.78\n",
            "\n",
            " for_profit\n",
            "  2001-02 2003-04 2005-06 2007-08 2009-10 2011-12 2013-14 2015-16\n",
            "0    2.30    2.11    2.02    1.32    1.30    1.00    0.95    0.87\n",
            "1    1.58    1.53    1.28    1.04    0.91    0.78    0.69    0.64\n",
            "---------------------------------------- deceasedt ----------------------------------------\n",
            "\n",
            " chain_class2\n",
            "  2001-02 2003-04 2005-06 2007-08 2009-10 2011-12 2013-14 2015-16\n",
            "1    0.92    0.75    0.89    0.72    0.54    0.45    0.41    0.47\n",
            "2    0.87    0.75    0.73    0.60    0.54    0.43    0.44    0.40\n",
            "3    0.82    0.65    0.57    0.60    0.41    0.38    0.41    0.57\n",
            "4    0.72    0.55    0.73    0.69    0.36    0.36    0.36    0.45\n",
            "5    0.94    0.82    0.96    0.88    0.62    0.70    0.58    0.81\n",
            "6    1.25    1.06    1.27    0.80    0.78    0.45    0.56    0.62\n",
            "\n",
            " for_profit\n",
            "  2001-02 2003-04 2005-06 2007-08 2009-10 2011-12 2013-14 2015-16\n",
            "0    1.15    0.98    1.16    0.83    0.73    0.54    0.56    0.69\n",
            "1    0.87    0.72    0.76    0.65    0.50    0.42    0.42    0.46\n"
          ],
          "name": "stdout"
        }
      ]
    },
    {
      "cell_type": "code",
      "metadata": {
        "id": "vhupypCh1Rwi",
        "colab_type": "code",
        "colab": {}
      },
      "source": [
        ""
      ],
      "execution_count": 0,
      "outputs": []
    },
    {
      "cell_type": "markdown",
      "metadata": {
        "id": "4TrjhZpfBoXQ",
        "colab_type": "text"
      },
      "source": [
        "##Supplemental Table 2"
      ]
    },
    {
      "cell_type": "code",
      "metadata": {
        "id": "EMEoneQBBtAx",
        "colab_type": "code",
        "outputId": "6090f285-5a3a-48e0-910c-7513b1796701",
        "colab": {
          "base_uri": "https://localhost:8080/",
          "height": 1000
        }
      },
      "source": [
        "cph = CoxPHFitter()\n",
        "for time, status in zip(['wl_time', 'ld_time', 'dec_time'], ['wl', 'livingd', 'deceasedt']):\n",
        "  print('-'*30, status,'-'*30)\n",
        "  for i in [6,5,2,1,3,4]:\n",
        "    print('\\n chain_class2={}'.format(i))\n",
        "    crude = '|'.join(['change_status', status, time])\n",
        "    model1 = crude + '|sex_new|age_cat|race_new'\n",
        "    model2 = model1 + '|dialysis_mod1|esrd_cause|bmi_35|ashd_new|other_cardiac|hypertension|diabetes|'\\\n",
        "                  'copd_new|smoke_new|cancer_new|chf|cva_new|pvasc_new'\n",
        "    model3 = model2 + '|insurance_esrd|network_us_region_dfr|NEAR_DIST|rucc_rural|PATTXOP_MEDUNFITn'\n",
        "    if i in [5,6]:\n",
        "      tmp = PH_data[PH_data.chain_class2==i].filter(regex=model3).drop(['change_status_3'], 1)\n",
        "    else:\n",
        "      tmp = PH_data[PH_data.chain_class2==i].filter(regex=model3).drop(['change_status_2'], 1)\n",
        "    cph.fit(tmp,duration_col=time, event_col=status, step_size=0.5)\n",
        "    print(round(pd.concat([cph.hazard_ratios_[cph.hazard_ratios_.index.str.contains('change_status_')].rename('HR'), exp(cph.confidence_intervals_[cph.confidence_intervals_.index.str.contains('change_status_')])], 1), 2))"
      ],
      "execution_count": 0,
      "outputs": [
        {
          "output_type": "stream",
          "text": [
            "------------------------------ wl ------------------------------\n",
            "\n",
            " chain_class2=6\n",
            "                   HR  95% lower-bound  95% upper-bound\n",
            "change_status_1  0.56             0.53     5.900000e-01\n",
            "change_status_2  0.00             0.00     4.307112e+90\n",
            "\n",
            " chain_class2=5\n",
            "                   HR  95% lower-bound  95% upper-bound\n",
            "change_status_1  0.40             0.37             0.43\n",
            "change_status_2  0.01             0.00             0.01\n",
            "\n",
            " chain_class2=2\n",
            "                   HR  95% lower-bound  95% upper-bound\n",
            "change_status_1  0.02             0.02             0.02\n",
            "change_status_3  2.64             2.56             2.72\n",
            "\n",
            " chain_class2=1\n",
            "                   HR  95% lower-bound  95% upper-bound\n",
            "change_status_1  0.04             0.04             0.05\n",
            "change_status_3  2.84             2.76             2.93\n",
            "\n",
            " chain_class2=3\n",
            "                   HR  95% lower-bound  95% upper-bound\n",
            "change_status_1  0.01             0.00             0.01\n",
            "change_status_3  2.11             2.02             2.22\n",
            "\n",
            " chain_class2=4\n",
            "                   HR  95% lower-bound  95% upper-bound\n",
            "change_status_1  0.02             0.02             0.03\n",
            "change_status_3  2.30             2.15             2.45\n",
            "------------------------------ livingd ------------------------------\n",
            "\n",
            " chain_class2=6\n",
            "                   HR  95% lower-bound  95% upper-bound\n",
            "change_status_1  0.74             0.66             0.83\n",
            "change_status_2  0.19             0.14             0.25\n",
            "\n",
            " chain_class2=5\n",
            "                   HR  95% lower-bound  95% upper-bound\n",
            "change_status_1  0.65             0.56             0.76\n",
            "change_status_2  0.20             0.15             0.27\n",
            "\n",
            " chain_class2=2\n",
            "                   HR  95% lower-bound  95% upper-bound\n",
            "change_status_1  0.29             0.26             0.32\n",
            "change_status_3  1.41             1.31             1.52\n",
            "\n",
            " chain_class2=1\n",
            "                   HR  95% lower-bound  95% upper-bound\n",
            "change_status_1  0.34             0.31             0.37\n",
            "change_status_3  1.42             1.31             1.53\n",
            "\n",
            " chain_class2=3\n",
            "                   HR  95% lower-bound  95% upper-bound\n",
            "change_status_1  0.30             0.26             0.35\n",
            "change_status_3  1.18             1.03             1.35\n",
            "\n",
            " chain_class2=4\n",
            "                   HR  95% lower-bound  95% upper-bound\n",
            "change_status_1  0.23             0.19             0.30\n",
            "change_status_3  1.39             1.17             1.64\n",
            "------------------------------ deceasedt ------------------------------\n",
            "\n",
            " chain_class2=6\n",
            "                   HR  95% lower-bound  95% upper-bound\n",
            "change_status_1  0.56             0.51             0.61\n",
            "change_status_2  0.11             0.09             0.14\n",
            "\n",
            " chain_class2=5\n",
            "                   HR  95% lower-bound  95% upper-bound\n",
            "change_status_1  0.42             0.37             0.47\n",
            "change_status_2  0.05             0.03             0.07\n",
            "\n",
            " chain_class2=2\n",
            "                   HR  95% lower-bound  95% upper-bound\n",
            "change_status_1  0.19             0.17              0.2\n",
            "change_status_3  1.71             1.63              1.8\n",
            "\n",
            " chain_class2=1\n",
            "                   HR  95% lower-bound  95% upper-bound\n",
            "change_status_1  0.22             0.20             0.23\n",
            "change_status_3  1.64             1.56             1.73\n",
            "\n",
            " chain_class2=3\n",
            "                   HR  95% lower-bound  95% upper-bound\n",
            "change_status_1  0.16             0.14             0.18\n",
            "change_status_3  1.62             1.50             1.75\n",
            "\n",
            " chain_class2=4\n",
            "                   HR  95% lower-bound  95% upper-bound\n",
            "change_status_1  0.17             0.14             0.20\n",
            "change_status_3  1.38             1.23             1.55\n"
          ],
          "name": "stdout"
        }
      ]
    },
    {
      "cell_type": "code",
      "metadata": {
        "id": "lSNMj5S8kA3O",
        "colab_type": "code",
        "colab": {}
      },
      "source": [
        "cph.hazard_ratios_"
      ],
      "execution_count": 0,
      "outputs": []
    },
    {
      "cell_type": "markdown",
      "metadata": {
        "id": "VK0npP4OyYr3",
        "colab_type": "text"
      },
      "source": [
        "\n",
        "##**Supplemental Table 3 (ideal cohort)**"
      ]
    },
    {
      "cell_type": "code",
      "metadata": {
        "id": "F-5KBzam78CS",
        "colab_type": "code",
        "colab": {}
      },
      "source": [
        "cph = CoxPHFitter()\n",
        "for time, status in zip(['wl_time', 'ld_time', 'dec_time'], ['wl', 'livingd', 'deceasedt']):\n",
        "  print('-'*30, status,'-'*30)\n",
        "  for exposure in ['chain', 'for_profit']:\n",
        "    crude = '|'.join([exposure, time, status])\n",
        "    model1 = crude + '|sex_new|age_cat|race_new'\n",
        "    model2 = model1 + '|dialysis_mod1|esrd_cause|bmi_35|ashd_new|other_cardiac|hypertension|diabetes|'\\\n",
        "                  'copd_new|smoke_new|cancer_new'#chf|cva_new|pvasc_new'\n",
        "    model3 = model2 + '|insurance_esrd|network_us_region_dfr|NEAR_DIST|rucc_rural' #PATTXOP_MEDUNFITn'\n",
        "    for i, model in enumerate([crude, model1, model2, model3]):\n",
        "      print('\\n', 'model'+str(i))\n",
        "      cph.fit(PH_data_ideal.filter(regex=model), duration_col=time, event_col=status, step_size=0.5)\n",
        "      print(round(pd.concat([exp(cph.hazards_[cph.hazards_.index.str.contains(exposure)]).rename('HR'), exp(cph.confidence_intervals_[cph.confidence_intervals_.index.str.contains(exposure)])], 1), 2))\n"
      ],
      "execution_count": 0,
      "outputs": []
    },
    {
      "cell_type": "markdown",
      "metadata": {
        "id": "kvVn3CKGIyg4",
        "colab_type": "text"
      },
      "source": [
        "\n",
        "##**Supplemental Table 4**"
      ]
    },
    {
      "cell_type": "code",
      "metadata": {
        "id": "LHmcvFo0JQWD",
        "colab_type": "code",
        "colab": {}
      },
      "source": [
        "for time, status in zip(['wl_time', 'ld_time', 'dec_time'], ['wl', 'livingd', 'deceasedt']):\n",
        "  print('-'*30, status,'-'*30)\n",
        "  for r, region in enumerate(['Northeast', 'South', 'Midwest', 'West']):\n",
        "    print('\\n', region)\n",
        "    for exposure in ['chain', 'for_profit']:\n",
        "      crude = '|'.join([exposure, time, status])\n",
        "      model1 = crude + '|sex_new|age_cat|race_new'\n",
        "      model2 = model1 + '|dialysis_mod1|esrd_cause|bmi_35|ashd_new|other_cardiac|hypertension|diabetes|'\\\n",
        "                        'copd_new|smoke_new|cancer_new|chf|cva_new|pvasc_new'#chf|cva_new|pvasc_new'\n",
        "      model3 = model2 + '|insurance_esrd|NEAR_DIST|rucc_rural|PATTXOP_MEDUNFITn' #network_us_region_dfr'\n",
        "      cph.fit(PH_data[d['network_us_region_dfr']==r].filter(regex=model3), duration_col=time, event_col=status, step_size=0.5)\n",
        "      print(round(pd.concat([exp(cph.hazards_[cph.hazards_.index.str.contains(exposure)]).rename('HR'), exp(cph.confidence_intervals_[cph.confidence_intervals_.index.str.contains(exposure)])], 1), 2))"
      ],
      "execution_count": 0,
      "outputs": []
    },
    {
      "cell_type": "markdown",
      "metadata": {
        "id": "qz7Pt-3z3orc",
        "colab_type": "text"
      },
      "source": [
        "\n",
        "##Supplemental Table 5 & 6"
      ]
    },
    {
      "cell_type": "code",
      "metadata": {
        "id": "1nS2TD4Y3m8V",
        "colab_type": "code",
        "colab": {}
      },
      "source": [
        "cph = CoxPHFitter()\n",
        "for time, status in zip(['wl_time', 'ld_time', 'dec_time'], ['wl', 'livingd', 'deceasedt']):\n",
        "  print('-'*30, status,'-'*30)\n",
        "  for exposure in ['profit_txc', 'profit_hosp']:\n",
        "    crude = '|'.join([exposure, time, status])\n",
        "    model1 = crude + '|sex_new|age_cat|race_new'\n",
        "    model2 = model1 + '|dialysis_mod1|esrd_cause|bmi_35|ashd_new|other_cardiac|hypertension|diabetes|'\\\n",
        "                      'copd_new|smoke_new|cancer_new|chf|cva_new|pvasc_new'#chf|cva_new|pvasc_new'\n",
        "    model3 = model2 + '|insurance_esrd|NEAR_DIST|rucc_rural|PATTXOP_MEDUNFITn|network_us_region_dfr' #network_us_region_dfr'\n",
        "    for i, model in enumerate([crude, model1, model2, model3]):\n",
        "      print('\\n', 'model_'+str(i))\n",
        "      cph.fit(PH_data.filter(regex=model), duration_col=time, event_col=status, step_size=0.2)\n",
        "      print(round(pd.concat([exp(cph.hazards_[cph.hazards_.index.str.contains(exposure)]).rename('HR'), exp(cph.confidence_intervals_[cph.confidence_intervals_.index.str.contains(exposure)])], 1), 2))"
      ],
      "execution_count": 0,
      "outputs": []
    },
    {
      "cell_type": "markdown",
      "metadata": {
        "id": "QjLZ5Ll41E6a",
        "colab_type": "text"
      },
      "source": [
        "## Additional: Cumulative incidence difference"
      ]
    },
    {
      "cell_type": "code",
      "metadata": {
        "id": "-ZQQPjORdXUV",
        "colab_type": "code",
        "outputId": "9c5c7c0f-7113-4648-d90d-1e63f2ef7957",
        "colab": {
          "base_uri": "https://localhost:8080/",
          "height": 228
        }
      },
      "source": [
        "cif = d.copy()\n",
        "cif.loc[cif['death_wl']==1, 'wl']=2\n",
        "cif.loc[cif['death_ld']==1, 'livingd']=2\n",
        "cif.loc[cif['death_dec']==1, 'deceasedt']=2\n",
        "d_p = cif[cif.for_profit==1]\n",
        "d_np = cif[cif.for_profit==0]\n",
        "\n",
        "for time, status in zip(['wl_time', 'ld_time', 'dec_time'], ['wl', 'livingd', 'deceasedt']):\n",
        "  ajf_p = AalenJohansenFitter(calculate_variance=False).fit(d_p[time]/12, d_p[status], 1)\n",
        "  ajf_np = AalenJohansenFitter(calculate_variance=False).fit(d_np[time]/12, d_np[status], 1)\n",
        "  for t in [1, 3, 5, 10]:\n",
        "    cif_p = ajf_p.cumulative_density_.loc[slice(t)].tail(1).values\n",
        "    cif_np = ajf_np.cumulative_density_.loc[slice(t)].tail(1).values\n",
        "    cif_diff = cif_p - cif_np\n",
        "    se = np.sqrt(cif_p * (1-cif_p) / len(d_p) +cif_np * (1-cif_np) / len(d_np))\n",
        "    print('%s %g-year profit vs. non-profit: %.1f%% (%.1f%%, %.1f%%)' \n",
        "          %(status, t, cif_diff*100, (cif_diff -1.96 *se)*100, (cif_diff+1.96*se )*100))\n",
        "\n",
        "# for time, status in zip(['wl_time', 'ld_time', 'dec_time'], ['wl', 'livingd', 'deceasedt']):\n",
        "#   ajf_p = AalenJohansenFitter(calculate_variance=True).fit(d_p[time]/12, d_p[status], 1)\n",
        "#   ajf_np = AalenJohansenFitter(calculate_variance=True).fit(d_np[time]/12, d_np[status], 1)\n",
        "  \n",
        "#   cif_p = ajf_p.cumulative_density_.loc[slice(10)].tail(1).join(ajf_p.confidence_interval_.loc[slice(10)].tail(1))\n",
        "#   cif_np = ajf_np.cumulative_density_.loc[slice(10)].tail(1).join(ajf_np.confidence_interval_.loc[slice(10)].tail(1))\n",
        "#   print(cif_p, cif_np)"
      ],
      "execution_count": 37,
      "outputs": [
        {
          "output_type": "stream",
          "text": [
            "wl 1-year profit vs. non-profit: -1.9% (-2.0%, -1.8%)\n",
            "wl 3-year profit vs. non-profit: -1.9% (-2.1%, -1.8%)\n",
            "wl 5-year profit vs. non-profit: -2.0% (-2.2%, -1.8%)\n",
            "wl 10-year profit vs. non-profit: -1.9% (-2.1%, -1.7%)\n",
            "livingd 1-year profit vs. non-profit: -0.5% (-0.5%, -0.4%)\n",
            "livingd 3-year profit vs. non-profit: -0.7% (-0.8%, -0.6%)\n",
            "livingd 5-year profit vs. non-profit: -0.8% (-0.9%, -0.7%)\n",
            "livingd 10-year profit vs. non-profit: -0.8% (-0.9%, -0.7%)\n",
            "deceasedt 1-year profit vs. non-profit: -0.2% (-0.2%, -0.2%)\n",
            "deceasedt 3-year profit vs. non-profit: -0.8% (-0.9%, -0.7%)\n",
            "deceasedt 5-year profit vs. non-profit: -1.3% (-1.4%, -1.2%)\n",
            "deceasedt 10-year profit vs. non-profit: -1.3% (-1.5%, -1.2%)\n"
          ],
          "name": "stdout"
        }
      ]
    },
    {
      "cell_type": "code",
      "metadata": {
        "id": "z4ZPXLGv2ACV",
        "colab_type": "code",
        "outputId": "d4819ba0-d330-4893-cf07-8b820bf4f365",
        "colab": {
          "base_uri": "https://localhost:8080/",
          "height": 1000
        }
      },
      "source": [
        "d_c1 = cif[cif.chain_class2==1]\n",
        "d_c2 = cif[cif.chain_class2==2]\n",
        "d_c3 = cif[cif.chain_class2==3]\n",
        "d_c4 = cif[cif.chain_class2==4]\n",
        "d_c5 = cif[cif.chain_class2==5]\n",
        "d_c6 = cif[cif.chain_class2==6]\n",
        "\n",
        "\n",
        "for time, status in zip(['wl_time', 'ld_time', 'dec_time'], ['wl', 'livingd', 'deceasedt']):\n",
        "  ajf_c1 = AalenJohansenFitter(calculate_variance=False).fit(d_c1[time]/12, d_c1[status], 1)\n",
        "  ajf_c2 = AalenJohansenFitter(calculate_variance=False).fit(d_c2[time]/12, d_c2[status], 1)\n",
        "  ajf_c3 = AalenJohansenFitter(calculate_variance=False).fit(d_c3[time]/12, d_c3[status], 1)\n",
        "  ajf_c4 = AalenJohansenFitter(calculate_variance=False).fit(d_c4[time]/12, d_c4[status], 1)\n",
        "  ajf_c5 = AalenJohansenFitter(calculate_variance=False).fit(d_c5[time]/12, d_c5[status], 1)\n",
        "  ajf_c6 = AalenJohansenFitter(calculate_variance=False).fit(d_c6[time]/12, d_c6[status], 1)\n",
        "  for c, d_len, n in zip([ajf_c5, ajf_c2, ajf_c1, ajf_c3, ajf_c4], [d_c5, d_c2, d_c1, d_c3, d_c4], [5, 2, 1, 3, 4]):\n",
        "    for t in [1, 3, 5, 10]:\n",
        "      cif_c6 = ajf_c6.cumulative_density_.loc[slice(t)].tail(1).values\n",
        "      cif_c = c.cumulative_density_.loc[slice(t)].tail(1).values\n",
        "      cif_diff = cif_c - cif_c6\n",
        "      se = np.sqrt(cif_c6 * (1-cif_c6) / len(d_c6) +cif_c * (1-cif_c) / len(d_len))\n",
        "      print('%s %g-year chain_class %g vs. 6: %.1f%% (%.1f%%, %.1f%%)' \n",
        "            %(status, t, n, cif_diff*100, (cif_diff -1.96 *se)*100, (cif_diff+1.96*se )*100))"
      ],
      "execution_count": 38,
      "outputs": [
        {
          "output_type": "stream",
          "text": [
            "wl 1-year chain_class 5 vs. 6: 0.0% (-0.2%, 0.3%)\n",
            "wl 3-year chain_class 5 vs. 6: 0.2% (-0.2%, 0.5%)\n",
            "wl 5-year chain_class 5 vs. 6: 0.2% (-0.1%, 0.6%)\n",
            "wl 10-year chain_class 5 vs. 6: 0.5% (0.1%, 0.9%)\n",
            "wl 1-year chain_class 2 vs. 6: -1.6% (-1.8%, -1.4%)\n",
            "wl 3-year chain_class 2 vs. 6: -1.4% (-1.6%, -1.2%)\n",
            "wl 5-year chain_class 2 vs. 6: -1.3% (-1.6%, -1.1%)\n",
            "wl 10-year chain_class 2 vs. 6: -1.0% (-1.3%, -0.8%)\n",
            "wl 1-year chain_class 1 vs. 6: -2.0% (-2.2%, -1.8%)\n",
            "wl 3-year chain_class 1 vs. 6: -2.2% (-2.4%, -1.9%)\n",
            "wl 5-year chain_class 1 vs. 6: -2.3% (-2.5%, -2.1%)\n",
            "wl 10-year chain_class 1 vs. 6: -2.2% (-2.4%, -1.9%)\n",
            "wl 1-year chain_class 3 vs. 6: -2.1% (-2.2%, -1.9%)\n",
            "wl 3-year chain_class 3 vs. 6: -1.8% (-2.1%, -1.6%)\n",
            "wl 5-year chain_class 3 vs. 6: -1.8% (-2.1%, -1.6%)\n",
            "wl 10-year chain_class 3 vs. 6: -1.7% (-1.9%, -1.4%)\n",
            "wl 1-year chain_class 4 vs. 6: -2.6% (-2.8%, -2.3%)\n",
            "wl 3-year chain_class 4 vs. 6: -3.0% (-3.3%, -2.7%)\n",
            "wl 5-year chain_class 4 vs. 6: -3.1% (-3.4%, -2.8%)\n",
            "wl 10-year chain_class 4 vs. 6: -3.0% (-3.3%, -2.7%)\n",
            "livingd 1-year chain_class 5 vs. 6: 0.2% (0.1%, 0.3%)\n",
            "livingd 3-year chain_class 5 vs. 6: 0.3% (0.1%, 0.5%)\n",
            "livingd 5-year chain_class 5 vs. 6: 0.4% (0.2%, 0.6%)\n",
            "livingd 10-year chain_class 5 vs. 6: 0.5% (0.3%, 0.7%)\n",
            "livingd 1-year chain_class 2 vs. 6: -0.4% (-0.4%, -0.3%)\n",
            "livingd 3-year chain_class 2 vs. 6: -0.5% (-0.6%, -0.4%)\n",
            "livingd 5-year chain_class 2 vs. 6: -0.5% (-0.6%, -0.4%)\n",
            "livingd 10-year chain_class 2 vs. 6: -0.5% (-0.6%, -0.4%)\n",
            "livingd 1-year chain_class 1 vs. 6: -0.3% (-0.4%, -0.3%)\n",
            "livingd 3-year chain_class 1 vs. 6: -0.5% (-0.6%, -0.4%)\n",
            "livingd 5-year chain_class 1 vs. 6: -0.6% (-0.7%, -0.5%)\n",
            "livingd 10-year chain_class 1 vs. 6: -0.5% (-0.7%, -0.4%)\n",
            "livingd 1-year chain_class 3 vs. 6: -0.5% (-0.6%, -0.4%)\n",
            "livingd 3-year chain_class 3 vs. 6: -0.8% (-0.9%, -0.7%)\n",
            "livingd 5-year chain_class 3 vs. 6: -0.8% (-0.9%, -0.7%)\n",
            "livingd 10-year chain_class 3 vs. 6: -0.8% (-0.9%, -0.7%)\n",
            "livingd 1-year chain_class 4 vs. 6: -0.5% (-0.6%, -0.4%)\n",
            "livingd 3-year chain_class 4 vs. 6: -0.8% (-1.0%, -0.7%)\n",
            "livingd 5-year chain_class 4 vs. 6: -0.9% (-1.0%, -0.8%)\n",
            "livingd 10-year chain_class 4 vs. 6: -0.9% (-1.0%, -0.7%)\n",
            "deceasedt 1-year chain_class 5 vs. 6: -0.1% (-0.1%, 0.0%)\n",
            "deceasedt 3-year chain_class 5 vs. 6: -0.4% (-0.5%, -0.2%)\n",
            "deceasedt 5-year chain_class 5 vs. 6: -0.5% (-0.7%, -0.2%)\n",
            "deceasedt 10-year chain_class 5 vs. 6: 0.1% (-0.2%, 0.4%)\n",
            "deceasedt 1-year chain_class 2 vs. 6: -0.2% (-0.3%, -0.2%)\n",
            "deceasedt 3-year chain_class 2 vs. 6: -0.9% (-1.0%, -0.8%)\n",
            "deceasedt 5-year chain_class 2 vs. 6: -1.4% (-1.5%, -1.2%)\n",
            "deceasedt 10-year chain_class 2 vs. 6: -1.1% (-1.2%, -0.9%)\n",
            "deceasedt 1-year chain_class 1 vs. 6: -0.2% (-0.2%, -0.1%)\n",
            "deceasedt 3-year chain_class 1 vs. 6: -0.8% (-0.9%, -0.7%)\n",
            "deceasedt 5-year chain_class 1 vs. 6: -1.3% (-1.4%, -1.1%)\n",
            "deceasedt 10-year chain_class 1 vs. 6: -1.3% (-1.5%, -1.1%)\n",
            "deceasedt 1-year chain_class 3 vs. 6: -0.3% (-0.3%, -0.2%)\n",
            "deceasedt 3-year chain_class 3 vs. 6: -1.0% (-1.1%, -0.9%)\n",
            "deceasedt 5-year chain_class 3 vs. 6: -1.6% (-1.7%, -1.4%)\n",
            "deceasedt 10-year chain_class 3 vs. 6: -1.4% (-1.6%, -1.2%)\n",
            "deceasedt 1-year chain_class 4 vs. 6: -0.3% (-0.3%, -0.2%)\n",
            "deceasedt 3-year chain_class 4 vs. 6: -1.4% (-1.5%, -1.2%)\n",
            "deceasedt 5-year chain_class 4 vs. 6: -2.3% (-2.5%, -2.1%)\n",
            "deceasedt 10-year chain_class 4 vs. 6: -2.4% (-2.6%, -2.1%)\n"
          ],
          "name": "stdout"
        }
      ]
    }
  ]
}